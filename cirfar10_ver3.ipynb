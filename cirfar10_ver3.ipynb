{
 "cells": [
  {
   "cell_type": "markdown",
   "metadata": {},
   "source": [
    "# 使用Cifar10練習影像分類，模型設計調校"
   ]
  },
  {
   "cell_type": "code",
   "execution_count": 1,
   "metadata": {},
   "outputs": [],
   "source": [
    "#匯入函式庫，數值矩陣計算numpy，以及畫圖用的matplotlib\n",
    "import numpy as np\n",
    "import matplotlib.pyplot as plt\n",
    "\n",
    "#匯入\n",
    "import os\n",
    "os.environ['TF_CPP_MIN_LOG_LEVEL']='2'"
   ]
  },
  {
   "cell_type": "code",
   "execution_count": 2,
   "metadata": {},
   "outputs": [],
   "source": [
    "#匯入tensorflow的函式庫，以及cifar10\n",
    "import tensorflow as tf\n",
    "from tensorflow.keras.datasets import cifar10"
   ]
  },
  {
   "cell_type": "code",
   "execution_count": 3,
   "metadata": {},
   "outputs": [],
   "source": [
    "#註：呼叫這些功能的寫法有兩種，以cifar10為例\n",
    "#一、直接打一整串：tf.keras.datasets.cifar10.load_data()\n",
    "#二、在一開始的地方使用from tensorflow.keras.datasets import cifar10，以後只要用cifar10.load_data()即可"
   ]
  },
  {
   "cell_type": "markdown",
   "metadata": {},
   "source": [
    "## 讀取與檢視資料"
   ]
  },
  {
   "cell_type": "code",
   "execution_count": 4,
   "metadata": {},
   "outputs": [],
   "source": [
    "#使用cifar10的資料集\n",
    "(X_train, Y_train), (X_test, Y_test) = cifar10.load_data()"
   ]
  },
  {
   "cell_type": "code",
   "execution_count": 5,
   "metadata": {},
   "outputs": [
    {
     "data": {
      "text/plain": [
       "(50000, 32, 32, 3)"
      ]
     },
     "execution_count": 5,
     "metadata": {},
     "output_type": "execute_result"
    }
   ],
   "source": [
    "X_train.shape"
   ]
  },
  {
   "cell_type": "code",
   "execution_count": 6,
   "metadata": {},
   "outputs": [
    {
     "data": {
      "text/plain": [
       "<matplotlib.image.AxesImage at 0x7fda5ae8fd90>"
      ]
     },
     "execution_count": 6,
     "metadata": {},
     "output_type": "execute_result"
    },
    {
     "data": {
      "image/png": "[encoded data removed]",
      "text/plain": [
       "<Figure size 432x288 with 1 Axes>"
      ]
     },
     "metadata": {
      "needs_background": "light"
     },
     "output_type": "display_data"
    }
   ],
   "source": [
    "plt.imshow(X_train[56])"
   ]
  },
  {
   "cell_type": "code",
   "execution_count": 7,
   "metadata": {},
   "outputs": [],
   "source": [
    "# 0 : airplain (飛機)\n",
    "# 1 : automobile (汽車)\n",
    "# 2 : bird (鳥)\n",
    "# 3 : cat (貓)\n",
    "# 4 : deer (鹿)\n",
    "# 5 : dog (狗)\n",
    "# 6 : frog (青蛙)\n",
    "# 7 : horse (馬)\n",
    "# 8 : ship (船)\n",
    "# 9 : truck (卡車)"
   ]
  },
  {
   "cell_type": "code",
   "execution_count": null,
   "metadata": {},
   "outputs": [],
   "source": []
  },
  {
   "cell_type": "markdown",
   "metadata": {},
   "source": [
    "## 影像前處理"
   ]
  },
  {
   "cell_type": "code",
   "execution_count": 8,
   "metadata": {},
   "outputs": [],
   "source": [
    "#對影像作正規化\n",
    "x_train = X_train.astype('float32')/255\n",
    "x_test = X_test.astype('float32')/255"
   ]
  },
  {
   "cell_type": "code",
   "execution_count": 9,
   "metadata": {},
   "outputs": [],
   "source": [
    "#對類別資料作One-hot encoding\n",
    "y_train = tf.keras.utils.to_categorical(Y_train)\n",
    "y_test = tf.keras.utils.to_categorical(Y_test)"
   ]
  },
  {
   "cell_type": "code",
   "execution_count": null,
   "metadata": {},
   "outputs": [],
   "source": []
  },
  {
   "cell_type": "markdown",
   "metadata": {},
   "source": [
    "## 建立AI模型"
   ]
  },
  {
   "cell_type": "code",
   "execution_count": 10,
   "metadata": {},
   "outputs": [],
   "source": [
    "#撰寫模型\n",
    "input_layer=tf.keras.layers.Input(shape=(32,32,3))\n",
    "\n",
    "x=tf.keras.layers.Conv2D(filters=32, kernel_size=(3,3), activation='relu')(input_layer)\n",
    "x=tf.keras.layers.Conv2D(filters=32, kernel_size=(3,3), activation='relu')(x)\n",
    "x=tf.keras.layers.MaxPool2D()(x)\n",
    "\n",
    "x=tf.keras.layers.Conv2D(filters=64, kernel_size=(3,3), activation='relu')(x)\n",
    "x=tf.keras.layers.Conv2D(filters=64, kernel_size=(3,3), activation='relu')(x)\n",
    "x=tf.keras.layers.MaxPool2D()(x)\n",
    "\n",
    "x=tf.keras.layers.Flatten()(x)\n",
    "x=tf.keras.layers.Dense(64, activation='relu')(x)\n",
    "x=tf.keras.layers.Dropout(0.5)(x)\n",
    "\n",
    "output_layer=tf.keras.layers.Dense(10, activation='softmax')(x)"
   ]
  },
  {
   "cell_type": "code",
   "execution_count": null,
   "metadata": {},
   "outputs": [],
   "source": []
  },
  {
   "cell_type": "code",
   "execution_count": 11,
   "metadata": {},
   "outputs": [
    {
     "name": "stdout",
     "output_type": "stream",
     "text": [
      "Model: \"model\"\n",
      "_________________________________________________________________\n",
      "Layer (type)                 Output Shape              Param #   \n",
      "=================================================================\n",
      "input_1 (InputLayer)         [(None, 32, 32, 3)]       0         \n",
      "_________________________________________________________________\n",
      "conv2d (Conv2D)              (None, 30, 30, 32)        896       \n",
      "_________________________________________________________________\n",
      "conv2d_1 (Conv2D)            (None, 28, 28, 32)        9248      \n",
      "_________________________________________________________________\n",
      "max_pooling2d (MaxPooling2D) (None, 14, 14, 32)        0         \n",
      "_________________________________________________________________\n",
      "conv2d_2 (Conv2D)            (None, 12, 12, 64)        18496     \n",
      "_________________________________________________________________\n",
      "conv2d_3 (Conv2D)            (None, 10, 10, 64)        36928     \n",
      "_________________________________________________________________\n",
      "max_pooling2d_1 (MaxPooling2 (None, 5, 5, 64)          0         \n",
      "_________________________________________________________________\n",
      "flatten (Flatten)            (None, 1600)              0         \n",
      "_________________________________________________________________\n",
      "dense (Dense)                (None, 64)                102464    \n",
      "_________________________________________________________________\n",
      "dropout (Dropout)            (None, 64)                0         \n",
      "_________________________________________________________________\n",
      "dense_1 (Dense)              (None, 10)                650       \n",
      "=================================================================\n",
      "Total params: 168,682\n",
      "Trainable params: 168,682\n",
      "Non-trainable params: 0\n",
      "_________________________________________________________________\n"
     ]
    }
   ],
   "source": [
    "model=tf.keras.models.Model(inputs=input_layer, outputs=output_layer)\n",
    "model.summary()"
   ]
  },
  {
   "cell_type": "code",
   "execution_count": null,
   "metadata": {},
   "outputs": [],
   "source": []
  },
  {
   "cell_type": "code",
   "execution_count": 12,
   "metadata": {},
   "outputs": [],
   "source": [
    "#data augmentation相關設定\n",
    "datagen = tf.keras.preprocessing.image.ImageDataGenerator(\n",
    "    rotation_range=10,\n",
    "    width_shift_range=0.1,\n",
    "    height_shift_range=0.1,\n",
    "    horizontal_flip=True)  "
   ]
  },
  {
   "cell_type": "code",
   "execution_count": null,
   "metadata": {},
   "outputs": [],
   "source": []
  },
  {
   "cell_type": "markdown",
   "metadata": {},
   "source": [
    "## 開始訓練"
   ]
  },
  {
   "cell_type": "code",
   "execution_count": 13,
   "metadata": {},
   "outputs": [],
   "source": [
    "#告訴AI學習的方式\n",
    "model.compile(optimizer=tf.keras.optimizers.Adam(learning_rate=0.001, decay=1e-6),\n",
    "              loss=tf.keras.losses.CategoricalCrossentropy(),\n",
    "              metrics=[tf.keras.metrics.CategoricalAccuracy()])\n"
   ]
  },
  {
   "cell_type": "code",
   "execution_count": 14,
   "metadata": {},
   "outputs": [],
   "source": [
    "#將訓練的模型置放於model_path下的model_name\n",
    "model_name = 'cirfar10'\n",
    "\n",
    "save_dir = os.path.join(os.getcwd(), 'saved_models')\n",
    "if not os.path.isdir(save_dir):\n",
    "    os.makedirs(save_dir)\n",
    "    \n",
    "model_path = os.path.join(save_dir, model_name)"
   ]
  },
  {
   "cell_type": "code",
   "execution_count": 15,
   "metadata": {},
   "outputs": [],
   "source": [
    "#設定模型存放方式(只存Validation表現最好的那一次)\n",
    "checkpoint = tf.keras.callbacks.ModelCheckpoint(model_path, monitor = 'val_loss', save_best_only = True, verbose = 1)\n",
    "\n",
    "#設定多久沒進步就停下來\n",
    "earlystop = tf.keras.callbacks.EarlyStopping(monitor = 'val_loss', patience = 20, verbose = 1)"
   ]
  },
  {
   "cell_type": "code",
   "execution_count": 16,
   "metadata": {},
   "outputs": [
    {
     "name": "stdout",
     "output_type": "stream",
     "text": [
      "Epoch 1/70\n",
      "1562/1562 [==============================] - 21s 12ms/step - loss: 1.8222 - categorical_accuracy: 0.3192 - val_loss: 1.4090 - val_categorical_accuracy: 0.4954\n",
      "\n",
      "Epoch 00001: val_loss improved from inf to 1.40903, saving model to /home/h282475249/image_classification/saved_models/cirfar10\n",
      "INFO:tensorflow:Assets written to: /home/h282475249/image_classification/saved_models/cirfar10/assets\n",
      "Epoch 2/70\n",
      "1562/1562 [==============================] - 17s 11ms/step - loss: 1.4993 - categorical_accuracy: 0.4559 - val_loss: 1.2183 - val_categorical_accuracy: 0.5597\n",
      "\n",
      "Epoch 00002: val_loss improved from 1.40903 to 1.21830, saving model to /home/h282475249/image_classification/saved_models/cirfar10\n",
      "INFO:tensorflow:Assets written to: /home/h282475249/image_classification/saved_models/cirfar10/assets\n",
      "Epoch 3/70\n",
      "1562/1562 [==============================] - 18s 12ms/step - loss: 1.3728 - categorical_accuracy: 0.5072 - val_loss: 1.1671 - val_categorical_accuracy: 0.5779\n",
      "\n",
      "Epoch 00003: val_loss improved from 1.21830 to 1.16707, saving model to /home/h282475249/image_classification/saved_models/cirfar10\n",
      "INFO:tensorflow:Assets written to: /home/h282475249/image_classification/saved_models/cirfar10/assets\n",
      "Epoch 4/70\n",
      "1562/1562 [==============================] - 17s 11ms/step - loss: 1.2805 - categorical_accuracy: 0.5428 - val_loss: 1.1799 - val_categorical_accuracy: 0.5823\n",
      "\n",
      "Epoch 00004: val_loss did not improve from 1.16707\n",
      "Epoch 5/70\n",
      "1562/1562 [==============================] - 17s 11ms/step - loss: 1.2160 - categorical_accuracy: 0.5700 - val_loss: 0.9833 - val_categorical_accuracy: 0.6474\n",
      "\n",
      "Epoch 00005: val_loss improved from 1.16707 to 0.98334, saving model to /home/h282475249/image_classification/saved_models/cirfar10\n",
      "INFO:tensorflow:Assets written to: /home/h282475249/image_classification/saved_models/cirfar10/assets\n",
      "Epoch 6/70\n",
      "1562/1562 [==============================] - 17s 11ms/step - loss: 1.1633 - categorical_accuracy: 0.5905 - val_loss: 0.9568 - val_categorical_accuracy: 0.6590\n",
      "\n",
      "Epoch 00006: val_loss improved from 0.98334 to 0.95682, saving model to /home/h282475249/image_classification/saved_models/cirfar10\n",
      "INFO:tensorflow:Assets written to: /home/h282475249/image_classification/saved_models/cirfar10/assets\n",
      "Epoch 7/70\n",
      "1562/1562 [==============================] - 17s 11ms/step - loss: 1.1280 - categorical_accuracy: 0.6034 - val_loss: 0.9561 - val_categorical_accuracy: 0.6595\n",
      "\n",
      "Epoch 00007: val_loss improved from 0.95682 to 0.95611, saving model to /home/h282475249/image_classification/saved_models/cirfar10\n",
      "INFO:tensorflow:Assets written to: /home/h282475249/image_classification/saved_models/cirfar10/assets\n",
      "Epoch 8/70\n",
      "1562/1562 [==============================] - 17s 11ms/step - loss: 1.0917 - categorical_accuracy: 0.6189 - val_loss: 0.9224 - val_categorical_accuracy: 0.6744\n",
      "\n",
      "Epoch 00008: val_loss improved from 0.95611 to 0.92237, saving model to /home/h282475249/image_classification/saved_models/cirfar10\n",
      "INFO:tensorflow:Assets written to: /home/h282475249/image_classification/saved_models/cirfar10/assets\n",
      "Epoch 9/70\n",
      "1562/1562 [==============================] - 17s 11ms/step - loss: 1.0619 - categorical_accuracy: 0.6281 - val_loss: 0.9039 - val_categorical_accuracy: 0.6838\n",
      "\n",
      "Epoch 00009: val_loss improved from 0.92237 to 0.90391, saving model to /home/h282475249/image_classification/saved_models/cirfar10\n",
      "INFO:tensorflow:Assets written to: /home/h282475249/image_classification/saved_models/cirfar10/assets\n",
      "Epoch 10/70\n",
      "1562/1562 [==============================] - 17s 11ms/step - loss: 1.0308 - categorical_accuracy: 0.6389 - val_loss: 0.8657 - val_categorical_accuracy: 0.6940\n",
      "\n",
      "Epoch 00010: val_loss improved from 0.90391 to 0.86567, saving model to /home/h282475249/image_classification/saved_models/cirfar10\n",
      "INFO:tensorflow:Assets written to: /home/h282475249/image_classification/saved_models/cirfar10/assets\n",
      "Epoch 11/70\n",
      "1562/1562 [==============================] - 17s 11ms/step - loss: 1.0121 - categorical_accuracy: 0.6456 - val_loss: 0.8609 - val_categorical_accuracy: 0.7001\n",
      "\n",
      "Epoch 00011: val_loss improved from 0.86567 to 0.86087, saving model to /home/h282475249/image_classification/saved_models/cirfar10\n",
      "INFO:tensorflow:Assets written to: /home/h282475249/image_classification/saved_models/cirfar10/assets\n",
      "Epoch 12/70\n",
      "1562/1562 [==============================] - 17s 11ms/step - loss: 1.0020 - categorical_accuracy: 0.6518 - val_loss: 0.8955 - val_categorical_accuracy: 0.6954\n",
      "\n",
      "Epoch 00012: val_loss did not improve from 0.86087\n",
      "Epoch 13/70\n",
      "1562/1562 [==============================] - 17s 11ms/step - loss: 0.9844 - categorical_accuracy: 0.6598 - val_loss: 0.8438 - val_categorical_accuracy: 0.7078\n",
      "\n",
      "Epoch 00013: val_loss improved from 0.86087 to 0.84377, saving model to /home/h282475249/image_classification/saved_models/cirfar10\n",
      "INFO:tensorflow:Assets written to: /home/h282475249/image_classification/saved_models/cirfar10/assets\n",
      "Epoch 14/70\n",
      "1562/1562 [==============================] - 17s 11ms/step - loss: 0.9670 - categorical_accuracy: 0.6626 - val_loss: 0.8077 - val_categorical_accuracy: 0.7204\n",
      "\n",
      "Epoch 00014: val_loss improved from 0.84377 to 0.80773, saving model to /home/h282475249/image_classification/saved_models/cirfar10\n",
      "INFO:tensorflow:Assets written to: /home/h282475249/image_classification/saved_models/cirfar10/assets\n",
      "Epoch 15/70\n",
      "1562/1562 [==============================] - 17s 11ms/step - loss: 0.9443 - categorical_accuracy: 0.6715 - val_loss: 0.8136 - val_categorical_accuracy: 0.7173\n",
      "\n",
      "Epoch 00015: val_loss did not improve from 0.80773\n",
      "Epoch 16/70\n",
      "1562/1562 [==============================] - 17s 11ms/step - loss: 0.9332 - categorical_accuracy: 0.6761 - val_loss: 0.8220 - val_categorical_accuracy: 0.7196\n",
      "\n",
      "Epoch 00016: val_loss did not improve from 0.80773\n",
      "Epoch 17/70\n",
      "1562/1562 [==============================] - 17s 11ms/step - loss: 0.9236 - categorical_accuracy: 0.6813 - val_loss: 0.8243 - val_categorical_accuracy: 0.7185\n",
      "\n",
      "Epoch 00017: val_loss did not improve from 0.80773\n",
      "Epoch 18/70\n",
      "1562/1562 [==============================] - 17s 11ms/step - loss: 0.9085 - categorical_accuracy: 0.6852 - val_loss: 0.8685 - val_categorical_accuracy: 0.7074\n",
      "\n",
      "Epoch 00018: val_loss did not improve from 0.80773\n",
      "Epoch 19/70\n",
      "1562/1562 [==============================] - 17s 11ms/step - loss: 0.8966 - categorical_accuracy: 0.6913 - val_loss: 0.7931 - val_categorical_accuracy: 0.7271\n",
      "\n",
      "Epoch 00019: val_loss improved from 0.80773 to 0.79305, saving model to /home/h282475249/image_classification/saved_models/cirfar10\n",
      "INFO:tensorflow:Assets written to: /home/h282475249/image_classification/saved_models/cirfar10/assets\n",
      "Epoch 20/70\n",
      "1562/1562 [==============================] - 17s 11ms/step - loss: 0.8861 - categorical_accuracy: 0.6947 - val_loss: 0.8241 - val_categorical_accuracy: 0.7169\n",
      "\n",
      "Epoch 00020: val_loss did not improve from 0.79305\n",
      "Epoch 21/70\n",
      "1562/1562 [==============================] - 17s 11ms/step - loss: 0.8760 - categorical_accuracy: 0.6979 - val_loss: 0.8417 - val_categorical_accuracy: 0.7167\n",
      "\n",
      "Epoch 00021: val_loss did not improve from 0.79305\n",
      "Epoch 22/70\n",
      "1562/1562 [==============================] - 17s 11ms/step - loss: 0.8670 - categorical_accuracy: 0.7033 - val_loss: 0.7978 - val_categorical_accuracy: 0.7328\n",
      "\n",
      "Epoch 00022: val_loss did not improve from 0.79305\n",
      "Epoch 23/70\n",
      "1562/1562 [==============================] - 17s 11ms/step - loss: 0.8648 - categorical_accuracy: 0.7050 - val_loss: 0.8081 - val_categorical_accuracy: 0.7305\n",
      "\n",
      "Epoch 00023: val_loss did not improve from 0.79305\n",
      "Epoch 24/70\n",
      "1562/1562 [==============================] - 17s 11ms/step - loss: 0.8563 - categorical_accuracy: 0.7063 - val_loss: 0.7976 - val_categorical_accuracy: 0.7291\n",
      "\n",
      "Epoch 00024: val_loss did not improve from 0.79305\n",
      "Epoch 25/70\n",
      "1562/1562 [==============================] - 17s 11ms/step - loss: 0.8530 - categorical_accuracy: 0.7061 - val_loss: 0.7686 - val_categorical_accuracy: 0.7388\n",
      "\n",
      "Epoch 00025: val_loss improved from 0.79305 to 0.76864, saving model to /home/h282475249/image_classification/saved_models/cirfar10\n",
      "INFO:tensorflow:Assets written to: /home/h282475249/image_classification/saved_models/cirfar10/assets\n",
      "Epoch 26/70\n",
      "1562/1562 [==============================] - 17s 11ms/step - loss: 0.8421 - categorical_accuracy: 0.7115 - val_loss: 0.7400 - val_categorical_accuracy: 0.7487\n",
      "\n",
      "Epoch 00026: val_loss improved from 0.76864 to 0.73997, saving model to /home/h282475249/image_classification/saved_models/cirfar10\n",
      "INFO:tensorflow:Assets written to: /home/h282475249/image_classification/saved_models/cirfar10/assets\n",
      "Epoch 27/70\n",
      "1562/1562 [==============================] - 17s 11ms/step - loss: 0.8368 - categorical_accuracy: 0.7152 - val_loss: 0.7514 - val_categorical_accuracy: 0.7434\n",
      "\n",
      "Epoch 00027: val_loss did not improve from 0.73997\n",
      "Epoch 28/70\n",
      "1562/1562 [==============================] - 17s 11ms/step - loss: 0.8356 - categorical_accuracy: 0.7120 - val_loss: 0.7464 - val_categorical_accuracy: 0.7467\n",
      "\n",
      "Epoch 00028: val_loss did not improve from 0.73997\n",
      "Epoch 29/70\n",
      "1562/1562 [==============================] - 17s 11ms/step - loss: 0.8294 - categorical_accuracy: 0.7186 - val_loss: 0.8166 - val_categorical_accuracy: 0.7319\n",
      "\n",
      "Epoch 00029: val_loss did not improve from 0.73997\n",
      "Epoch 30/70\n",
      "1562/1562 [==============================] - 17s 11ms/step - loss: 0.8167 - categorical_accuracy: 0.7218 - val_loss: 0.8042 - val_categorical_accuracy: 0.7332\n",
      "\n",
      "Epoch 00030: val_loss did not improve from 0.73997\n",
      "Epoch 31/70\n",
      "1562/1562 [==============================] - 18s 11ms/step - loss: 0.8175 - categorical_accuracy: 0.7213 - val_loss: 0.7568 - val_categorical_accuracy: 0.7441\n",
      "\n",
      "Epoch 00031: val_loss did not improve from 0.73997\n",
      "Epoch 32/70\n",
      "1562/1562 [==============================] - 17s 11ms/step - loss: 0.8055 - categorical_accuracy: 0.7252 - val_loss: 0.7228 - val_categorical_accuracy: 0.7562\n",
      "\n",
      "Epoch 00032: val_loss improved from 0.73997 to 0.72275, saving model to /home/h282475249/image_classification/saved_models/cirfar10\n",
      "INFO:tensorflow:Assets written to: /home/h282475249/image_classification/saved_models/cirfar10/assets\n",
      "Epoch 33/70\n",
      "1562/1562 [==============================] - 17s 11ms/step - loss: 0.8008 - categorical_accuracy: 0.7260 - val_loss: 0.7458 - val_categorical_accuracy: 0.7516\n",
      "\n",
      "Epoch 00033: val_loss did not improve from 0.72275\n",
      "Epoch 34/70\n",
      "1562/1562 [==============================] - 17s 11ms/step - loss: 0.8078 - categorical_accuracy: 0.7253 - val_loss: 0.7146 - val_categorical_accuracy: 0.7617\n",
      "\n",
      "Epoch 00034: val_loss improved from 0.72275 to 0.71463, saving model to /home/h282475249/image_classification/saved_models/cirfar10\n",
      "INFO:tensorflow:Assets written to: /home/h282475249/image_classification/saved_models/cirfar10/assets\n",
      "Epoch 35/70\n",
      "1562/1562 [==============================] - 17s 11ms/step - loss: 0.7919 - categorical_accuracy: 0.7319 - val_loss: 0.7535 - val_categorical_accuracy: 0.7453\n",
      "\n",
      "Epoch 00035: val_loss did not improve from 0.71463\n",
      "Epoch 36/70\n",
      "1562/1562 [==============================] - 17s 11ms/step - loss: 0.7905 - categorical_accuracy: 0.7286 - val_loss: 0.7497 - val_categorical_accuracy: 0.7520\n",
      "\n",
      "Epoch 00036: val_loss did not improve from 0.71463\n",
      "Epoch 37/70\n",
      "1562/1562 [==============================] - 17s 11ms/step - loss: 0.7907 - categorical_accuracy: 0.7309 - val_loss: 0.7553 - val_categorical_accuracy: 0.7479\n",
      "\n",
      "Epoch 00037: val_loss did not improve from 0.71463\n",
      "Epoch 38/70\n",
      "1562/1562 [==============================] - 17s 11ms/step - loss: 0.7797 - categorical_accuracy: 0.7324 - val_loss: 0.8092 - val_categorical_accuracy: 0.7423\n",
      "\n",
      "Epoch 00038: val_loss did not improve from 0.71463\n",
      "Epoch 39/70\n",
      "1562/1562 [==============================] - 17s 11ms/step - loss: 0.7761 - categorical_accuracy: 0.7359 - val_loss: 0.7009 - val_categorical_accuracy: 0.7649\n",
      "\n",
      "Epoch 00039: val_loss improved from 0.71463 to 0.70091, saving model to /home/h282475249/image_classification/saved_models/cirfar10\n",
      "INFO:tensorflow:Assets written to: /home/h282475249/image_classification/saved_models/cirfar10/assets\n",
      "Epoch 40/70\n",
      "1562/1562 [==============================] - 17s 11ms/step - loss: 0.7732 - categorical_accuracy: 0.7375 - val_loss: 0.7222 - val_categorical_accuracy: 0.7585\n",
      "\n",
      "Epoch 00040: val_loss did not improve from 0.70091\n",
      "Epoch 41/70\n",
      "1562/1562 [==============================] - 17s 11ms/step - loss: 0.7629 - categorical_accuracy: 0.7419 - val_loss: 0.6981 - val_categorical_accuracy: 0.7654\n",
      "\n",
      "Epoch 00041: val_loss improved from 0.70091 to 0.69807, saving model to /home/h282475249/image_classification/saved_models/cirfar10\n",
      "INFO:tensorflow:Assets written to: /home/h282475249/image_classification/saved_models/cirfar10/assets\n",
      "Epoch 42/70\n",
      "1562/1562 [==============================] - 17s 11ms/step - loss: 0.7620 - categorical_accuracy: 0.7425 - val_loss: 0.7164 - val_categorical_accuracy: 0.7596\n",
      "\n",
      "Epoch 00042: val_loss did not improve from 0.69807\n",
      "Epoch 43/70\n",
      "1562/1562 [==============================] - 17s 11ms/step - loss: 0.7647 - categorical_accuracy: 0.7416 - val_loss: 0.7282 - val_categorical_accuracy: 0.7612\n",
      "\n",
      "Epoch 00043: val_loss did not improve from 0.69807\n",
      "Epoch 44/70\n",
      "1562/1562 [==============================] - 17s 11ms/step - loss: 0.7644 - categorical_accuracy: 0.7416 - val_loss: 0.7405 - val_categorical_accuracy: 0.7600\n",
      "\n",
      "Epoch 00044: val_loss did not improve from 0.69807\n",
      "Epoch 45/70\n",
      "1562/1562 [==============================] - 17s 11ms/step - loss: 0.7577 - categorical_accuracy: 0.7442 - val_loss: 0.7721 - val_categorical_accuracy: 0.7555\n",
      "\n",
      "Epoch 00045: val_loss did not improve from 0.69807\n",
      "Epoch 46/70\n",
      "1562/1562 [==============================] - 17s 11ms/step - loss: 0.7500 - categorical_accuracy: 0.7463 - val_loss: 0.7671 - val_categorical_accuracy: 0.7504\n",
      "\n",
      "Epoch 00046: val_loss did not improve from 0.69807\n",
      "Epoch 47/70\n",
      "1562/1562 [==============================] - 17s 11ms/step - loss: 0.7457 - categorical_accuracy: 0.7480 - val_loss: 0.7290 - val_categorical_accuracy: 0.7633\n",
      "\n",
      "Epoch 00047: val_loss did not improve from 0.69807\n",
      "Epoch 48/70\n",
      "1562/1562 [==============================] - 17s 11ms/step - loss: 0.7454 - categorical_accuracy: 0.7490 - val_loss: 0.7230 - val_categorical_accuracy: 0.7696\n",
      "\n",
      "Epoch 00048: val_loss did not improve from 0.69807\n",
      "Epoch 49/70\n",
      "1562/1562 [==============================] - 17s 11ms/step - loss: 0.7411 - categorical_accuracy: 0.7485 - val_loss: 0.6904 - val_categorical_accuracy: 0.7747\n",
      "\n",
      "Epoch 00049: val_loss improved from 0.69807 to 0.69040, saving model to /home/h282475249/image_classification/saved_models/cirfar10\n",
      "INFO:tensorflow:Assets written to: /home/h282475249/image_classification/saved_models/cirfar10/assets\n",
      "Epoch 50/70\n",
      "1562/1562 [==============================] - 17s 11ms/step - loss: 0.7315 - categorical_accuracy: 0.7516 - val_loss: 0.6853 - val_categorical_accuracy: 0.7804\n",
      "\n",
      "Epoch 00050: val_loss improved from 0.69040 to 0.68530, saving model to /home/h282475249/image_classification/saved_models/cirfar10\n",
      "INFO:tensorflow:Assets written to: /home/h282475249/image_classification/saved_models/cirfar10/assets\n",
      "Epoch 51/70\n",
      "1562/1562 [==============================] - 17s 11ms/step - loss: 0.7407 - categorical_accuracy: 0.7491 - val_loss: 0.7183 - val_categorical_accuracy: 0.7646\n",
      "\n",
      "Epoch 00051: val_loss did not improve from 0.68530\n",
      "Epoch 52/70\n",
      "1562/1562 [==============================] - 17s 11ms/step - loss: 0.7338 - categorical_accuracy: 0.7516 - val_loss: 0.6907 - val_categorical_accuracy: 0.7719\n",
      "\n",
      "Epoch 00052: val_loss did not improve from 0.68530\n",
      "Epoch 53/70\n",
      "1562/1562 [==============================] - 17s 11ms/step - loss: 0.7266 - categorical_accuracy: 0.7514 - val_loss: 0.6792 - val_categorical_accuracy: 0.7785\n",
      "\n",
      "Epoch 00053: val_loss improved from 0.68530 to 0.67921, saving model to /home/h282475249/image_classification/saved_models/cirfar10\n",
      "INFO:tensorflow:Assets written to: /home/h282475249/image_classification/saved_models/cirfar10/assets\n",
      "Epoch 54/70\n",
      "1562/1562 [==============================] - 17s 11ms/step - loss: 0.7234 - categorical_accuracy: 0.7559 - val_loss: 0.6635 - val_categorical_accuracy: 0.7788\n",
      "\n",
      "Epoch 00054: val_loss improved from 0.67921 to 0.66347, saving model to /home/h282475249/image_classification/saved_models/cirfar10\n",
      "INFO:tensorflow:Assets written to: /home/h282475249/image_classification/saved_models/cirfar10/assets\n",
      "Epoch 55/70\n",
      "1562/1562 [==============================] - 17s 11ms/step - loss: 0.7231 - categorical_accuracy: 0.7571 - val_loss: 0.7170 - val_categorical_accuracy: 0.7730\n",
      "\n",
      "Epoch 00055: val_loss did not improve from 0.66347\n",
      "Epoch 56/70\n",
      "1562/1562 [==============================] - 17s 11ms/step - loss: 0.7200 - categorical_accuracy: 0.7567 - val_loss: 0.7079 - val_categorical_accuracy: 0.7744\n",
      "\n",
      "Epoch 00056: val_loss did not improve from 0.66347\n",
      "Epoch 57/70\n",
      "1562/1562 [==============================] - 17s 11ms/step - loss: 0.7183 - categorical_accuracy: 0.7573 - val_loss: 0.7223 - val_categorical_accuracy: 0.7719\n",
      "\n",
      "Epoch 00057: val_loss did not improve from 0.66347\n",
      "Epoch 58/70\n",
      "1562/1562 [==============================] - 17s 11ms/step - loss: 0.7159 - categorical_accuracy: 0.7561 - val_loss: 0.6515 - val_categorical_accuracy: 0.7862\n",
      "\n",
      "Epoch 00058: val_loss improved from 0.66347 to 0.65152, saving model to /home/h282475249/image_classification/saved_models/cirfar10\n",
      "INFO:tensorflow:Assets written to: /home/h282475249/image_classification/saved_models/cirfar10/assets\n",
      "Epoch 59/70\n",
      "1562/1562 [==============================] - 17s 11ms/step - loss: 0.7146 - categorical_accuracy: 0.7574 - val_loss: 0.6730 - val_categorical_accuracy: 0.7822\n",
      "\n",
      "Epoch 00059: val_loss did not improve from 0.65152\n",
      "Epoch 60/70\n",
      "1562/1562 [==============================] - 17s 11ms/step - loss: 0.7036 - categorical_accuracy: 0.7621 - val_loss: 0.7039 - val_categorical_accuracy: 0.7695\n",
      "\n",
      "Epoch 00060: val_loss did not improve from 0.65152\n",
      "Epoch 61/70\n",
      "1562/1562 [==============================] - 17s 11ms/step - loss: 0.7125 - categorical_accuracy: 0.7614 - val_loss: 0.6647 - val_categorical_accuracy: 0.7839\n",
      "\n",
      "Epoch 00061: val_loss did not improve from 0.65152\n",
      "Epoch 62/70\n",
      "1562/1562 [==============================] - 17s 11ms/step - loss: 0.7086 - categorical_accuracy: 0.7599 - val_loss: 0.7296 - val_categorical_accuracy: 0.7661\n",
      "\n",
      "Epoch 00062: val_loss did not improve from 0.65152\n",
      "Epoch 63/70\n",
      "1562/1562 [==============================] - 17s 11ms/step - loss: 0.6950 - categorical_accuracy: 0.7628 - val_loss: 0.6928 - val_categorical_accuracy: 0.7767\n",
      "\n",
      "Epoch 00063: val_loss did not improve from 0.65152\n",
      "Epoch 64/70\n",
      "1562/1562 [==============================] - 17s 11ms/step - loss: 0.6961 - categorical_accuracy: 0.7638 - val_loss: 0.6636 - val_categorical_accuracy: 0.7871\n",
      "\n",
      "Epoch 00064: val_loss did not improve from 0.65152\n",
      "Epoch 65/70\n",
      "1562/1562 [==============================] - 17s 11ms/step - loss: 0.7029 - categorical_accuracy: 0.7635 - val_loss: 0.6333 - val_categorical_accuracy: 0.7934\n",
      "\n",
      "Epoch 00065: val_loss improved from 0.65152 to 0.63334, saving model to /home/h282475249/image_classification/saved_models/cirfar10\n",
      "INFO:tensorflow:Assets written to: /home/h282475249/image_classification/saved_models/cirfar10/assets\n",
      "Epoch 66/70\n",
      "1562/1562 [==============================] - 17s 11ms/step - loss: 0.7052 - categorical_accuracy: 0.7634 - val_loss: 0.7106 - val_categorical_accuracy: 0.7722\n",
      "\n",
      "Epoch 00066: val_loss did not improve from 0.63334\n",
      "Epoch 67/70\n",
      "1562/1562 [==============================] - 17s 11ms/step - loss: 0.6912 - categorical_accuracy: 0.7657 - val_loss: 0.6781 - val_categorical_accuracy: 0.7830\n",
      "\n",
      "Epoch 00067: val_loss did not improve from 0.63334\n",
      "Epoch 68/70\n",
      "1562/1562 [==============================] - 17s 11ms/step - loss: 0.6936 - categorical_accuracy: 0.7647 - val_loss: 0.6622 - val_categorical_accuracy: 0.7848\n",
      "\n",
      "Epoch 00068: val_loss did not improve from 0.63334\n",
      "Epoch 69/70\n",
      "1562/1562 [==============================] - 17s 11ms/step - loss: 0.6884 - categorical_accuracy: 0.7676 - val_loss: 0.6567 - val_categorical_accuracy: 0.7857\n",
      "\n",
      "Epoch 00069: val_loss did not improve from 0.63334\n",
      "Epoch 70/70\n",
      "1562/1562 [==============================] - 17s 11ms/step - loss: 0.6938 - categorical_accuracy: 0.7643 - val_loss: 0.7230 - val_categorical_accuracy: 0.7679\n",
      "\n",
      "Epoch 00070: val_loss did not improve from 0.63334\n"
     ]
    }
   ],
   "source": [
    "#開始訓練，順便把訓練過程存到model_history，方便後續畫圖\n",
    "model_history=model.fit(datagen.flow(x_train, y_train, batch_size=32), epochs=70, \n",
    "                        steps_per_epoch=len(x_train)/32, validation_data=(x_test,y_test), callbacks=[earlystop, checkpoint])"
   ]
  },
  {
   "cell_type": "code",
   "execution_count": null,
   "metadata": {},
   "outputs": [],
   "source": []
  },
  {
   "cell_type": "code",
   "execution_count": null,
   "metadata": {},
   "outputs": [],
   "source": []
  },
  {
   "cell_type": "markdown",
   "metadata": {},
   "source": [
    "## 畫圖"
   ]
  },
  {
   "cell_type": "code",
   "execution_count": 26,
   "metadata": {},
   "outputs": [
    {
     "data": {
      "text/plain": [
       "dict_keys(['loss', 'categorical_accuracy', 'val_loss', 'val_categorical_accuracy'])"
      ]
     },
     "execution_count": 26,
     "metadata": {},
     "output_type": "execute_result"
    }
   ],
   "source": [
    "model_history.history.keys()"
   ]
  },
  {
   "cell_type": "code",
   "execution_count": 27,
   "metadata": {},
   "outputs": [],
   "source": [
    "training_loss = model_history.history['loss']\n",
    "val_loss = model_history.history['val_loss']\n",
    "\n",
    "training_acc = model_history.history['categorical_accuracy']\n",
    "val_acc = model_history.history['val_categorical_accuracy']"
   ]
  },
  {
   "cell_type": "code",
   "execution_count": 28,
   "metadata": {},
   "outputs": [
    {
     "data": {
      "image/png": "[encoded data removed]",
      "text/plain": [
       "<Figure size 1296x504 with 2 Axes>"
      ]
     },
     "metadata": {
      "needs_background": "light"
     },
     "output_type": "display_data"
    }
   ],
   "source": [
    "#畫圖\n",
    "plt.figure(figsize=(18, 7))\n",
    "plt.subplot(121)\n",
    "plt.plot(training_loss, label=\"training_loss\")\n",
    "plt.plot(val_loss, label=\"validation_loss\")\n",
    "plt.xlabel(\"Epochs\")\n",
    "plt.ylabel(\"Loss\")\n",
    "plt.title(\"Learning Curve\")\n",
    "plt.legend(loc='best')\n",
    "\n",
    "plt.subplot(122)\n",
    "plt.plot(training_acc, label=\"training_acc\")\n",
    "plt.plot(val_acc, label=\"validation_acc\")\n",
    "plt.legend(loc='upper left')\n",
    "plt.xlabel(\"Epochs\")\n",
    "plt.ylabel(\"Accuracy\")\n",
    "plt.title(\"Accuracy Curve\")\n",
    "plt.legend(loc='best')\n",
    "\n",
    "plt.show()"
   ]
  },
  {
   "cell_type": "code",
   "execution_count": null,
   "metadata": {},
   "outputs": [],
   "source": []
  },
  {
   "cell_type": "markdown",
   "metadata": {},
   "source": [
    "## 作預測"
   ]
  },
  {
   "cell_type": "code",
   "execution_count": 29,
   "metadata": {},
   "outputs": [],
   "source": [
    "#載入訓練好的模型\n",
    "model = tf.keras.models.load_model(model_path)"
   ]
  },
  {
   "cell_type": "code",
   "execution_count": 30,
   "metadata": {},
   "outputs": [],
   "source": [
    "#使用AI模型作預測\n",
    "pred=model.predict(x_test)"
   ]
  },
  {
   "cell_type": "code",
   "execution_count": 31,
   "metadata": {},
   "outputs": [],
   "source": [
    "#將預測的機率轉換成類別\n",
    "ans=np.argmax(pred, axis=-1)"
   ]
  },
  {
   "cell_type": "code",
   "execution_count": null,
   "metadata": {},
   "outputs": [],
   "source": []
  },
  {
   "cell_type": "code",
   "execution_count": 32,
   "metadata": {},
   "outputs": [
    {
     "name": "stdout",
     "output_type": "stream",
     "text": [
      "[[840  16  43  11  10   1  11   7  31  30]\n",
      " [  3 935   1   3   0   2   6   1  11  38]\n",
      " [ 61   2 651  48  42  64  96  19   7  10]\n",
      " [ 17   6  37 551  25 212  98  21   9  24]\n",
      " [ 13   0  55  49 706  24  86  59   3   5]\n",
      " [  9   2  28  88  27 766  33  33   3  11]\n",
      " [  6   2  21  31   2  12 913   4   4   5]\n",
      " [ 13   1  27  32  28  54  15 817   2  11]\n",
      " [ 67  28   7   6   1   1   4   2 854  30]\n",
      " [ 19  51   7   2   1   2   3   2  12 901]]\n"
     ]
    }
   ],
   "source": [
    "#畫出混淆矩陣\n",
    "from sklearn.metrics import confusion_matrix\n",
    "\n",
    "cf_matrix = confusion_matrix(Y_test, ans)\n",
    "print(cf_matrix)"
   ]
  },
  {
   "cell_type": "code",
   "execution_count": 33,
   "metadata": {},
   "outputs": [
    {
     "data": {
      "text/plain": [
       "<AxesSubplot:>"
      ]
     },
     "execution_count": 33,
     "metadata": {},
     "output_type": "execute_result"
    },
    {
     "data": {
      "image/png": "[encoded data removed]",
      "text/plain": [
       "<Figure size 936x936 with 2 Axes>"
      ]
     },
     "metadata": {
      "needs_background": "light"
     },
     "output_type": "display_data"
    }
   ],
   "source": [
    "#對混淆矩陣畫圖\n",
    "import seaborn as sns\n",
    "fig, ax = plt.subplots(figsize=(13,13))\n",
    "sns.heatmap(cf_matrix, fmt='g', annot=True, annot_kws={\"size\":12})"
   ]
  },
  {
   "cell_type": "code",
   "execution_count": null,
   "metadata": {},
   "outputs": [],
   "source": []
  },
  {
   "cell_type": "code",
   "execution_count": 34,
   "metadata": {},
   "outputs": [
    {
     "name": "stdout",
     "output_type": "stream",
     "text": [
      "              precision    recall  f1-score   support\n",
      "\n",
      "           0       0.80      0.84      0.82      1000\n",
      "           1       0.90      0.94      0.92      1000\n",
      "           2       0.74      0.65      0.69      1000\n",
      "           3       0.67      0.55      0.61      1000\n",
      "           4       0.84      0.71      0.77      1000\n",
      "           5       0.67      0.77      0.72      1000\n",
      "           6       0.72      0.91      0.81      1000\n",
      "           7       0.85      0.82      0.83      1000\n",
      "           8       0.91      0.85      0.88      1000\n",
      "           9       0.85      0.90      0.87      1000\n",
      "\n",
      "    accuracy                           0.79     10000\n",
      "   macro avg       0.79      0.79      0.79     10000\n",
      "weighted avg       0.79      0.79      0.79     10000\n",
      "\n"
     ]
    }
   ],
   "source": [
    "#計算統計指標\n",
    "from sklearn.metrics import classification_report\n",
    "report = classification_report(Y_test, ans)\n",
    "print(report)"
   ]
  },
  {
   "cell_type": "code",
   "execution_count": null,
   "metadata": {},
   "outputs": [],
   "source": []
  }
 ],
 "metadata": {
  "kernelspec": {
   "display_name": "Python 3 (ipykernel)",
   "language": "python",
   "name": "python3"
  },
  "language_info": {
   "codemirror_mode": {
    "name": "ipython",
    "version": 3
   },
   "file_extension": ".py",
   "mimetype": "text/x-python",
   "name": "python",
   "nbconvert_exporter": "python",
   "pygments_lexer": "ipython3",
   "version": "3.8.10"
  }
 },
 "nbformat": 4,
 "nbformat_minor": 4
}
