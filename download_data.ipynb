{
 "cells": [
  {
   "cell_type": "markdown",
   "id": "b5e83979",
   "metadata": {},
   "source": [
    "## 下載kaggle的資料集，最後會產生一個chest_xray的資料夾"
   ]
  },
  {
   "cell_type": "code",
   "execution_count": null,
   "id": "e0ca9f2e",
   "metadata": {},
   "outputs": [],
   "source": [
    "# 安裝kaggle的套件\n",
    "!pip install -q kaggle"
   ]
  },
  {
   "cell_type": "code",
   "execution_count": 2,
   "id": "f9c1adcc",
   "metadata": {},
   "outputs": [
    {
     "name": "stdout",
     "output_type": "stream",
     "text": [
      "mkdir: cannot create directory ‘/home/h282475249/.kaggle’: File exists\n"
     ]
    }
   ],
   "source": [
    "# 在根目錄底下建立一個kaggle的資料夾\n",
    "!mkdir ~/.kaggle"
   ]
  },
  {
   "cell_type": "code",
   "execution_count": 3,
   "id": "372948a9",
   "metadata": {},
   "outputs": [],
   "source": [
    "# 將kaggle.json設定檔複製到根目錄底下\n",
    "!cp kaggle.json ~/.kaggle/"
   ]
  },
  {
   "cell_type": "code",
   "execution_count": 4,
   "id": "b39b7ceb",
   "metadata": {},
   "outputs": [],
   "source": [
    "# 設定權限\n",
    "!chmod 600 ~/.kaggle/kaggle.json"
   ]
  },
  {
   "cell_type": "code",
   "execution_count": 5,
   "id": "e0c4b89b",
   "metadata": {},
   "outputs": [
    {
     "name": "stdout",
     "output_type": "stream",
     "text": [
      "Downloading chest-xray-pneumonia.zip to /home/h282475249/image_classification\n",
      " 99%|█████████████████████████████████████▋| 2.27G/2.29G [00:43<00:00, 59.4MB/s]\n",
      "100%|██████████████████████████████████████| 2.29G/2.29G [00:43<00:00, 56.7MB/s]\n"
     ]
    }
   ],
   "source": [
    "# 下載檔案 (需要一些時間)\n",
    "!kaggle datasets download -d paultimothymooney/chest-xray-pneumonia"
   ]
  },
  {
   "cell_type": "code",
   "execution_count": 7,
   "id": "27cb9ac3",
   "metadata": {},
   "outputs": [],
   "source": [
    "# 解壓縮 (需要一些時間)\n",
    "!unzip -q chest-xray-pneumonia.zip"
   ]
  },
  {
   "cell_type": "code",
   "execution_count": null,
   "id": "448fcce3",
   "metadata": {},
   "outputs": [],
   "source": []
  }
 ],
 "metadata": {
  "kernelspec": {
   "display_name": "Python 3 (ipykernel)",
   "language": "python",
   "name": "python3"
  },
  "language_info": {
   "codemirror_mode": {
    "name": "ipython",
    "version": 3
   },
   "file_extension": ".py",
   "mimetype": "text/x-python",
   "name": "python",
   "nbconvert_exporter": "python",
   "pygments_lexer": "ipython3",
   "version": "3.8.10"
  }
 },
 "nbformat": 4,
 "nbformat_minor": 5
}
