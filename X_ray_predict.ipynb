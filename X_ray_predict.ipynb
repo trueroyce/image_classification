{
 "cells": [
  {
   "cell_type": "markdown",
   "metadata": {},
   "source": [
    "#### 匯入函式庫"
   ]
  },
  {
   "cell_type": "code",
   "execution_count": 1,
   "metadata": {},
   "outputs": [],
   "source": [
    "#匯入函式庫，數值矩陣計算numpy，以及畫圖用的matplotlib\n",
    "import numpy as np\n",
    "import matplotlib as mpl\n",
    "import matplotlib.pyplot as plt\n",
    "\n",
    "#匯入\n",
    "import os\n",
    "os.environ['TF_CPP_MIN_LOG_LEVEL']='2'"
   ]
  },
  {
   "cell_type": "code",
   "execution_count": 2,
   "metadata": {},
   "outputs": [],
   "source": [
    "import tensorflow as tf"
   ]
  },
  {
   "cell_type": "code",
   "execution_count": 4,
   "metadata": {},
   "outputs": [],
   "source": [
    "#文件搜索的工具\n",
    "import glob\n",
    "\n",
    "#這是一個看迴圈進度條的小工具\n",
    "from tqdm import tqdm \n",
    "\n",
    "#匯入電腦視覺的函式庫，作影像讀取和分析使用\n",
    "import cv2"
   ]
  },
  {
   "cell_type": "markdown",
   "metadata": {},
   "source": [
    "### 定義測試資料"
   ]
  },
  {
   "cell_type": "code",
   "execution_count": 5,
   "metadata": {},
   "outputs": [],
   "source": [
    "#欲分類的lable與數量\n",
    "labels_name = ['NORMAL', 'PNEUMONIA']\n",
    "num_classes = len(labels_name)\n"
   ]
  },
  {
   "cell_type": "code",
   "execution_count": 6,
   "metadata": {},
   "outputs": [],
   "source": [
    "#建立訓練資料所在的路徑位置與對應的label：(filelist, label)\n",
    "#label為數字，0代表'NORMAL'、1代表'PNEUMONIA'\n",
    "filelist = []\n",
    "label = []\n",
    "for i in labels_name:\n",
    "    class_num = labels_name.index(i)\n",
    "    pathfile = glob.glob('chest_xray/test/'+str(i)+'/*.jpeg')\n",
    "    \n",
    "    for p in pathfile:\n",
    "        filelist.append(p)\n",
    "        label.append(class_num)"
   ]
  },
  {
   "cell_type": "code",
   "execution_count": 7,
   "metadata": {},
   "outputs": [
    {
     "name": "stdout",
     "output_type": "stream",
     "text": [
      "numbers of img: 624\n"
     ]
    }
   ],
   "source": [
    "print('numbers of img:',len(filelist))"
   ]
  },
  {
   "cell_type": "code",
   "execution_count": null,
   "metadata": {},
   "outputs": [],
   "source": []
  },
  {
   "cell_type": "code",
   "execution_count": 8,
   "metadata": {},
   "outputs": [],
   "source": [
    "#影像縮放大小\n",
    "desired_size = 256"
   ]
  },
  {
   "cell_type": "code",
   "execution_count": 9,
   "metadata": {},
   "outputs": [],
   "source": [
    "#定義一個縮放影像(img)至指定大小(desired_size)的函數\n",
    "#等比例縮小，其他地方補黑邊\n",
    "def squared(img, desired_size):\n",
    "    old_size = img.shape[:2]\n",
    "    ratio = float(desired_size)/max(old_size)\n",
    "    new_size = tuple([int(x*ratio) for x in old_size])\n",
    "    img = cv2.resize(img, (new_size[1], new_size[0]))\n",
    "    delta_w = desired_size - new_size[1]\n",
    "    delta_h = desired_size - new_size[0]\n",
    "    top, bottom = delta_h//2, delta_h-(delta_h//2)\n",
    "    left, right = delta_w//2, delta_w-(delta_w//2)\n",
    "    color = [0, 0, 0]\n",
    "    new_img = cv2.copyMakeBorder(img, top, bottom, left, right, cv2.BORDER_CONSTANT,value=color)\n",
    "    return new_img"
   ]
  },
  {
   "cell_type": "markdown",
   "metadata": {},
   "source": [
    "### 開始讀入影像"
   ]
  },
  {
   "cell_type": "code",
   "execution_count": 10,
   "metadata": {},
   "outputs": [],
   "source": [
    "#先宣告一個指定大小的ndarray\n",
    "x_test = np.zeros((len(filelist),desired_size,desired_size,3), dtype=np.float32)"
   ]
  },
  {
   "cell_type": "code",
   "execution_count": 11,
   "metadata": {},
   "outputs": [
    {
     "name": "stderr",
     "output_type": "stream",
     "text": [
      "100%|██████████| 624/624 [00:03<00:00, 161.89it/s]\n"
     ]
    }
   ],
   "source": [
    "#開始讀入影像\n",
    "for i in tqdm(range(len(filelist))):\n",
    "    img = cv2.imread(filelist[i],cv2.IMREAD_GRAYSCALE)\n",
    "    new_img = squared(img, desired_size)\n",
    "\n",
    "#進行正規化(normalization)，常用除255或z-score\n",
    "    m = np.mean(new_img)\n",
    "    s = np.std(new_img)\n",
    "    t = (new_img-m)/s\n",
    "#    t=new_img/255\n",
    "\n",
    "#三個channel可給予不同的處理手法\n",
    "    x_test[i,:,:,0]=t\n",
    "    x_test[i,:,:,1]=t\n",
    "    x_test[i,:,:,2]=t"
   ]
  },
  {
   "cell_type": "markdown",
   "metadata": {},
   "source": [
    "### 模型匯入與切分資料集"
   ]
  },
  {
   "cell_type": "code",
   "execution_count": 12,
   "metadata": {},
   "outputs": [],
   "source": [
    "#撰寫模型的路徑\n",
    "model_name = 'x_ray'\n",
    "save_dir = os.path.join(os.getcwd(), 'saved_models')\n",
    "model_path = os.path.join(save_dir, model_name)"
   ]
  },
  {
   "cell_type": "code",
   "execution_count": 13,
   "metadata": {},
   "outputs": [],
   "source": [
    "#載入訓練好的模型\n",
    "model = tf.keras.models.load_model(model_path)"
   ]
  },
  {
   "cell_type": "code",
   "execution_count": null,
   "metadata": {},
   "outputs": [],
   "source": []
  },
  {
   "cell_type": "markdown",
   "metadata": {},
   "source": [
    "### 預測結果"
   ]
  },
  {
   "cell_type": "code",
   "execution_count": 14,
   "metadata": {},
   "outputs": [],
   "source": [
    "#使用AI模型作預測\n",
    "pred=model.predict(x_test)"
   ]
  },
  {
   "cell_type": "code",
   "execution_count": 15,
   "metadata": {},
   "outputs": [],
   "source": [
    "#將預測的機率轉換成類別\n",
    "ans=np.argmax(pred, axis=-1)"
   ]
  },
  {
   "cell_type": "code",
   "execution_count": 16,
   "metadata": {},
   "outputs": [
    {
     "name": "stdout",
     "output_type": "stream",
     "text": [
      "[[128 106]\n",
      " [  1 389]]\n"
     ]
    }
   ],
   "source": [
    "#畫出混淆矩陣\n",
    "from sklearn.metrics import confusion_matrix\n",
    "\n",
    "cf_matrix = confusion_matrix(label, ans)\n",
    "print(cf_matrix)"
   ]
  },
  {
   "cell_type": "code",
   "execution_count": 17,
   "metadata": {},
   "outputs": [
    {
     "data": {
      "text/plain": [
       "<AxesSubplot:>"
      ]
     },
     "execution_count": 17,
     "metadata": {},
     "output_type": "execute_result"
    },
    {
     "data": {
      "image/png": "[encoded data removed]",
      "text/plain": [
       "<Figure size 576x576 with 2 Axes>"
      ]
     },
     "metadata": {
      "needs_background": "light"
     },
     "output_type": "display_data"
    }
   ],
   "source": [
    "#對混淆矩陣畫圖\n",
    "import seaborn as sns\n",
    "fig, ax = plt.subplots(figsize=(8,8))\n",
    "sns.heatmap(cf_matrix, fmt='g', annot=True, annot_kws={\"size\":12})"
   ]
  },
  {
   "cell_type": "code",
   "execution_count": null,
   "metadata": {},
   "outputs": [],
   "source": []
  },
  {
   "cell_type": "code",
   "execution_count": 18,
   "metadata": {},
   "outputs": [
    {
     "name": "stdout",
     "output_type": "stream",
     "text": [
      "              precision    recall  f1-score   support\n",
      "\n",
      "           0       0.99      0.55      0.71       234\n",
      "           1       0.79      1.00      0.88       390\n",
      "\n",
      "    accuracy                           0.83       624\n",
      "   macro avg       0.89      0.77      0.79       624\n",
      "weighted avg       0.86      0.83      0.81       624\n",
      "\n"
     ]
    }
   ],
   "source": [
    "#計算統計指標\n",
    "from sklearn.metrics import classification_report\n",
    "report = classification_report(label, ans)\n",
    "print(report)"
   ]
  },
  {
   "cell_type": "code",
   "execution_count": null,
   "metadata": {},
   "outputs": [],
   "source": []
  }
 ],
 "metadata": {
  "kernelspec": {
   "display_name": "Python 3 (ipykernel)",
   "language": "python",
   "name": "python3"
  },
  "language_info": {
   "codemirror_mode": {
    "name": "ipython",
    "version": 3
   },
   "file_extension": ".py",
   "mimetype": "text/x-python",
   "name": "python",
   "nbconvert_exporter": "python",
   "pygments_lexer": "ipython3",
   "version": "3.8.10"
  }
 },
 "nbformat": 4,
 "nbformat_minor": 4
}
