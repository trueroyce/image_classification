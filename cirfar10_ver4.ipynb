{
 "cells": [
  {
   "cell_type": "markdown",
   "metadata": {},
   "source": [
    "# 使用Cifar10練習影像分類，遷移學習"
   ]
  },
  {
   "cell_type": "code",
   "execution_count": 1,
   "metadata": {},
   "outputs": [],
   "source": [
    "#匯入函式庫，數值矩陣計算numpy，以及畫圖用的matplotlib\n",
    "import numpy as np\n",
    "import matplotlib.pyplot as plt\n",
    "\n",
    "#匯入\n",
    "import os\n",
    "os.environ['TF_CPP_MIN_LOG_LEVEL']='2'"
   ]
  },
  {
   "cell_type": "code",
   "execution_count": 2,
   "metadata": {},
   "outputs": [],
   "source": [
    "#匯入tensorflow的函式庫，以及cifar10\n",
    "import tensorflow as tf\n",
    "from tensorflow.keras.datasets import cifar10"
   ]
  },
  {
   "cell_type": "code",
   "execution_count": 3,
   "metadata": {},
   "outputs": [],
   "source": [
    "#註：呼叫這些功能的寫法有兩種，以cifar10為例\n",
    "#一、直接打一整串：tf.keras.datasets.cifar10.load_data()\n",
    "#二、在一開始的地方使用from tensorflow.keras.datasets import cifar10，以後只要用cifar10.load_data()即可"
   ]
  },
  {
   "cell_type": "markdown",
   "metadata": {},
   "source": [
    "## 讀取與檢視資料"
   ]
  },
  {
   "cell_type": "code",
   "execution_count": 4,
   "metadata": {},
   "outputs": [],
   "source": [
    "#使用cifar10的資料集\n",
    "(X_train, Y_train), (X_test, Y_test) = cifar10.load_data()"
   ]
  },
  {
   "cell_type": "code",
   "execution_count": 5,
   "metadata": {},
   "outputs": [
    {
     "data": {
      "text/plain": [
       "(50000, 32, 32, 3)"
      ]
     },
     "execution_count": 5,
     "metadata": {},
     "output_type": "execute_result"
    }
   ],
   "source": [
    "X_train.shape"
   ]
  },
  {
   "cell_type": "code",
   "execution_count": 6,
   "metadata": {},
   "outputs": [
    {
     "data": {
      "text/plain": [
       "<matplotlib.image.AxesImage at 0x7fafa5e70190>"
      ]
     },
     "execution_count": 6,
     "metadata": {},
     "output_type": "execute_result"
    },
    {
     "data": {
      "image/png": "[encoded data removed]",
      "text/plain": [
       "<Figure size 432x288 with 1 Axes>"
      ]
     },
     "metadata": {
      "needs_background": "light"
     },
     "output_type": "display_data"
    }
   ],
   "source": [
    "plt.imshow(X_train[56])"
   ]
  },
  {
   "cell_type": "code",
   "execution_count": 7,
   "metadata": {},
   "outputs": [],
   "source": [
    "# 0 : airplain (飛機)\n",
    "# 1 : automobile (汽車)\n",
    "# 2 : bird (鳥)\n",
    "# 3 : cat (貓)\n",
    "# 4 : deer (鹿)\n",
    "# 5 : dog (狗)\n",
    "# 6 : frog (青蛙)\n",
    "# 7 : horse (馬)\n",
    "# 8 : ship (船)\n",
    "# 9 : truck (卡車)"
   ]
  },
  {
   "cell_type": "code",
   "execution_count": null,
   "metadata": {},
   "outputs": [],
   "source": []
  },
  {
   "cell_type": "markdown",
   "metadata": {},
   "source": [
    "## 影像前處理"
   ]
  },
  {
   "cell_type": "code",
   "execution_count": 8,
   "metadata": {},
   "outputs": [],
   "source": [
    "#對影像作正規化\n",
    "x_train = X_train.astype('float32')/255\n",
    "x_test = X_test.astype('float32')/255"
   ]
  },
  {
   "cell_type": "code",
   "execution_count": 9,
   "metadata": {},
   "outputs": [],
   "source": [
    "#對類別資料作One-hot encoding\n",
    "y_train = tf.keras.utils.to_categorical(Y_train)\n",
    "y_test = tf.keras.utils.to_categorical(Y_test)"
   ]
  },
  {
   "cell_type": "code",
   "execution_count": null,
   "metadata": {},
   "outputs": [],
   "source": []
  },
  {
   "cell_type": "markdown",
   "metadata": {},
   "source": [
    "## 建立AI模型"
   ]
  },
  {
   "cell_type": "code",
   "execution_count": 10,
   "metadata": {},
   "outputs": [],
   "source": [
    "#呼叫別人train好的模型，以resnet50為例\n",
    "resmodel = tf.keras.applications.resnet50.ResNet50(weights='imagenet', include_top=False, input_shape = (32, 32, 3))"
   ]
  },
  {
   "cell_type": "code",
   "execution_count": 11,
   "metadata": {},
   "outputs": [],
   "source": [
    "#resmodel.summary()"
   ]
  },
  {
   "cell_type": "code",
   "execution_count": 12,
   "metadata": {},
   "outputs": [],
   "source": [
    "#進階\n",
    "#設定權重的凍結\n",
    "# for layer in resmodel.layers:\n",
    "#     print(layer.name)\n",
    "#     layer.trainable=False"
   ]
  },
  {
   "cell_type": "code",
   "execution_count": 13,
   "metadata": {},
   "outputs": [],
   "source": [
    "#撰寫模型\n",
    "input_layer=tf.keras.layers.Input(shape=(32,32,3))\n",
    "\n",
    "x=resmodel(input_layer)\n",
    "x=tf.keras.layers.GlobalAveragePooling2D()(x)\n",
    "\n",
    "x=tf.keras.layers.Flatten()(x)\n",
    "x=tf.keras.layers.Dense(16, activation='relu')(x)\n",
    "x=tf.keras.layers.Dropout(0.3)(x)\n",
    "\n",
    "output_layer=tf.keras.layers.Dense(10, activation='softmax')(x)"
   ]
  },
  {
   "cell_type": "code",
   "execution_count": null,
   "metadata": {},
   "outputs": [],
   "source": []
  },
  {
   "cell_type": "code",
   "execution_count": 14,
   "metadata": {},
   "outputs": [
    {
     "name": "stdout",
     "output_type": "stream",
     "text": [
      "Model: \"model\"\n",
      "_________________________________________________________________\n",
      "Layer (type)                 Output Shape              Param #   \n",
      "=================================================================\n",
      "input_2 (InputLayer)         [(None, 32, 32, 3)]       0         \n",
      "_________________________________________________________________\n",
      "resnet50 (Functional)        (None, 1, 1, 2048)        23587712  \n",
      "_________________________________________________________________\n",
      "global_average_pooling2d (Gl (None, 2048)              0         \n",
      "_________________________________________________________________\n",
      "flatten (Flatten)            (None, 2048)              0         \n",
      "_________________________________________________________________\n",
      "dense (Dense)                (None, 16)                32784     \n",
      "_________________________________________________________________\n",
      "dropout (Dropout)            (None, 16)                0         \n",
      "_________________________________________________________________\n",
      "dense_1 (Dense)              (None, 10)                170       \n",
      "=================================================================\n",
      "Total params: 23,620,666\n",
      "Trainable params: 23,567,546\n",
      "Non-trainable params: 53,120\n",
      "_________________________________________________________________\n"
     ]
    }
   ],
   "source": [
    "model=tf.keras.models.Model(inputs=input_layer, outputs=output_layer)\n",
    "model.summary()"
   ]
  },
  {
   "cell_type": "code",
   "execution_count": null,
   "metadata": {},
   "outputs": [],
   "source": []
  },
  {
   "cell_type": "code",
   "execution_count": 15,
   "metadata": {},
   "outputs": [],
   "source": [
    "#data augmentation相關設定\n",
    "datagen = tf.keras.preprocessing.image.ImageDataGenerator(\n",
    "    rotation_range=10,\n",
    "    width_shift_range=0.1,\n",
    "    height_shift_range=0.1,\n",
    "    horizontal_flip=True)  "
   ]
  },
  {
   "cell_type": "code",
   "execution_count": null,
   "metadata": {},
   "outputs": [],
   "source": []
  },
  {
   "cell_type": "markdown",
   "metadata": {},
   "source": [
    "## 開始訓練"
   ]
  },
  {
   "cell_type": "code",
   "execution_count": 17,
   "metadata": {},
   "outputs": [],
   "source": [
    "#告訴AI學習的方式\n",
    "model.compile(optimizer=tf.keras.optimizers.Adam(learning_rate=0.0001, decay=1e-6),\n",
    "              loss=tf.keras.losses.CategoricalCrossentropy(),\n",
    "              metrics=[tf.keras.metrics.CategoricalAccuracy()])\n"
   ]
  },
  {
   "cell_type": "code",
   "execution_count": 18,
   "metadata": {},
   "outputs": [],
   "source": [
    "#將訓練的模型置放於model_path下的model_name\n",
    "model_name = 'cirfar10'\n",
    "\n",
    "save_dir = os.path.join(os.getcwd(), 'saved_models')\n",
    "if not os.path.isdir(save_dir):\n",
    "    os.makedirs(save_dir)\n",
    "    \n",
    "model_path = os.path.join(save_dir, model_name)"
   ]
  },
  {
   "cell_type": "code",
   "execution_count": 19,
   "metadata": {},
   "outputs": [],
   "source": [
    "#設定模型存放方式(只存Validation表現最好的那一次)\n",
    "checkpoint = tf.keras.callbacks.ModelCheckpoint(model_path, monitor = 'val_loss', save_best_only = True, verbose = 1)\n",
    "\n",
    "#設定多久沒進步就停下來\n",
    "earlystop = tf.keras.callbacks.EarlyStopping(monitor = 'val_loss', patience = 20, verbose = 1)"
   ]
  },
  {
   "cell_type": "code",
   "execution_count": 20,
   "metadata": {},
   "outputs": [
    {
     "name": "stdout",
     "output_type": "stream",
     "text": [
      "Epoch 1/70\n",
      "1562/1562 [==============================] - 74s 43ms/step - loss: 1.8232 - categorical_accuracy: 0.3794 - val_loss: 1.1013 - val_categorical_accuracy: 0.6526\n",
      "\n",
      "Epoch 00001: val_loss improved from inf to 1.10126, saving model to /home/h282475249/image_classification/saved_models/cirfar10\n"
     ]
    },
    {
     "name": "stderr",
     "output_type": "stream",
     "text": [
      "/usr/local/lib/python3.8/dist-packages/tensorflow/python/keras/utils/generic_utils.py:494: CustomMaskWarning: Custom mask layers require a config and must override get_config. When loading, the custom mask layer must be passed to the custom_objects argument.\n",
      "  warnings.warn('Custom mask layers require a config and must override '\n"
     ]
    },
    {
     "name": "stdout",
     "output_type": "stream",
     "text": [
      "INFO:tensorflow:Assets written to: /home/h282475249/image_classification/saved_models/cirfar10/assets\n",
      "Epoch 2/70\n",
      "1562/1562 [==============================] - 49s 31ms/step - loss: 1.3013 - categorical_accuracy: 0.5740 - val_loss: 1.0038 - val_categorical_accuracy: 0.6922\n",
      "\n",
      "Epoch 00002: val_loss improved from 1.10126 to 1.00378, saving model to /home/h282475249/image_classification/saved_models/cirfar10\n"
     ]
    },
    {
     "name": "stderr",
     "output_type": "stream",
     "text": [
      "/usr/local/lib/python3.8/dist-packages/tensorflow/python/keras/utils/generic_utils.py:494: CustomMaskWarning: Custom mask layers require a config and must override get_config. When loading, the custom mask layer must be passed to the custom_objects argument.\n",
      "  warnings.warn('Custom mask layers require a config and must override '\n"
     ]
    },
    {
     "name": "stdout",
     "output_type": "stream",
     "text": [
      "INFO:tensorflow:Assets written to: /home/h282475249/image_classification/saved_models/cirfar10/assets\n",
      "Epoch 3/70\n",
      "1562/1562 [==============================] - 76s 49ms/step - loss: 1.1069 - categorical_accuracy: 0.6445 - val_loss: 0.8339 - val_categorical_accuracy: 0.7441\n",
      "\n",
      "Epoch 00003: val_loss improved from 1.00378 to 0.83393, saving model to /home/h282475249/image_classification/saved_models/cirfar10\n"
     ]
    },
    {
     "name": "stderr",
     "output_type": "stream",
     "text": [
      "/usr/local/lib/python3.8/dist-packages/tensorflow/python/keras/utils/generic_utils.py:494: CustomMaskWarning: Custom mask layers require a config and must override get_config. When loading, the custom mask layer must be passed to the custom_objects argument.\n",
      "  warnings.warn('Custom mask layers require a config and must override '\n"
     ]
    },
    {
     "name": "stdout",
     "output_type": "stream",
     "text": [
      "INFO:tensorflow:Assets written to: /home/h282475249/image_classification/saved_models/cirfar10/assets\n",
      "Epoch 4/70\n",
      "1562/1562 [==============================] - 51s 32ms/step - loss: 1.0010 - categorical_accuracy: 0.6820 - val_loss: 0.8433 - val_categorical_accuracy: 0.7491\n",
      "\n",
      "Epoch 00004: val_loss did not improve from 0.83393\n",
      "Epoch 5/70\n",
      "1562/1562 [==============================] - 51s 32ms/step - loss: 0.8950 - categorical_accuracy: 0.7189 - val_loss: 0.7391 - val_categorical_accuracy: 0.7685\n",
      "\n",
      "Epoch 00005: val_loss improved from 0.83393 to 0.73905, saving model to /home/h282475249/image_classification/saved_models/cirfar10\n"
     ]
    },
    {
     "name": "stderr",
     "output_type": "stream",
     "text": [
      "/usr/local/lib/python3.8/dist-packages/tensorflow/python/keras/utils/generic_utils.py:494: CustomMaskWarning: Custom mask layers require a config and must override get_config. When loading, the custom mask layer must be passed to the custom_objects argument.\n",
      "  warnings.warn('Custom mask layers require a config and must override '\n"
     ]
    },
    {
     "name": "stdout",
     "output_type": "stream",
     "text": [
      "INFO:tensorflow:Assets written to: /home/h282475249/image_classification/saved_models/cirfar10/assets\n",
      "Epoch 6/70\n",
      "1562/1562 [==============================] - 50s 32ms/step - loss: 0.8331 - categorical_accuracy: 0.7386 - val_loss: 0.7113 - val_categorical_accuracy: 0.7747\n",
      "\n",
      "Epoch 00006: val_loss improved from 0.73905 to 0.71134, saving model to /home/h282475249/image_classification/saved_models/cirfar10\n"
     ]
    },
    {
     "name": "stderr",
     "output_type": "stream",
     "text": [
      "/usr/local/lib/python3.8/dist-packages/tensorflow/python/keras/utils/generic_utils.py:494: CustomMaskWarning: Custom mask layers require a config and must override get_config. When loading, the custom mask layer must be passed to the custom_objects argument.\n",
      "  warnings.warn('Custom mask layers require a config and must override '\n"
     ]
    },
    {
     "name": "stdout",
     "output_type": "stream",
     "text": [
      "INFO:tensorflow:Assets written to: /home/h282475249/image_classification/saved_models/cirfar10/assets\n",
      "Epoch 7/70\n",
      "1562/1562 [==============================] - 50s 32ms/step - loss: 0.7903 - categorical_accuracy: 0.7507 - val_loss: 0.6545 - val_categorical_accuracy: 0.7951\n",
      "\n",
      "Epoch 00007: val_loss improved from 0.71134 to 0.65455, saving model to /home/h282475249/image_classification/saved_models/cirfar10\n"
     ]
    },
    {
     "name": "stderr",
     "output_type": "stream",
     "text": [
      "/usr/local/lib/python3.8/dist-packages/tensorflow/python/keras/utils/generic_utils.py:494: CustomMaskWarning: Custom mask layers require a config and must override get_config. When loading, the custom mask layer must be passed to the custom_objects argument.\n",
      "  warnings.warn('Custom mask layers require a config and must override '\n"
     ]
    },
    {
     "name": "stdout",
     "output_type": "stream",
     "text": [
      "INFO:tensorflow:Assets written to: /home/h282475249/image_classification/saved_models/cirfar10/assets\n",
      "Epoch 8/70\n",
      "1562/1562 [==============================] - 51s 33ms/step - loss: 0.7338 - categorical_accuracy: 0.7693 - val_loss: 0.6305 - val_categorical_accuracy: 0.8071\n",
      "\n",
      "Epoch 00008: val_loss improved from 0.65455 to 0.63046, saving model to /home/h282475249/image_classification/saved_models/cirfar10\n"
     ]
    },
    {
     "name": "stderr",
     "output_type": "stream",
     "text": [
      "/usr/local/lib/python3.8/dist-packages/tensorflow/python/keras/utils/generic_utils.py:494: CustomMaskWarning: Custom mask layers require a config and must override get_config. When loading, the custom mask layer must be passed to the custom_objects argument.\n",
      "  warnings.warn('Custom mask layers require a config and must override '\n"
     ]
    },
    {
     "name": "stdout",
     "output_type": "stream",
     "text": [
      "INFO:tensorflow:Assets written to: /home/h282475249/image_classification/saved_models/cirfar10/assets\n",
      "Epoch 9/70\n",
      "1562/1562 [==============================] - 51s 32ms/step - loss: 0.6985 - categorical_accuracy: 0.7808 - val_loss: 0.5773 - val_categorical_accuracy: 0.8127\n",
      "\n",
      "Epoch 00009: val_loss improved from 0.63046 to 0.57732, saving model to /home/h282475249/image_classification/saved_models/cirfar10\n"
     ]
    },
    {
     "name": "stderr",
     "output_type": "stream",
     "text": [
      "/usr/local/lib/python3.8/dist-packages/tensorflow/python/keras/utils/generic_utils.py:494: CustomMaskWarning: Custom mask layers require a config and must override get_config. When loading, the custom mask layer must be passed to the custom_objects argument.\n",
      "  warnings.warn('Custom mask layers require a config and must override '\n"
     ]
    },
    {
     "name": "stdout",
     "output_type": "stream",
     "text": [
      "INFO:tensorflow:Assets written to: /home/h282475249/image_classification/saved_models/cirfar10/assets\n",
      "Epoch 10/70\n",
      "1562/1562 [==============================] - 51s 32ms/step - loss: 0.6708 - categorical_accuracy: 0.7905 - val_loss: 0.6447 - val_categorical_accuracy: 0.7933\n",
      "\n",
      "Epoch 00010: val_loss did not improve from 0.57732\n",
      "Epoch 11/70\n",
      "1562/1562 [==============================] - 52s 33ms/step - loss: 0.6404 - categorical_accuracy: 0.8014 - val_loss: 0.5702 - val_categorical_accuracy: 0.8253\n",
      "\n",
      "Epoch 00011: val_loss improved from 0.57732 to 0.57023, saving model to /home/h282475249/image_classification/saved_models/cirfar10\n"
     ]
    },
    {
     "name": "stderr",
     "output_type": "stream",
     "text": [
      "/usr/local/lib/python3.8/dist-packages/tensorflow/python/keras/utils/generic_utils.py:494: CustomMaskWarning: Custom mask layers require a config and must override get_config. When loading, the custom mask layer must be passed to the custom_objects argument.\n",
      "  warnings.warn('Custom mask layers require a config and must override '\n"
     ]
    },
    {
     "name": "stdout",
     "output_type": "stream",
     "text": [
      "INFO:tensorflow:Assets written to: /home/h282475249/image_classification/saved_models/cirfar10/assets\n",
      "Epoch 12/70\n",
      "1562/1562 [==============================] - 51s 33ms/step - loss: 0.6196 - categorical_accuracy: 0.8085 - val_loss: 0.7057 - val_categorical_accuracy: 0.7722\n",
      "\n",
      "Epoch 00012: val_loss did not improve from 0.57023\n",
      "Epoch 13/70\n",
      "1562/1562 [==============================] - 50s 32ms/step - loss: 0.6397 - categorical_accuracy: 0.7995 - val_loss: 0.5859 - val_categorical_accuracy: 0.8183\n",
      "\n",
      "Epoch 00013: val_loss did not improve from 0.57023\n",
      "Epoch 14/70\n",
      "1562/1562 [==============================] - 52s 33ms/step - loss: 0.5802 - categorical_accuracy: 0.8198 - val_loss: 0.5251 - val_categorical_accuracy: 0.8418\n",
      "\n",
      "Epoch 00014: val_loss improved from 0.57023 to 0.52512, saving model to /home/h282475249/image_classification/saved_models/cirfar10\n"
     ]
    },
    {
     "name": "stderr",
     "output_type": "stream",
     "text": [
      "/usr/local/lib/python3.8/dist-packages/tensorflow/python/keras/utils/generic_utils.py:494: CustomMaskWarning: Custom mask layers require a config and must override get_config. When loading, the custom mask layer must be passed to the custom_objects argument.\n",
      "  warnings.warn('Custom mask layers require a config and must override '\n"
     ]
    },
    {
     "name": "stdout",
     "output_type": "stream",
     "text": [
      "INFO:tensorflow:Assets written to: /home/h282475249/image_classification/saved_models/cirfar10/assets\n",
      "Epoch 15/70\n",
      "1562/1562 [==============================] - 52s 33ms/step - loss: 0.5625 - categorical_accuracy: 0.8261 - val_loss: 0.4789 - val_categorical_accuracy: 0.8530\n",
      "\n",
      "Epoch 00015: val_loss improved from 0.52512 to 0.47890, saving model to /home/h282475249/image_classification/saved_models/cirfar10\n"
     ]
    },
    {
     "name": "stderr",
     "output_type": "stream",
     "text": [
      "/usr/local/lib/python3.8/dist-packages/tensorflow/python/keras/utils/generic_utils.py:494: CustomMaskWarning: Custom mask layers require a config and must override get_config. When loading, the custom mask layer must be passed to the custom_objects argument.\n",
      "  warnings.warn('Custom mask layers require a config and must override '\n"
     ]
    },
    {
     "name": "stdout",
     "output_type": "stream",
     "text": [
      "INFO:tensorflow:Assets written to: /home/h282475249/image_classification/saved_models/cirfar10/assets\n",
      "Epoch 16/70\n",
      "1562/1562 [==============================] - 51s 33ms/step - loss: 0.5273 - categorical_accuracy: 0.8364 - val_loss: 0.5120 - val_categorical_accuracy: 0.8427\n",
      "\n",
      "Epoch 00016: val_loss did not improve from 0.47890\n",
      "Epoch 17/70\n",
      "1562/1562 [==============================] - 52s 33ms/step - loss: 0.5293 - categorical_accuracy: 0.8385 - val_loss: 0.5171 - val_categorical_accuracy: 0.8405\n",
      "\n",
      "Epoch 00017: val_loss did not improve from 0.47890\n",
      "Epoch 18/70\n",
      "1562/1562 [==============================] - 52s 33ms/step - loss: 0.5030 - categorical_accuracy: 0.8460 - val_loss: 0.4937 - val_categorical_accuracy: 0.8498\n",
      "\n",
      "Epoch 00018: val_loss did not improve from 0.47890\n",
      "Epoch 19/70\n",
      "1562/1562 [==============================] - 53s 34ms/step - loss: 0.4900 - categorical_accuracy: 0.8464 - val_loss: 0.5051 - val_categorical_accuracy: 0.8490\n",
      "\n",
      "Epoch 00019: val_loss did not improve from 0.47890\n",
      "Epoch 20/70\n",
      "1562/1562 [==============================] - 52s 34ms/step - loss: 0.4789 - categorical_accuracy: 0.8518 - val_loss: 0.9008 - val_categorical_accuracy: 0.8320\n",
      "\n",
      "Epoch 00020: val_loss did not improve from 0.47890\n",
      "Epoch 21/70\n",
      "1562/1562 [==============================] - 54s 34ms/step - loss: 0.4703 - categorical_accuracy: 0.8547 - val_loss: 0.5171 - val_categorical_accuracy: 0.8423\n",
      "\n",
      "Epoch 00021: val_loss did not improve from 0.47890\n",
      "Epoch 22/70\n",
      "1562/1562 [==============================] - 54s 34ms/step - loss: 0.4653 - categorical_accuracy: 0.8553 - val_loss: 0.5153 - val_categorical_accuracy: 0.8496\n",
      "\n",
      "Epoch 00022: val_loss did not improve from 0.47890\n",
      "Epoch 23/70\n",
      "1562/1562 [==============================] - 54s 34ms/step - loss: 0.4431 - categorical_accuracy: 0.8634 - val_loss: 0.5086 - val_categorical_accuracy: 0.8501\n",
      "\n",
      "Epoch 00023: val_loss did not improve from 0.47890\n",
      "Epoch 24/70\n",
      "1562/1562 [==============================] - 54s 34ms/step - loss: 0.4311 - categorical_accuracy: 0.8674 - val_loss: 0.4853 - val_categorical_accuracy: 0.8501\n",
      "\n",
      "Epoch 00024: val_loss did not improve from 0.47890\n",
      "Epoch 25/70\n",
      "1562/1562 [==============================] - 53s 34ms/step - loss: 0.4163 - categorical_accuracy: 0.8692 - val_loss: 0.5009 - val_categorical_accuracy: 0.8461\n",
      "\n",
      "Epoch 00025: val_loss did not improve from 0.47890\n",
      "Epoch 26/70\n",
      "1562/1562 [==============================] - 54s 35ms/step - loss: 0.4187 - categorical_accuracy: 0.8725 - val_loss: 0.5058 - val_categorical_accuracy: 0.8444\n",
      "\n",
      "Epoch 00026: val_loss did not improve from 0.47890\n",
      "Epoch 27/70\n",
      "1562/1562 [==============================] - 53s 34ms/step - loss: 0.4131 - categorical_accuracy: 0.8743 - val_loss: 0.6924 - val_categorical_accuracy: 0.8238\n",
      "\n",
      "Epoch 00027: val_loss did not improve from 0.47890\n",
      "Epoch 28/70\n",
      "1562/1562 [==============================] - 53s 34ms/step - loss: 0.4027 - categorical_accuracy: 0.8770 - val_loss: 0.5320 - val_categorical_accuracy: 0.8407\n",
      "\n",
      "Epoch 00028: val_loss did not improve from 0.47890\n",
      "Epoch 29/70\n",
      "1562/1562 [==============================] - 53s 34ms/step - loss: 0.3735 - categorical_accuracy: 0.8854 - val_loss: 0.4697 - val_categorical_accuracy: 0.8576\n",
      "\n",
      "Epoch 00029: val_loss improved from 0.47890 to 0.46971, saving model to /home/h282475249/image_classification/saved_models/cirfar10\n"
     ]
    },
    {
     "name": "stderr",
     "output_type": "stream",
     "text": [
      "/usr/local/lib/python3.8/dist-packages/tensorflow/python/keras/utils/generic_utils.py:494: CustomMaskWarning: Custom mask layers require a config and must override get_config. When loading, the custom mask layer must be passed to the custom_objects argument.\n",
      "  warnings.warn('Custom mask layers require a config and must override '\n"
     ]
    },
    {
     "name": "stdout",
     "output_type": "stream",
     "text": [
      "INFO:tensorflow:Assets written to: /home/h282475249/image_classification/saved_models/cirfar10/assets\n",
      "Epoch 30/70\n",
      "1562/1562 [==============================] - 53s 34ms/step - loss: 0.4046 - categorical_accuracy: 0.8767 - val_loss: 0.5390 - val_categorical_accuracy: 0.8496\n",
      "\n",
      "Epoch 00030: val_loss did not improve from 0.46971\n",
      "Epoch 31/70\n",
      "1562/1562 [==============================] - 52s 34ms/step - loss: 0.3652 - categorical_accuracy: 0.8882 - val_loss: 0.6761 - val_categorical_accuracy: 0.8516\n",
      "\n",
      "Epoch 00031: val_loss did not improve from 0.46971\n",
      "Epoch 32/70\n",
      "1562/1562 [==============================] - 53s 34ms/step - loss: 0.3667 - categorical_accuracy: 0.8880 - val_loss: 0.5096 - val_categorical_accuracy: 0.8517\n",
      "\n",
      "Epoch 00032: val_loss did not improve from 0.46971\n",
      "Epoch 33/70\n",
      "1562/1562 [==============================] - 53s 34ms/step - loss: 0.3501 - categorical_accuracy: 0.8936 - val_loss: 0.5838 - val_categorical_accuracy: 0.8414\n",
      "\n",
      "Epoch 00033: val_loss did not improve from 0.46971\n",
      "Epoch 34/70\n",
      "1562/1562 [==============================] - 53s 34ms/step - loss: 0.3525 - categorical_accuracy: 0.8924 - val_loss: 0.5627 - val_categorical_accuracy: 0.8482\n",
      "\n",
      "Epoch 00034: val_loss did not improve from 0.46971\n",
      "Epoch 35/70\n",
      "1562/1562 [==============================] - 53s 34ms/step - loss: 0.3495 - categorical_accuracy: 0.8941 - val_loss: 0.4920 - val_categorical_accuracy: 0.8567\n",
      "\n",
      "Epoch 00035: val_loss did not improve from 0.46971\n",
      "Epoch 36/70\n",
      "1562/1562 [==============================] - 53s 34ms/step - loss: 0.3342 - categorical_accuracy: 0.8966 - val_loss: 0.7730 - val_categorical_accuracy: 0.8353\n",
      "\n",
      "Epoch 00036: val_loss did not improve from 0.46971\n",
      "Epoch 37/70\n",
      "1562/1562 [==============================] - 54s 34ms/step - loss: 0.3243 - categorical_accuracy: 0.9018 - val_loss: 0.5673 - val_categorical_accuracy: 0.8436\n",
      "\n",
      "Epoch 00037: val_loss did not improve from 0.46971\n",
      "Epoch 38/70\n",
      "1562/1562 [==============================] - 53s 34ms/step - loss: 0.3175 - categorical_accuracy: 0.9022 - val_loss: 0.6210 - val_categorical_accuracy: 0.8363\n",
      "\n",
      "Epoch 00038: val_loss did not improve from 0.46971\n",
      "Epoch 39/70\n",
      "1562/1562 [==============================] - 53s 34ms/step - loss: 0.3243 - categorical_accuracy: 0.9020 - val_loss: 0.5578 - val_categorical_accuracy: 0.8461\n",
      "\n",
      "Epoch 00039: val_loss did not improve from 0.46971\n",
      "Epoch 40/70\n",
      "1562/1562 [==============================] - 52s 34ms/step - loss: 0.3022 - categorical_accuracy: 0.9089 - val_loss: 0.6011 - val_categorical_accuracy: 0.8420\n",
      "\n",
      "Epoch 00040: val_loss did not improve from 0.46971\n",
      "Epoch 41/70\n",
      "1562/1562 [==============================] - 52s 33ms/step - loss: 0.2968 - categorical_accuracy: 0.9100 - val_loss: 0.5147 - val_categorical_accuracy: 0.8639\n",
      "\n",
      "Epoch 00041: val_loss did not improve from 0.46971\n",
      "Epoch 42/70\n",
      "1562/1562 [==============================] - 53s 34ms/step - loss: 0.2968 - categorical_accuracy: 0.9094 - val_loss: 0.5281 - val_categorical_accuracy: 0.8565\n",
      "\n",
      "Epoch 00042: val_loss did not improve from 0.46971\n",
      "Epoch 43/70\n",
      "1562/1562 [==============================] - 53s 34ms/step - loss: 0.2942 - categorical_accuracy: 0.9107 - val_loss: 0.6150 - val_categorical_accuracy: 0.8402\n",
      "\n",
      "Epoch 00043: val_loss did not improve from 0.46971\n",
      "Epoch 44/70\n",
      "1562/1562 [==============================] - 52s 33ms/step - loss: 0.2826 - categorical_accuracy: 0.9121 - val_loss: 0.6905 - val_categorical_accuracy: 0.8457\n",
      "\n",
      "Epoch 00044: val_loss did not improve from 0.46971\n",
      "Epoch 45/70\n",
      "1562/1562 [==============================] - 53s 34ms/step - loss: 0.2720 - categorical_accuracy: 0.9158 - val_loss: 0.6025 - val_categorical_accuracy: 0.8540\n",
      "\n",
      "Epoch 00045: val_loss did not improve from 0.46971\n",
      "Epoch 46/70\n",
      "1562/1562 [==============================] - 53s 34ms/step - loss: 0.2764 - categorical_accuracy: 0.9159 - val_loss: 0.7288 - val_categorical_accuracy: 0.8456\n",
      "\n",
      "Epoch 00046: val_loss did not improve from 0.46971\n",
      "Epoch 47/70\n",
      "1562/1562 [==============================] - 52s 34ms/step - loss: 0.2704 - categorical_accuracy: 0.9175 - val_loss: 0.5463 - val_categorical_accuracy: 0.8585\n",
      "\n",
      "Epoch 00047: val_loss did not improve from 0.46971\n",
      "Epoch 48/70\n",
      "1562/1562 [==============================] - 52s 33ms/step - loss: 0.2650 - categorical_accuracy: 0.9206 - val_loss: 0.5502 - val_categorical_accuracy: 0.8686\n",
      "\n",
      "Epoch 00048: val_loss did not improve from 0.46971\n",
      "Epoch 49/70\n",
      "1562/1562 [==============================] - 53s 34ms/step - loss: 0.2575 - categorical_accuracy: 0.9197 - val_loss: 0.6075 - val_categorical_accuracy: 0.8495\n",
      "\n",
      "Epoch 00049: val_loss did not improve from 0.46971\n",
      "Epoch 00049: early stopping\n"
     ]
    }
   ],
   "source": [
    "#開始訓練，順便把訓練過程存到model_history，方便後續畫圖\n",
    "model_history=model.fit(datagen.flow(x_train, y_train, batch_size=32), epochs=70, \n",
    "                        steps_per_epoch=len(x_train)/32, validation_data=(x_test,y_test), callbacks=[earlystop, checkpoint])"
   ]
  },
  {
   "cell_type": "code",
   "execution_count": null,
   "metadata": {},
   "outputs": [],
   "source": []
  },
  {
   "cell_type": "markdown",
   "metadata": {},
   "source": [
    "## 畫圖"
   ]
  },
  {
   "cell_type": "code",
   "execution_count": 21,
   "metadata": {},
   "outputs": [
    {
     "data": {
      "text/plain": [
       "dict_keys(['loss', 'categorical_accuracy', 'val_loss', 'val_categorical_accuracy'])"
      ]
     },
     "execution_count": 21,
     "metadata": {},
     "output_type": "execute_result"
    }
   ],
   "source": [
    "model_history.history.keys()"
   ]
  },
  {
   "cell_type": "code",
   "execution_count": 22,
   "metadata": {},
   "outputs": [],
   "source": [
    "training_loss = model_history.history['loss']\n",
    "val_loss = model_history.history['val_loss']\n",
    "\n",
    "training_acc = model_history.history['categorical_accuracy']\n",
    "val_acc = model_history.history['val_categorical_accuracy']"
   ]
  },
  {
   "cell_type": "code",
   "execution_count": 23,
   "metadata": {},
   "outputs": [
    {
     "data": {
      "image/png": "[encoded data removed]",
      "text/plain": [
       "<Figure size 1296x504 with 2 Axes>"
      ]
     },
     "metadata": {
      "needs_background": "light"
     },
     "output_type": "display_data"
    }
   ],
   "source": [
    "#畫圖\n",
    "plt.figure(figsize=(18, 7))\n",
    "plt.subplot(121)\n",
    "plt.plot(training_loss, label=\"training_loss\")\n",
    "plt.plot(val_loss, label=\"validation_loss\")\n",
    "plt.xlabel(\"Epochs\")\n",
    "plt.ylabel(\"Loss\")\n",
    "plt.title(\"Learning Curve\")\n",
    "plt.legend(loc='best')\n",
    "\n",
    "plt.subplot(122)\n",
    "plt.plot(training_acc, label=\"training_acc\")\n",
    "plt.plot(val_acc, label=\"validation_acc\")\n",
    "plt.legend(loc='upper left')\n",
    "plt.xlabel(\"Epochs\")\n",
    "plt.ylabel(\"Accuracy\")\n",
    "plt.title(\"Accuracy Curve\")\n",
    "plt.legend(loc='best')\n",
    "\n",
    "plt.show()"
   ]
  },
  {
   "cell_type": "code",
   "execution_count": null,
   "metadata": {},
   "outputs": [],
   "source": []
  },
  {
   "cell_type": "markdown",
   "metadata": {},
   "source": [
    "## 作預測"
   ]
  },
  {
   "cell_type": "code",
   "execution_count": 24,
   "metadata": {},
   "outputs": [],
   "source": [
    "#載入訓練好的模型\n",
    "model = tf.keras.models.load_model(model_path)"
   ]
  },
  {
   "cell_type": "code",
   "execution_count": 25,
   "metadata": {},
   "outputs": [],
   "source": [
    "#使用AI模型作預測\n",
    "pred=model.predict(x_test)"
   ]
  },
  {
   "cell_type": "code",
   "execution_count": 26,
   "metadata": {},
   "outputs": [],
   "source": [
    "#將預測的機率轉換成類別\n",
    "ans=np.argmax(pred, axis=-1)"
   ]
  },
  {
   "cell_type": "code",
   "execution_count": null,
   "metadata": {},
   "outputs": [],
   "source": []
  },
  {
   "cell_type": "code",
   "execution_count": 27,
   "metadata": {},
   "outputs": [
    {
     "name": "stdout",
     "output_type": "stream",
     "text": [
      "[[877  25  17  13   5   2   7  13  27  14]\n",
      " [  6 940   5   2   0   0   1   0   9  37]\n",
      " [ 25   2 826  39  34  15  35  16   3   5]\n",
      " [ 10   4  34 737  41  75  30  51  11   7]\n",
      " [ 11   1  33  31 847  15  24  35   2   1]\n",
      " [  5   3  20 156  26 725  12  45   3   5]\n",
      " [  9   0  23  46   4   2 903   7   1   5]\n",
      " [  7   1   4  15  26  21   3 914   2   7]\n",
      " [ 54  23   4   9   2   0   1   2 894  11]\n",
      " [ 11  51   1   5   0   0   0   7  12 913]]\n"
     ]
    }
   ],
   "source": [
    "#畫出混淆矩陣\n",
    "from sklearn.metrics import confusion_matrix\n",
    "\n",
    "cf_matrix = confusion_matrix(Y_test, ans)\n",
    "print(cf_matrix)"
   ]
  },
  {
   "cell_type": "code",
   "execution_count": 28,
   "metadata": {},
   "outputs": [
    {
     "data": {
      "text/plain": [
       "<AxesSubplot:>"
      ]
     },
     "execution_count": 28,
     "metadata": {},
     "output_type": "execute_result"
    },
    {
     "data": {
      "image/png": "[encoded data removed]",
      "text/plain": [
       "<Figure size 936x936 with 2 Axes>"
      ]
     },
     "metadata": {
      "needs_background": "light"
     },
     "output_type": "display_data"
    }
   ],
   "source": [
    "#對混淆矩陣畫圖\n",
    "import seaborn as sns\n",
    "fig, ax = plt.subplots(figsize=(13,13))\n",
    "sns.heatmap(cf_matrix, fmt='g', annot=True, annot_kws={\"size\":12})"
   ]
  },
  {
   "cell_type": "code",
   "execution_count": null,
   "metadata": {},
   "outputs": [],
   "source": []
  },
  {
   "cell_type": "code",
   "execution_count": 29,
   "metadata": {},
   "outputs": [
    {
     "name": "stdout",
     "output_type": "stream",
     "text": [
      "              precision    recall  f1-score   support\n",
      "\n",
      "           0       0.86      0.88      0.87      1000\n",
      "           1       0.90      0.94      0.92      1000\n",
      "           2       0.85      0.83      0.84      1000\n",
      "           3       0.70      0.74      0.72      1000\n",
      "           4       0.86      0.85      0.85      1000\n",
      "           5       0.85      0.72      0.78      1000\n",
      "           6       0.89      0.90      0.90      1000\n",
      "           7       0.84      0.91      0.87      1000\n",
      "           8       0.93      0.89      0.91      1000\n",
      "           9       0.91      0.91      0.91      1000\n",
      "\n",
      "    accuracy                           0.86     10000\n",
      "   macro avg       0.86      0.86      0.86     10000\n",
      "weighted avg       0.86      0.86      0.86     10000\n",
      "\n"
     ]
    }
   ],
   "source": [
    "#計算統計指標\n",
    "from sklearn.metrics import classification_report\n",
    "report = classification_report(Y_test, ans)\n",
    "print(report)"
   ]
  },
  {
   "cell_type": "code",
   "execution_count": null,
   "metadata": {},
   "outputs": [],
   "source": []
  },
  {
   "cell_type": "code",
   "execution_count": null,
   "metadata": {},
   "outputs": [],
   "source": []
  }
 ],
 "metadata": {
  "kernelspec": {
   "display_name": "Python 3 (ipykernel)",
   "language": "python",
   "name": "python3"
  },
  "language_info": {
   "codemirror_mode": {
    "name": "ipython",
    "version": 3
   },
   "file_extension": ".py",
   "mimetype": "text/x-python",
   "name": "python",
   "nbconvert_exporter": "python",
   "pygments_lexer": "ipython3",
   "version": "3.8.10"
  }
 },
 "nbformat": 4,
 "nbformat_minor": 4
}
