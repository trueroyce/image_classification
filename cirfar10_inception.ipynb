{
 "cells": [
  {
   "cell_type": "markdown",
   "metadata": {},
   "source": [
    "# 使用Cifar10練習影像分類，遷移學習"
   ]
  },
  {
   "cell_type": "code",
   "execution_count": 1,
   "metadata": {},
   "outputs": [],
   "source": [
    "#匯入函式庫，數值矩陣計算numpy，以及畫圖用的matplotlib\n",
    "import numpy as np\n",
    "import matplotlib.pyplot as plt\n",
    "\n",
    "#匯入\n",
    "import os\n",
    "os.environ['TF_CPP_MIN_LOG_LEVEL']='2'"
   ]
  },
  {
   "cell_type": "code",
   "execution_count": 2,
   "metadata": {},
   "outputs": [],
   "source": [
    "#匯入tensorflow的函式庫，以及cifar10\n",
    "import tensorflow as tf\n",
    "from tensorflow.keras.datasets import cifar10"
   ]
  },
  {
   "cell_type": "code",
   "execution_count": 3,
   "metadata": {},
   "outputs": [],
   "source": [
    "#註：呼叫這些功能的寫法有兩種，以cifar10為例\n",
    "#一、直接打一整串：tf.keras.datasets.cifar10.load_data()\n",
    "#二、在一開始的地方使用from tensorflow.keras.datasets import cifar10，以後只要用cifar10.load_data()即可"
   ]
  },
  {
   "cell_type": "markdown",
   "metadata": {},
   "source": [
    "## 讀取與檢視資料"
   ]
  },
  {
   "cell_type": "code",
   "execution_count": 4,
   "metadata": {},
   "outputs": [],
   "source": [
    "#使用cifar10的資料集\n",
    "(X_train, Y_train), (X_test, Y_test) = cifar10.load_data()"
   ]
  },
  {
   "cell_type": "code",
   "execution_count": 5,
   "metadata": {},
   "outputs": [
    {
     "data": {
      "text/plain": [
       "(50000, 32, 32, 3)"
      ]
     },
     "execution_count": 5,
     "metadata": {},
     "output_type": "execute_result"
    }
   ],
   "source": [
    "X_train.shape"
   ]
  },
  {
   "cell_type": "code",
   "execution_count": 6,
   "metadata": {},
   "outputs": [
    {
     "data": {
      "text/plain": [
       "<matplotlib.image.AxesImage at 0x7f05210beba8>"
      ]
     },
     "execution_count": 6,
     "metadata": {},
     "output_type": "execute_result"
    },
    {
     "data": {
      "image/png": "[encoded data removed]",
      "text/plain": [
       "<Figure size 432x288 with 1 Axes>"
      ]
     },
     "metadata": {
      "needs_background": "light"
     },
     "output_type": "display_data"
    }
   ],
   "source": [
    "plt.imshow(X_train[56])"
   ]
  },
  {
   "cell_type": "code",
   "execution_count": 7,
   "metadata": {},
   "outputs": [],
   "source": [
    "# 0 : airplain (飛機)\n",
    "# 1 : automobile (汽車)\n",
    "# 2 : bird (鳥)\n",
    "# 3 : cat (貓)\n",
    "# 4 : deer (鹿)\n",
    "# 5 : dog (狗)\n",
    "# 6 : frog (青蛙)\n",
    "# 7 : horse (馬)\n",
    "# 8 : ship (船)\n",
    "# 9 : truck (卡車)"
   ]
  },
  {
   "cell_type": "code",
   "execution_count": null,
   "metadata": {},
   "outputs": [],
   "source": []
  },
  {
   "cell_type": "markdown",
   "metadata": {},
   "source": [
    "## 影像前處理"
   ]
  },
  {
   "cell_type": "code",
   "execution_count": 8,
   "metadata": {},
   "outputs": [],
   "source": [
    "#對影像作正規化\n",
    "x_train = X_train.astype('float32')/255\n",
    "x_test = X_test.astype('float32')/255"
   ]
  },
  {
   "cell_type": "code",
   "execution_count": 9,
   "metadata": {},
   "outputs": [],
   "source": [
    "#對類別資料作One-hot encoding\n",
    "y_train = tf.keras.utils.to_categorical(Y_train)\n",
    "y_test = tf.keras.utils.to_categorical(Y_test)"
   ]
  },
  {
   "cell_type": "code",
   "execution_count": null,
   "metadata": {},
   "outputs": [],
   "source": []
  },
  {
   "cell_type": "markdown",
   "metadata": {},
   "source": [
    "## 建立AI模型"
   ]
  },
  {
   "cell_type": "code",
   "execution_count": 26,
   "metadata": {},
   "outputs": [],
   "source": [
    "#撰寫模型\n",
    "input_layer=tf.keras.layers.Input(shape=(32,32,3))\n",
    "\n",
    "x=tf.keras.layers.Conv2D(filters=32, kernel_size=(3,3),padding='same', activation='relu')(input_layer)\n",
    "x=tf.keras.layers.Conv2D(filters=32, kernel_size=(3,3),padding='same', activation='relu')(x)\n",
    "x=tf.keras.layers.MaxPool2D()(x)\n",
    "\n",
    "#inception module撰寫範例------------------\n",
    "y1=tf.keras.layers.Conv2D(filters=32, kernel_size=(1,1),padding='same', activation='relu')(x)\n",
    "\n",
    "y2=tf.keras.layers.Conv2D(filters=16, kernel_size=(1,1),padding='same', activation='relu')(x)\n",
    "y2=tf.keras.layers.Conv2D(filters=32, kernel_size=(3,3),padding='same', activation='relu')(y2)\n",
    "\n",
    "y3=tf.keras.layers.Conv2D(filters=16, kernel_size=(1,1),padding='same', activation='relu')(x)\n",
    "y3=tf.keras.layers.Conv2D(filters=32, kernel_size=(5,5),padding='same', activation='relu')(y3)\n",
    "\n",
    "y4=tf.keras.layers.MaxPool2D(pool_size=(3, 3),strides=(1, 1),padding='same')(x)\n",
    "y4=tf.keras.layers.Conv2D(filters=32, kernel_size=(1,1),padding='same', activation='relu')(y4)\n",
    "\n",
    "x=tf.keras.layers.Concatenate()([y1,y2,y3,y4])\n",
    "#-----------------------------------------\n",
    "\n",
    "x=tf.keras.layers.AveragePooling2D()(x)\n",
    "\n",
    "x=tf.keras.layers.Flatten()(x)\n",
    "x=tf.keras.layers.Dense(32, activation='relu')(x)\n",
    "\n",
    "output_layer=tf.keras.layers.Dense(10, activation='softmax')(x)"
   ]
  },
  {
   "cell_type": "code",
   "execution_count": null,
   "metadata": {},
   "outputs": [],
   "source": []
  },
  {
   "cell_type": "code",
   "execution_count": 27,
   "metadata": {},
   "outputs": [
    {
     "name": "stdout",
     "output_type": "stream",
     "text": [
      "Model: \"model_3\"\n",
      "__________________________________________________________________________________________________\n",
      "Layer (type)                    Output Shape         Param #     Connected to                     \n",
      "==================================================================================================\n",
      "input_4 (InputLayer)            [(None, 32, 32, 3)]  0                                            \n",
      "__________________________________________________________________________________________________\n",
      "conv2d_24 (Conv2D)              (None, 32, 32, 32)   896         input_4[0][0]                    \n",
      "__________________________________________________________________________________________________\n",
      "conv2d_25 (Conv2D)              (None, 32, 32, 32)   9248        conv2d_24[0][0]                  \n",
      "__________________________________________________________________________________________________\n",
      "max_pooling2d_6 (MaxPooling2D)  (None, 16, 16, 32)   0           conv2d_25[0][0]                  \n",
      "__________________________________________________________________________________________________\n",
      "conv2d_26 (Conv2D)              (None, 16, 16, 32)   1056        max_pooling2d_6[0][0]            \n",
      "__________________________________________________________________________________________________\n",
      "conv2d_28 (Conv2D)              (None, 16, 16, 32)   9248        max_pooling2d_6[0][0]            \n",
      "__________________________________________________________________________________________________\n",
      "conv2d_30 (Conv2D)              (None, 16, 16, 32)   25632       max_pooling2d_6[0][0]            \n",
      "__________________________________________________________________________________________________\n",
      "conv2d_31 (Conv2D)              (None, 16, 16, 32)   1056        max_pooling2d_6[0][0]            \n",
      "__________________________________________________________________________________________________\n",
      "concatenate_3 (Concatenate)     (None, 16, 16, 128)  0           conv2d_26[0][0]                  \n",
      "                                                                 conv2d_28[0][0]                  \n",
      "                                                                 conv2d_30[0][0]                  \n",
      "                                                                 conv2d_31[0][0]                  \n",
      "__________________________________________________________________________________________________\n",
      "average_pooling2d (AveragePooli (None, 8, 8, 128)    0           concatenate_3[0][0]              \n",
      "__________________________________________________________________________________________________\n",
      "flatten_3 (Flatten)             (None, 8192)         0           average_pooling2d[0][0]          \n",
      "__________________________________________________________________________________________________\n",
      "dense_6 (Dense)                 (None, 32)           262176      flatten_3[0][0]                  \n",
      "__________________________________________________________________________________________________\n",
      "dense_7 (Dense)                 (None, 10)           330         dense_6[0][0]                    \n",
      "==================================================================================================\n",
      "Total params: 309,642\n",
      "Trainable params: 309,642\n",
      "Non-trainable params: 0\n",
      "__________________________________________________________________________________________________\n"
     ]
    }
   ],
   "source": [
    "model=tf.keras.models.Model(inputs=input_layer, outputs=output_layer)\n",
    "model.summary()"
   ]
  },
  {
   "cell_type": "code",
   "execution_count": null,
   "metadata": {},
   "outputs": [],
   "source": []
  },
  {
   "cell_type": "code",
   "execution_count": 28,
   "metadata": {},
   "outputs": [],
   "source": [
    "#data augmentation相關設定\n",
    "datagen = tf.keras.preprocessing.image.ImageDataGenerator(\n",
    "    rotation_range=10,\n",
    "    width_shift_range=0.1,\n",
    "    height_shift_range=0.1,\n",
    "    horizontal_flip=True)  "
   ]
  },
  {
   "cell_type": "code",
   "execution_count": null,
   "metadata": {},
   "outputs": [],
   "source": []
  },
  {
   "cell_type": "markdown",
   "metadata": {},
   "source": [
    "## 開始訓練"
   ]
  },
  {
   "cell_type": "code",
   "execution_count": 29,
   "metadata": {},
   "outputs": [],
   "source": [
    "#告訴AI學習的方式\n",
    "model.compile(optimizer=tf.keras.optimizers.Adam(learning_rate=0.0001, decay=1e-6),\n",
    "              loss=tf.keras.losses.CategoricalCrossentropy(),\n",
    "              metrics=[tf.keras.metrics.CategoricalAccuracy()])\n"
   ]
  },
  {
   "cell_type": "code",
   "execution_count": 30,
   "metadata": {},
   "outputs": [],
   "source": [
    "#將訓練的模型置放於model_path下的model_name\n",
    "model_name = 'cirfar10'\n",
    "\n",
    "save_dir = os.path.join(os.getcwd(), 'saved_models')\n",
    "if not os.path.isdir(save_dir):\n",
    "    os.makedirs(save_dir)\n",
    "    \n",
    "model_path = os.path.join(save_dir, model_name)"
   ]
  },
  {
   "cell_type": "code",
   "execution_count": 31,
   "metadata": {},
   "outputs": [],
   "source": [
    "#設定模型存放方式(只存Validation表現最好的那一次)\n",
    "checkpoint = tf.keras.callbacks.ModelCheckpoint(model_path, monitor = 'val_loss', save_best_only = True, verbose = 1)\n",
    "\n",
    "#設定多久沒進步就停下來\n",
    "earlystop = tf.keras.callbacks.EarlyStopping(monitor = 'val_loss', patience = 20, verbose = 1)"
   ]
  },
  {
   "cell_type": "code",
   "execution_count": 32,
   "metadata": {},
   "outputs": [
    {
     "name": "stdout",
     "output_type": "stream",
     "text": [
      "Epoch 1/70\n",
      "1563/1562 [==============================] - ETA: 0s - loss: 1.8327 - categorical_accuracy: 0.3448\n",
      "Epoch 00001: val_loss improved from inf to 1.57330, saving model to /root/chest x-ray/image_classification/saved_models/cirfar10\n",
      "INFO:tensorflow:Assets written to: /root/chest x-ray/image_classification/saved_models/cirfar10/assets\n",
      "1563/1562 [==============================] - 37s 24ms/step - loss: 1.8327 - categorical_accuracy: 0.3448 - val_loss: 1.5733 - val_categorical_accuracy: 0.4424\n",
      "Epoch 2/70\n",
      "1561/1562 [============================>.] - ETA: 0s - loss: 1.5603 - categorical_accuracy: 0.4391\n",
      "Epoch 00002: val_loss improved from 1.57330 to 1.46840, saving model to /root/chest x-ray/image_classification/saved_models/cirfar10\n",
      "INFO:tensorflow:Assets written to: /root/chest x-ray/image_classification/saved_models/cirfar10/assets\n",
      "1563/1562 [==============================] - 37s 24ms/step - loss: 1.5603 - categorical_accuracy: 0.4390 - val_loss: 1.4684 - val_categorical_accuracy: 0.4781\n",
      "Epoch 3/70\n",
      "1561/1562 [============================>.] - ETA: 0s - loss: 1.4541 - categorical_accuracy: 0.4775\n",
      "Epoch 00003: val_loss improved from 1.46840 to 1.37157, saving model to /root/chest x-ray/image_classification/saved_models/cirfar10\n",
      "INFO:tensorflow:Assets written to: /root/chest x-ray/image_classification/saved_models/cirfar10/assets\n",
      "1563/1562 [==============================] - 36s 23ms/step - loss: 1.4543 - categorical_accuracy: 0.4775 - val_loss: 1.3716 - val_categorical_accuracy: 0.5091\n",
      "Epoch 4/70\n",
      "1562/1562 [============================>.] - ETA: 0s - loss: 1.3911 - categorical_accuracy: 0.5032\n",
      "Epoch 00004: val_loss improved from 1.37157 to 1.26730, saving model to /root/chest x-ray/image_classification/saved_models/cirfar10\n",
      "INFO:tensorflow:Assets written to: /root/chest x-ray/image_classification/saved_models/cirfar10/assets\n",
      "1563/1562 [==============================] - 36s 23ms/step - loss: 1.3912 - categorical_accuracy: 0.5032 - val_loss: 1.2673 - val_categorical_accuracy: 0.5448\n",
      "Epoch 5/70\n",
      "1563/1562 [==============================] - ETA: 0s - loss: 1.3429 - categorical_accuracy: 0.5222\n",
      "Epoch 00005: val_loss improved from 1.26730 to 1.26124, saving model to /root/chest x-ray/image_classification/saved_models/cirfar10\n",
      "INFO:tensorflow:Assets written to: /root/chest x-ray/image_classification/saved_models/cirfar10/assets\n",
      "1563/1562 [==============================] - 36s 23ms/step - loss: 1.3429 - categorical_accuracy: 0.5222 - val_loss: 1.2612 - val_categorical_accuracy: 0.5516\n",
      "Epoch 6/70\n",
      "1562/1562 [============================>.] - ETA: 0s - loss: 1.3055 - categorical_accuracy: 0.5391 ETA: 1s\n",
      "Epoch 00006: val_loss improved from 1.26124 to 1.24014, saving model to /root/chest x-ray/image_classification/saved_models/cirfar10\n",
      "INFO:tensorflow:Assets written to: /root/chest x-ray/image_classification/saved_models/cirfar10/assets\n",
      "1563/1562 [==============================] - 36s 23ms/step - loss: 1.3055 - categorical_accuracy: 0.5391 - val_loss: 1.2401 - val_categorical_accuracy: 0.5558\n",
      "Epoch 7/70\n",
      "1561/1562 [============================>.] - ETA: 0s - loss: 1.2669 - categorical_accuracy: 0.5530\n",
      "Epoch 00007: val_loss improved from 1.24014 to 1.21841, saving model to /root/chest x-ray/image_classification/saved_models/cirfar10\n",
      "INFO:tensorflow:Assets written to: /root/chest x-ray/image_classification/saved_models/cirfar10/assets\n",
      "1563/1562 [==============================] - 36s 23ms/step - loss: 1.2669 - categorical_accuracy: 0.5530 - val_loss: 1.2184 - val_categorical_accuracy: 0.5712\n",
      "Epoch 8/70\n",
      "1562/1562 [============================>.] - ETA: 0s - loss: 1.2282 - categorical_accuracy: 0.5665\n",
      "Epoch 00008: val_loss improved from 1.21841 to 1.15096, saving model to /root/chest x-ray/image_classification/saved_models/cirfar10\n",
      "INFO:tensorflow:Assets written to: /root/chest x-ray/image_classification/saved_models/cirfar10/assets\n",
      "1563/1562 [==============================] - 36s 23ms/step - loss: 1.2281 - categorical_accuracy: 0.5666 - val_loss: 1.1510 - val_categorical_accuracy: 0.5913\n",
      "Epoch 9/70\n",
      "1561/1562 [============================>.] - ETA: 0s - loss: 1.1949 - categorical_accuracy: 0.5781\n",
      "Epoch 00009: val_loss improved from 1.15096 to 1.11900, saving model to /root/chest x-ray/image_classification/saved_models/cirfar10\n",
      "INFO:tensorflow:Assets written to: /root/chest x-ray/image_classification/saved_models/cirfar10/assets\n",
      "1563/1562 [==============================] - 36s 23ms/step - loss: 1.1947 - categorical_accuracy: 0.5780 - val_loss: 1.1190 - val_categorical_accuracy: 0.6035\n",
      "Epoch 10/70\n",
      "1561/1562 [============================>.] - ETA: 0s - loss: 1.1619 - categorical_accuracy: 0.5895\n",
      "Epoch 00010: val_loss did not improve from 1.11900\n",
      "1563/1562 [==============================] - 36s 23ms/step - loss: 1.1619 - categorical_accuracy: 0.5896 - val_loss: 1.1686 - val_categorical_accuracy: 0.5855\n",
      "Epoch 11/70\n",
      "1562/1562 [============================>.] - ETA: 0s - loss: 1.1333 - categorical_accuracy: 0.6012\n",
      "Epoch 00011: val_loss improved from 1.11900 to 1.06911, saving model to /root/chest x-ray/image_classification/saved_models/cirfar10\n",
      "INFO:tensorflow:Assets written to: /root/chest x-ray/image_classification/saved_models/cirfar10/assets\n",
      "1563/1562 [==============================] - 37s 23ms/step - loss: 1.1334 - categorical_accuracy: 0.6012 - val_loss: 1.0691 - val_categorical_accuracy: 0.6280\n",
      "Epoch 12/70\n",
      "1562/1562 [============================>.] - ETA: 0s - loss: 1.1103 - categorical_accuracy: 0.6093\n",
      "Epoch 00012: val_loss did not improve from 1.06911\n",
      "1563/1562 [==============================] - 36s 23ms/step - loss: 1.1103 - categorical_accuracy: 0.6093 - val_loss: 1.0748 - val_categorical_accuracy: 0.6269\n",
      "Epoch 13/70\n",
      "1562/1562 [============================>.] - ETA: 0s - loss: 1.0854 - categorical_accuracy: 0.6203\n",
      "Epoch 00013: val_loss improved from 1.06911 to 1.03905, saving model to /root/chest x-ray/image_classification/saved_models/cirfar10\n",
      "INFO:tensorflow:Assets written to: /root/chest x-ray/image_classification/saved_models/cirfar10/assets\n",
      "1563/1562 [==============================] - 37s 24ms/step - loss: 1.0855 - categorical_accuracy: 0.6203 - val_loss: 1.0391 - val_categorical_accuracy: 0.6393\n",
      "Epoch 14/70\n",
      "1563/1562 [==============================] - ETA: 0s - loss: 1.0664 - categorical_accuracy: 0.6251\n",
      "Epoch 00014: val_loss did not improve from 1.03905\n",
      "1563/1562 [==============================] - 35s 23ms/step - loss: 1.0664 - categorical_accuracy: 0.6251 - val_loss: 1.0570 - val_categorical_accuracy: 0.6331\n",
      "Epoch 15/70\n",
      "1560/1562 [============================>.] - ETA: 0s - loss: 1.0425 - categorical_accuracy: 0.6338\n",
      "Epoch 00015: val_loss improved from 1.03905 to 1.02940, saving model to /root/chest x-ray/image_classification/saved_models/cirfar10\n",
      "INFO:tensorflow:Assets written to: /root/chest x-ray/image_classification/saved_models/cirfar10/assets\n",
      "1563/1562 [==============================] - 36s 23ms/step - loss: 1.0423 - categorical_accuracy: 0.6338 - val_loss: 1.0294 - val_categorical_accuracy: 0.6403\n",
      "Epoch 16/70\n",
      "1560/1562 [============================>.] - ETA: 0s - loss: 1.0241 - categorical_accuracy: 0.6422\n",
      "Epoch 00016: val_loss improved from 1.02940 to 0.98757, saving model to /root/chest x-ray/image_classification/saved_models/cirfar10\n",
      "INFO:tensorflow:Assets written to: /root/chest x-ray/image_classification/saved_models/cirfar10/assets\n",
      "1563/1562 [==============================] - 37s 24ms/step - loss: 1.0240 - categorical_accuracy: 0.6421 - val_loss: 0.9876 - val_categorical_accuracy: 0.6622\n",
      "Epoch 17/70\n",
      "1563/1562 [==============================] - ETA: 0s - loss: 1.0123 - categorical_accuracy: 0.6480\n",
      "Epoch 00017: val_loss improved from 0.98757 to 0.98228, saving model to /root/chest x-ray/image_classification/saved_models/cirfar10\n",
      "INFO:tensorflow:Assets written to: /root/chest x-ray/image_classification/saved_models/cirfar10/assets\n",
      "1563/1562 [==============================] - 37s 24ms/step - loss: 1.0123 - categorical_accuracy: 0.6480 - val_loss: 0.9823 - val_categorical_accuracy: 0.6667\n",
      "Epoch 18/70\n",
      "1563/1562 [==============================] - ETA: 0s - loss: 0.9966 - categorical_accuracy: 0.6518\n",
      "Epoch 00018: val_loss improved from 0.98228 to 0.97236, saving model to /root/chest x-ray/image_classification/saved_models/cirfar10\n",
      "INFO:tensorflow:Assets written to: /root/chest x-ray/image_classification/saved_models/cirfar10/assets\n",
      "1563/1562 [==============================] - 36s 23ms/step - loss: 0.9966 - categorical_accuracy: 0.6518 - val_loss: 0.9724 - val_categorical_accuracy: 0.6644\n",
      "Epoch 19/70\n",
      "1561/1562 [============================>.] - ETA: 0s - loss: 0.9848 - categorical_accuracy: 0.6572\n",
      "Epoch 00019: val_loss improved from 0.97236 to 0.94516, saving model to /root/chest x-ray/image_classification/saved_models/cirfar10\n",
      "INFO:tensorflow:Assets written to: /root/chest x-ray/image_classification/saved_models/cirfar10/assets\n",
      "1563/1562 [==============================] - 36s 23ms/step - loss: 0.9847 - categorical_accuracy: 0.6572 - val_loss: 0.9452 - val_categorical_accuracy: 0.6759\n",
      "Epoch 20/70\n",
      "1562/1562 [============================>.] - ETA: 0s - loss: 0.9691 - categorical_accuracy: 0.6615\n",
      "Epoch 00020: val_loss did not improve from 0.94516\n",
      "1563/1562 [==============================] - 35s 22ms/step - loss: 0.9692 - categorical_accuracy: 0.6615 - val_loss: 0.9934 - val_categorical_accuracy: 0.6604\n",
      "Epoch 21/70\n",
      "1562/1562 [============================>.] - ETA: 0s - loss: 0.9614 - categorical_accuracy: 0.6644\n",
      "Epoch 00021: val_loss did not improve from 0.94516\n",
      "1563/1562 [==============================] - 36s 23ms/step - loss: 0.9615 - categorical_accuracy: 0.6643 - val_loss: 1.0021 - val_categorical_accuracy: 0.6596\n",
      "Epoch 22/70\n",
      "1561/1562 [============================>.] - ETA: 0s - loss: 0.9444 - categorical_accuracy: 0.6672\n",
      "Epoch 00022: val_loss improved from 0.94516 to 0.90517, saving model to /root/chest x-ray/image_classification/saved_models/cirfar10\n",
      "INFO:tensorflow:Assets written to: /root/chest x-ray/image_classification/saved_models/cirfar10/assets\n",
      "1563/1562 [==============================] - 37s 24ms/step - loss: 0.9445 - categorical_accuracy: 0.6672 - val_loss: 0.9052 - val_categorical_accuracy: 0.6964\n",
      "Epoch 23/70\n",
      "1561/1562 [============================>.] - ETA: 0s - loss: 0.9324 - categorical_accuracy: 0.6747\n",
      "Epoch 00023: val_loss did not improve from 0.90517\n",
      "1563/1562 [==============================] - 36s 23ms/step - loss: 0.9323 - categorical_accuracy: 0.6747 - val_loss: 0.9138 - val_categorical_accuracy: 0.6941\n",
      "Epoch 24/70\n",
      "1562/1562 [============================>.] - ETA: 0s - loss: 0.9246 - categorical_accuracy: 0.6789\n",
      "Epoch 00024: val_loss did not improve from 0.90517\n",
      "1563/1562 [==============================] - 35s 23ms/step - loss: 0.9246 - categorical_accuracy: 0.6790 - val_loss: 0.9199 - val_categorical_accuracy: 0.6908\n",
      "Epoch 25/70\n",
      "1562/1562 [============================>.] - ETA: 0s - loss: 0.9123 - categorical_accuracy: 0.6818\n",
      "Epoch 00025: val_loss improved from 0.90517 to 0.89250, saving model to /root/chest x-ray/image_classification/saved_models/cirfar10\n",
      "INFO:tensorflow:Assets written to: /root/chest x-ray/image_classification/saved_models/cirfar10/assets\n",
      "1563/1562 [==============================] - 37s 24ms/step - loss: 0.9122 - categorical_accuracy: 0.6818 - val_loss: 0.8925 - val_categorical_accuracy: 0.6946\n",
      "Epoch 26/70\n",
      "1562/1562 [============================>.] - ETA: 0s - loss: 0.9060 - categorical_accuracy: 0.6835\n",
      "Epoch 00026: val_loss did not improve from 0.89250\n",
      "1563/1562 [==============================] - 35s 23ms/step - loss: 0.9060 - categorical_accuracy: 0.6834 - val_loss: 0.9354 - val_categorical_accuracy: 0.6880\n",
      "Epoch 27/70\n",
      "1562/1562 [============================>.] - ETA: 0s - loss: 0.8952 - categorical_accuracy: 0.6897\n",
      "Epoch 00027: val_loss did not improve from 0.89250\n",
      "1563/1562 [==============================] - 36s 23ms/step - loss: 0.8952 - categorical_accuracy: 0.6897 - val_loss: 0.9176 - val_categorical_accuracy: 0.6952\n",
      "Epoch 28/70\n",
      "1561/1562 [============================>.] - ETA: 0s - loss: 0.8849 - categorical_accuracy: 0.6907\n",
      "Epoch 00028: val_loss did not improve from 0.89250\n",
      "1563/1562 [==============================] - 36s 23ms/step - loss: 0.8847 - categorical_accuracy: 0.6908 - val_loss: 0.9078 - val_categorical_accuracy: 0.6927\n",
      "Epoch 29/70\n",
      "1561/1562 [============================>.] - ETA: 0s - loss: 0.8732 - categorical_accuracy: 0.6959\n",
      "Epoch 00029: val_loss did not improve from 0.89250\n",
      "1563/1562 [==============================] - 36s 23ms/step - loss: 0.8732 - categorical_accuracy: 0.6959 - val_loss: 0.9118 - val_categorical_accuracy: 0.6965\n",
      "Epoch 30/70\n",
      "1561/1562 [============================>.] - ETA: 0s - loss: 0.8663 - categorical_accuracy: 0.6974\n",
      "Epoch 00030: val_loss improved from 0.89250 to 0.85343, saving model to /root/chest x-ray/image_classification/saved_models/cirfar10\n",
      "INFO:tensorflow:Assets written to: /root/chest x-ray/image_classification/saved_models/cirfar10/assets\n",
      "1563/1562 [==============================] - 36s 23ms/step - loss: 0.8661 - categorical_accuracy: 0.6975 - val_loss: 0.8534 - val_categorical_accuracy: 0.7141\n",
      "Epoch 31/70\n",
      "1562/1562 [============================>.] - ETA: 0s - loss: 0.8601 - categorical_accuracy: 0.7002 ETA: 1s - loss: 0.8\n",
      "Epoch 00031: val_loss did not improve from 0.85343\n",
      "1563/1562 [==============================] - 35s 22ms/step - loss: 0.8601 - categorical_accuracy: 0.7002 - val_loss: 0.9210 - val_categorical_accuracy: 0.6951\n",
      "Epoch 32/70\n",
      "1562/1562 [============================>.] - ETA: 0s - loss: 0.8493 - categorical_accuracy: 0.7050\n",
      "Epoch 00032: val_loss did not improve from 0.85343\n",
      "1563/1562 [==============================] - 36s 23ms/step - loss: 0.8493 - categorical_accuracy: 0.7051 - val_loss: 0.8720 - val_categorical_accuracy: 0.7065\n",
      "Epoch 33/70\n",
      "1563/1562 [==============================] - ETA: 0s - loss: 0.8416 - categorical_accuracy: 0.7068\n",
      "Epoch 00033: val_loss improved from 0.85343 to 0.82738, saving model to /root/chest x-ray/image_classification/saved_models/cirfar10\n",
      "INFO:tensorflow:Assets written to: /root/chest x-ray/image_classification/saved_models/cirfar10/assets\n",
      "1563/1562 [==============================] - 37s 24ms/step - loss: 0.8416 - categorical_accuracy: 0.7068 - val_loss: 0.8274 - val_categorical_accuracy: 0.7219\n",
      "Epoch 34/70\n",
      "1563/1562 [==============================] - ETA: 0s - loss: 0.8351 - categorical_accuracy: 0.7091\n",
      "Epoch 00034: val_loss did not improve from 0.82738\n",
      "1563/1562 [==============================] - 35s 23ms/step - loss: 0.8351 - categorical_accuracy: 0.7091 - val_loss: 0.8486 - val_categorical_accuracy: 0.7179\n",
      "Epoch 35/70\n",
      "1563/1562 [==============================] - ETA: 0s - loss: 0.8282 - categorical_accuracy: 0.7132\n",
      "Epoch 00035: val_loss did not improve from 0.82738\n",
      "1563/1562 [==============================] - 36s 23ms/step - loss: 0.8282 - categorical_accuracy: 0.7132 - val_loss: 0.8442 - val_categorical_accuracy: 0.7199\n",
      "Epoch 36/70\n",
      "1563/1562 [==============================] - ETA: 0s - loss: 0.8204 - categorical_accuracy: 0.7137\n",
      "Epoch 00036: val_loss improved from 0.82738 to 0.81653, saving model to /root/chest x-ray/image_classification/saved_models/cirfar10\n",
      "INFO:tensorflow:Assets written to: /root/chest x-ray/image_classification/saved_models/cirfar10/assets\n",
      "1563/1562 [==============================] - 37s 24ms/step - loss: 0.8204 - categorical_accuracy: 0.7137 - val_loss: 0.8165 - val_categorical_accuracy: 0.7248\n",
      "Epoch 37/70\n",
      "1562/1562 [============================>.] - ETA: 0s - loss: 0.8136 - categorical_accuracy: 0.7184\n",
      "Epoch 00037: val_loss improved from 0.81653 to 0.79928, saving model to /root/chest x-ray/image_classification/saved_models/cirfar10\n",
      "INFO:tensorflow:Assets written to: /root/chest x-ray/image_classification/saved_models/cirfar10/assets\n",
      "1563/1562 [==============================] - 37s 23ms/step - loss: 0.8136 - categorical_accuracy: 0.7185 - val_loss: 0.7993 - val_categorical_accuracy: 0.7327\n",
      "Epoch 38/70\n",
      "1563/1562 [==============================] - ETA: 0s - loss: 0.8055 - categorical_accuracy: 0.7200\n",
      "Epoch 00038: val_loss did not improve from 0.79928\n",
      "1563/1562 [==============================] - 36s 23ms/step - loss: 0.8055 - categorical_accuracy: 0.7200 - val_loss: 0.8144 - val_categorical_accuracy: 0.7232\n",
      "Epoch 39/70\n",
      "1561/1562 [============================>.] - ETA: 0s - loss: 0.8015 - categorical_accuracy: 0.7229\n",
      "Epoch 00039: val_loss improved from 0.79928 to 0.78100, saving model to /root/chest x-ray/image_classification/saved_models/cirfar10\n",
      "INFO:tensorflow:Assets written to: /root/chest x-ray/image_classification/saved_models/cirfar10/assets\n",
      "1563/1562 [==============================] - 36s 23ms/step - loss: 0.8016 - categorical_accuracy: 0.7229 - val_loss: 0.7810 - val_categorical_accuracy: 0.7396\n",
      "Epoch 40/70\n",
      "1561/1562 [============================>.] - ETA: 0s - loss: 0.7942 - categorical_accuracy: 0.7233\n",
      "Epoch 00040: val_loss did not improve from 0.78100\n",
      "1563/1562 [==============================] - 35s 23ms/step - loss: 0.7941 - categorical_accuracy: 0.7233 - val_loss: 0.8281 - val_categorical_accuracy: 0.7182\n",
      "Epoch 41/70\n",
      "1562/1562 [============================>.] - ETA: 0s - loss: 0.7872 - categorical_accuracy: 0.7286\n",
      "Epoch 00041: val_loss did not improve from 0.78100\n",
      "1563/1562 [==============================] - 35s 23ms/step - loss: 0.7872 - categorical_accuracy: 0.7285 - val_loss: 0.8243 - val_categorical_accuracy: 0.7210\n",
      "Epoch 42/70\n",
      "1562/1562 [============================>.] - ETA: 0s - loss: 0.7845 - categorical_accuracy: 0.7278\n",
      "Epoch 00042: val_loss improved from 0.78100 to 0.77460, saving model to /root/chest x-ray/image_classification/saved_models/cirfar10\n",
      "INFO:tensorflow:Assets written to: /root/chest x-ray/image_classification/saved_models/cirfar10/assets\n",
      "1563/1562 [==============================] - 37s 24ms/step - loss: 0.7847 - categorical_accuracy: 0.7277 - val_loss: 0.7746 - val_categorical_accuracy: 0.7349\n",
      "Epoch 43/70\n",
      "1561/1562 [============================>.] - ETA: 0s - loss: 0.7754 - categorical_accuracy: 0.7312\n",
      "Epoch 00043: val_loss did not improve from 0.77460\n",
      "1563/1562 [==============================] - 35s 23ms/step - loss: 0.7755 - categorical_accuracy: 0.7311 - val_loss: 0.7881 - val_categorical_accuracy: 0.7324\n",
      "Epoch 44/70\n",
      "1563/1562 [==============================] - ETA: 0s - loss: 0.7707 - categorical_accuracy: 0.7325\n",
      "Epoch 00044: val_loss did not improve from 0.77460\n",
      "1563/1562 [==============================] - 35s 23ms/step - loss: 0.7707 - categorical_accuracy: 0.7325 - val_loss: 0.7869 - val_categorical_accuracy: 0.7371\n",
      "Epoch 45/70\n",
      "1562/1562 [============================>.] - ETA: 0s - loss: 0.7669 - categorical_accuracy: 0.7337\n",
      "Epoch 00045: val_loss did not improve from 0.77460\n",
      "1563/1562 [==============================] - 36s 23ms/step - loss: 0.7668 - categorical_accuracy: 0.7337 - val_loss: 0.7982 - val_categorical_accuracy: 0.7316\n",
      "Epoch 46/70\n",
      "1561/1562 [============================>.] - ETA: 0s - loss: 0.7613 - categorical_accuracy: 0.7379\n",
      "Epoch 00046: val_loss improved from 0.77460 to 0.76898, saving model to /root/chest x-ray/image_classification/saved_models/cirfar10\n",
      "INFO:tensorflow:Assets written to: /root/chest x-ray/image_classification/saved_models/cirfar10/assets\n",
      "1563/1562 [==============================] - 36s 23ms/step - loss: 0.7612 - categorical_accuracy: 0.7380 - val_loss: 0.7690 - val_categorical_accuracy: 0.7432\n",
      "Epoch 47/70\n",
      "1561/1562 [============================>.] - ETA: 0s - loss: 0.7592 - categorical_accuracy: 0.7353\n",
      "Epoch 00047: val_loss did not improve from 0.76898\n",
      "1563/1562 [==============================] - 36s 23ms/step - loss: 0.7592 - categorical_accuracy: 0.7354 - val_loss: 0.7693 - val_categorical_accuracy: 0.7354\n",
      "Epoch 48/70\n",
      "1562/1562 [============================>.] - ETA: 0s - loss: 0.7517 - categorical_accuracy: 0.7399\n",
      "Epoch 00048: val_loss did not improve from 0.76898\n",
      "1563/1562 [==============================] - 35s 23ms/step - loss: 0.7517 - categorical_accuracy: 0.7399 - val_loss: 0.8247 - val_categorical_accuracy: 0.7256\n",
      "Epoch 49/70\n",
      "1561/1562 [============================>.] - ETA: 0s - loss: 0.7475 - categorical_accuracy: 0.7410\n",
      "Epoch 00049: val_loss improved from 0.76898 to 0.74544, saving model to /root/chest x-ray/image_classification/saved_models/cirfar10\n",
      "INFO:tensorflow:Assets written to: /root/chest x-ray/image_classification/saved_models/cirfar10/assets\n",
      "1563/1562 [==============================] - 37s 24ms/step - loss: 0.7474 - categorical_accuracy: 0.7410 - val_loss: 0.7454 - val_categorical_accuracy: 0.7470\n",
      "Epoch 50/70\n",
      "1562/1562 [============================>.] - ETA: 0s - loss: 0.7441 - categorical_accuracy: 0.7423\n",
      "Epoch 00050: val_loss improved from 0.74544 to 0.73160, saving model to /root/chest x-ray/image_classification/saved_models/cirfar10\n",
      "INFO:tensorflow:Assets written to: /root/chest x-ray/image_classification/saved_models/cirfar10/assets\n",
      "1563/1562 [==============================] - 36s 23ms/step - loss: 0.7442 - categorical_accuracy: 0.7423 - val_loss: 0.7316 - val_categorical_accuracy: 0.7506\n",
      "Epoch 51/70\n",
      "1561/1562 [============================>.] - ETA: 0s - loss: 0.7380 - categorical_accuracy: 0.7435\n",
      "Epoch 00051: val_loss did not improve from 0.73160\n",
      "1563/1562 [==============================] - 35s 23ms/step - loss: 0.7378 - categorical_accuracy: 0.7435 - val_loss: 0.7738 - val_categorical_accuracy: 0.7412\n",
      "Epoch 52/70\n",
      "1561/1562 [============================>.] - ETA: 0s - loss: 0.7333 - categorical_accuracy: 0.7483\n",
      "Epoch 00052: val_loss did not improve from 0.73160\n",
      "1563/1562 [==============================] - 35s 22ms/step - loss: 0.7333 - categorical_accuracy: 0.7483 - val_loss: 0.8105 - val_categorical_accuracy: 0.7313\n",
      "Epoch 53/70\n",
      "1561/1562 [============================>.] - ETA: 0s - loss: 0.7282 - categorical_accuracy: 0.7462\n",
      "Epoch 00053: val_loss did not improve from 0.73160\n",
      "1563/1562 [==============================] - 36s 23ms/step - loss: 0.7281 - categorical_accuracy: 0.7463 - val_loss: 0.7870 - val_categorical_accuracy: 0.7387\n",
      "Epoch 54/70\n",
      "1561/1562 [============================>.] - ETA: 0s - loss: 0.7242 - categorical_accuracy: 0.7500\n",
      "Epoch 00054: val_loss did not improve from 0.73160\n",
      "1563/1562 [==============================] - 35s 23ms/step - loss: 0.7244 - categorical_accuracy: 0.7499 - val_loss: 0.7474 - val_categorical_accuracy: 0.7465\n",
      "Epoch 55/70\n",
      "1562/1562 [============================>.] - ETA: 0s - loss: 0.7209 - categorical_accuracy: 0.7513\n",
      "Epoch 00055: val_loss improved from 0.73160 to 0.72440, saving model to /root/chest x-ray/image_classification/saved_models/cirfar10\n",
      "INFO:tensorflow:Assets written to: /root/chest x-ray/image_classification/saved_models/cirfar10/assets\n",
      "1563/1562 [==============================] - 37s 24ms/step - loss: 0.7209 - categorical_accuracy: 0.7513 - val_loss: 0.7244 - val_categorical_accuracy: 0.7533\n",
      "Epoch 56/70\n",
      "1562/1562 [============================>.] - ETA: 0s - loss: 0.7168 - categorical_accuracy: 0.7519\n",
      "Epoch 00056: val_loss did not improve from 0.72440\n",
      "1563/1562 [==============================] - 36s 23ms/step - loss: 0.7168 - categorical_accuracy: 0.7519 - val_loss: 0.7299 - val_categorical_accuracy: 0.7536\n",
      "Epoch 57/70\n",
      "1561/1562 [============================>.] - ETA: 0s - loss: 0.7101 - categorical_accuracy: 0.7541\n",
      "Epoch 00057: val_loss did not improve from 0.72440\n",
      "1563/1562 [==============================] - 36s 23ms/step - loss: 0.7103 - categorical_accuracy: 0.7540 - val_loss: 0.7953 - val_categorical_accuracy: 0.7370\n",
      "Epoch 58/70\n",
      "1561/1562 [============================>.] - ETA: 0s - loss: 0.7110 - categorical_accuracy: 0.7521\n",
      "Epoch 00058: val_loss did not improve from 0.72440\n",
      "1563/1562 [==============================] - 36s 23ms/step - loss: 0.7110 - categorical_accuracy: 0.7521 - val_loss: 0.7690 - val_categorical_accuracy: 0.7404\n",
      "Epoch 59/70\n",
      "1563/1562 [==============================] - ETA: 0s - loss: 0.7072 - categorical_accuracy: 0.7546\n",
      "Epoch 00059: val_loss did not improve from 0.72440\n",
      "1563/1562 [==============================] - 35s 23ms/step - loss: 0.7072 - categorical_accuracy: 0.7546 - val_loss: 0.7354 - val_categorical_accuracy: 0.7557\n",
      "Epoch 60/70\n",
      "1562/1562 [============================>.] - ETA: 0s - loss: 0.7013 - categorical_accuracy: 0.7560\n",
      "Epoch 00060: val_loss did not improve from 0.72440\n",
      "1563/1562 [==============================] - 35s 23ms/step - loss: 0.7014 - categorical_accuracy: 0.7560 - val_loss: 0.8143 - val_categorical_accuracy: 0.7339\n",
      "Epoch 61/70\n",
      "1561/1562 [============================>.] - ETA: 0s - loss: 0.6979 - categorical_accuracy: 0.7591\n",
      "Epoch 00061: val_loss did not improve from 0.72440\n",
      "1563/1562 [==============================] - 35s 22ms/step - loss: 0.6978 - categorical_accuracy: 0.7591 - val_loss: 0.7934 - val_categorical_accuracy: 0.7356\n",
      "Epoch 62/70\n",
      "1562/1562 [============================>.] - ETA: 0s - loss: 0.6961 - categorical_accuracy: 0.7596\n",
      "Epoch 00062: val_loss did not improve from 0.72440\n",
      "1563/1562 [==============================] - 36s 23ms/step - loss: 0.6961 - categorical_accuracy: 0.7597 - val_loss: 0.7541 - val_categorical_accuracy: 0.7484\n",
      "Epoch 63/70\n",
      "1562/1562 [============================>.] - ETA: 0s - loss: 0.6911 - categorical_accuracy: 0.7614\n",
      "Epoch 00063: val_loss did not improve from 0.72440\n",
      "1563/1562 [==============================] - 36s 23ms/step - loss: 0.6913 - categorical_accuracy: 0.7614 - val_loss: 0.7416 - val_categorical_accuracy: 0.7582\n",
      "Epoch 64/70\n",
      "1562/1562 [============================>.] - ETA: 0s - loss: 0.6894 - categorical_accuracy: 0.7602\n",
      "Epoch 00064: val_loss did not improve from 0.72440\n",
      "1563/1562 [==============================] - 36s 23ms/step - loss: 0.6892 - categorical_accuracy: 0.7603 - val_loss: 0.7332 - val_categorical_accuracy: 0.7512\n",
      "Epoch 65/70\n",
      "1560/1562 [============================>.] - ETA: 0s - loss: 0.6823 - categorical_accuracy: 0.7621\n",
      "Epoch 00065: val_loss did not improve from 0.72440\n",
      "1563/1562 [==============================] - 35s 22ms/step - loss: 0.6818 - categorical_accuracy: 0.7623 - val_loss: 0.7369 - val_categorical_accuracy: 0.7536\n",
      "Epoch 66/70\n",
      "1561/1562 [============================>.] - ETA: 0s - loss: 0.6837 - categorical_accuracy: 0.7638\n",
      "Epoch 00066: val_loss did not improve from 0.72440\n",
      "1563/1562 [==============================] - 35s 23ms/step - loss: 0.6836 - categorical_accuracy: 0.7638 - val_loss: 0.7384 - val_categorical_accuracy: 0.7527\n",
      "Epoch 67/70\n",
      "1561/1562 [============================>.] - ETA: 0s - loss: 0.6808 - categorical_accuracy: 0.7631\n",
      "Epoch 00067: val_loss improved from 0.72440 to 0.71152, saving model to /root/chest x-ray/image_classification/saved_models/cirfar10\n",
      "INFO:tensorflow:Assets written to: /root/chest x-ray/image_classification/saved_models/cirfar10/assets\n",
      "1563/1562 [==============================] - 37s 24ms/step - loss: 0.6806 - categorical_accuracy: 0.7633 - val_loss: 0.7115 - val_categorical_accuracy: 0.7582\n",
      "Epoch 68/70\n",
      "1563/1562 [==============================] - ETA: 0s - loss: 0.6742 - categorical_accuracy: 0.7669\n",
      "Epoch 00068: val_loss improved from 0.71152 to 0.70103, saving model to /root/chest x-ray/image_classification/saved_models/cirfar10\n",
      "INFO:tensorflow:Assets written to: /root/chest x-ray/image_classification/saved_models/cirfar10/assets\n",
      "1563/1562 [==============================] - 36s 23ms/step - loss: 0.6742 - categorical_accuracy: 0.7669 - val_loss: 0.7010 - val_categorical_accuracy: 0.7671\n",
      "Epoch 69/70\n",
      "1563/1562 [==============================] - ETA: 0s - loss: 0.6739 - categorical_accuracy: 0.7663\n",
      "Epoch 00069: val_loss did not improve from 0.70103\n",
      "1563/1562 [==============================] - 36s 23ms/step - loss: 0.6739 - categorical_accuracy: 0.7663 - val_loss: 0.7130 - val_categorical_accuracy: 0.7627\n",
      "Epoch 70/70\n",
      "1563/1562 [==============================] - ETA: 0s - loss: 0.6690 - categorical_accuracy: 0.7688\n",
      "Epoch 00070: val_loss did not improve from 0.70103\n",
      "1563/1562 [==============================] - 36s 23ms/step - loss: 0.6690 - categorical_accuracy: 0.7688 - val_loss: 0.7122 - val_categorical_accuracy: 0.7626\n"
     ]
    }
   ],
   "source": [
    "#開始訓練，順便把訓練過程存到model_history，方便後續畫圖\n",
    "model_history=model.fit(datagen.flow(x_train, y_train, batch_size=32), epochs=70, \n",
    "                        steps_per_epoch=len(x_train)/32, validation_data=(x_test,y_test), callbacks=[earlystop, checkpoint])"
   ]
  },
  {
   "cell_type": "code",
   "execution_count": null,
   "metadata": {},
   "outputs": [],
   "source": []
  },
  {
   "cell_type": "markdown",
   "metadata": {},
   "source": [
    "## 畫圖"
   ]
  },
  {
   "cell_type": "code",
   "execution_count": 33,
   "metadata": {},
   "outputs": [
    {
     "data": {
      "text/plain": [
       "dict_keys(['loss', 'categorical_accuracy', 'val_loss', 'val_categorical_accuracy'])"
      ]
     },
     "execution_count": 33,
     "metadata": {},
     "output_type": "execute_result"
    }
   ],
   "source": [
    "model_history.history.keys()"
   ]
  },
  {
   "cell_type": "code",
   "execution_count": 34,
   "metadata": {},
   "outputs": [],
   "source": [
    "training_loss = model_history.history['loss']\n",
    "val_loss = model_history.history['val_loss']\n",
    "\n",
    "training_acc = model_history.history['categorical_accuracy']\n",
    "val_acc = model_history.history['val_categorical_accuracy']"
   ]
  },
  {
   "cell_type": "code",
   "execution_count": 35,
   "metadata": {},
   "outputs": [
    {
     "data": {
      "image/png": "[encoded data removed]",
      "text/plain": [
       "<Figure size 1296x504 with 2 Axes>"
      ]
     },
     "metadata": {
      "needs_background": "light"
     },
     "output_type": "display_data"
    }
   ],
   "source": [
    "#畫圖\n",
    "plt.figure(figsize=(18, 7))\n",
    "plt.subplot(121)\n",
    "plt.plot(training_loss, label=\"training_loss\")\n",
    "plt.plot(val_loss, label=\"validation_loss\")\n",
    "plt.xlabel(\"Epochs\")\n",
    "plt.ylabel(\"Loss\")\n",
    "plt.title(\"Learning Curve\")\n",
    "plt.legend(loc='best')\n",
    "\n",
    "plt.subplot(122)\n",
    "plt.plot(training_acc, label=\"training_acc\")\n",
    "plt.plot(val_acc, label=\"validation_acc\")\n",
    "plt.legend(loc='upper left')\n",
    "plt.xlabel(\"Epochs\")\n",
    "plt.ylabel(\"Accuracy\")\n",
    "plt.title(\"Accuracy Curve\")\n",
    "plt.legend(loc='best')\n",
    "\n",
    "plt.show()"
   ]
  },
  {
   "cell_type": "code",
   "execution_count": null,
   "metadata": {},
   "outputs": [],
   "source": []
  },
  {
   "cell_type": "markdown",
   "metadata": {},
   "source": [
    "## 作預測"
   ]
  },
  {
   "cell_type": "code",
   "execution_count": 36,
   "metadata": {},
   "outputs": [],
   "source": [
    "#載入訓練好的模型\n",
    "model = tf.keras.models.load_model(model_path)"
   ]
  },
  {
   "cell_type": "code",
   "execution_count": 25,
   "metadata": {},
   "outputs": [],
   "source": [
    "#使用AI模型作預測\n",
    "pred=model.predict(x_test)"
   ]
  },
  {
   "cell_type": "code",
   "execution_count": 26,
   "metadata": {},
   "outputs": [],
   "source": [
    "#將預測的機率轉換成類別\n",
    "ans=np.argmax(pred, axis=-1)"
   ]
  },
  {
   "cell_type": "code",
   "execution_count": null,
   "metadata": {},
   "outputs": [],
   "source": []
  },
  {
   "cell_type": "code",
   "execution_count": 27,
   "metadata": {},
   "outputs": [
    {
     "name": "stdout",
     "output_type": "stream",
     "text": [
      "[[877  25  17  13   5   2   7  13  27  14]\n",
      " [  6 940   5   2   0   0   1   0   9  37]\n",
      " [ 25   2 826  39  34  15  35  16   3   5]\n",
      " [ 10   4  34 737  41  75  30  51  11   7]\n",
      " [ 11   1  33  31 847  15  24  35   2   1]\n",
      " [  5   3  20 156  26 725  12  45   3   5]\n",
      " [  9   0  23  46   4   2 903   7   1   5]\n",
      " [  7   1   4  15  26  21   3 914   2   7]\n",
      " [ 54  23   4   9   2   0   1   2 894  11]\n",
      " [ 11  51   1   5   0   0   0   7  12 913]]\n"
     ]
    }
   ],
   "source": [
    "#畫出混淆矩陣\n",
    "from sklearn.metrics import confusion_matrix\n",
    "\n",
    "cf_matrix = confusion_matrix(Y_test, ans)\n",
    "print(cf_matrix)"
   ]
  },
  {
   "cell_type": "code",
   "execution_count": 28,
   "metadata": {},
   "outputs": [
    {
     "data": {
      "text/plain": [
       "<AxesSubplot:>"
      ]
     },
     "execution_count": 28,
     "metadata": {},
     "output_type": "execute_result"
    },
    {
     "data": {
      "image/png": "[encoded data removed]",
      "text/plain": [
       "<Figure size 936x936 with 2 Axes>"
      ]
     },
     "metadata": {
      "needs_background": "light"
     },
     "output_type": "display_data"
    }
   ],
   "source": [
    "#對混淆矩陣畫圖\n",
    "import seaborn as sns\n",
    "fig, ax = plt.subplots(figsize=(13,13))\n",
    "sns.heatmap(cf_matrix, fmt='g', annot=True, annot_kws={\"size\":12})"
   ]
  },
  {
   "cell_type": "code",
   "execution_count": null,
   "metadata": {},
   "outputs": [],
   "source": []
  },
  {
   "cell_type": "code",
   "execution_count": 29,
   "metadata": {},
   "outputs": [
    {
     "name": "stdout",
     "output_type": "stream",
     "text": [
      "              precision    recall  f1-score   support\n",
      "\n",
      "           0       0.86      0.88      0.87      1000\n",
      "           1       0.90      0.94      0.92      1000\n",
      "           2       0.85      0.83      0.84      1000\n",
      "           3       0.70      0.74      0.72      1000\n",
      "           4       0.86      0.85      0.85      1000\n",
      "           5       0.85      0.72      0.78      1000\n",
      "           6       0.89      0.90      0.90      1000\n",
      "           7       0.84      0.91      0.87      1000\n",
      "           8       0.93      0.89      0.91      1000\n",
      "           9       0.91      0.91      0.91      1000\n",
      "\n",
      "    accuracy                           0.86     10000\n",
      "   macro avg       0.86      0.86      0.86     10000\n",
      "weighted avg       0.86      0.86      0.86     10000\n",
      "\n"
     ]
    }
   ],
   "source": [
    "#計算統計指標\n",
    "from sklearn.metrics import classification_report\n",
    "report = classification_report(Y_test, ans)\n",
    "print(report)"
   ]
  },
  {
   "cell_type": "code",
   "execution_count": null,
   "metadata": {},
   "outputs": [],
   "source": []
  },
  {
   "cell_type": "code",
   "execution_count": null,
   "metadata": {},
   "outputs": [],
   "source": []
  }
 ],
 "metadata": {
  "kernelspec": {
   "display_name": "Python 3 (ipykernel)",
   "language": "python",
   "name": "python3"
  },
  "language_info": {
   "codemirror_mode": {
    "name": "ipython",
    "version": 3
   },
   "file_extension": ".py",
   "mimetype": "text/x-python",
   "name": "python",
   "nbconvert_exporter": "python",
   "pygments_lexer": "ipython3",
   "version": "3.8.10"
  }
 },
 "nbformat": 4,
 "nbformat_minor": 4
}
