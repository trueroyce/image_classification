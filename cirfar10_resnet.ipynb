{
 "cells": [
  {
   "cell_type": "markdown",
   "metadata": {},
   "source": [
    "# 使用Cifar10練習影像分類，遷移學習"
   ]
  },
  {
   "cell_type": "code",
   "execution_count": 2,
   "metadata": {},
   "outputs": [],
   "source": [
    "#匯入函式庫，數值矩陣計算numpy，以及畫圖用的matplotlib\n",
    "import numpy as np\n",
    "import matplotlib.pyplot as plt\n",
    "\n",
    "#匯入\n",
    "import os\n",
    "os.environ['TF_CPP_MIN_LOG_LEVEL']='2'"
   ]
  },
  {
   "cell_type": "code",
   "execution_count": 3,
   "metadata": {},
   "outputs": [],
   "source": [
    "#匯入tensorflow的函式庫，以及cifar10\n",
    "import tensorflow as tf\n",
    "from tensorflow.keras.datasets import cifar10"
   ]
  },
  {
   "cell_type": "code",
   "execution_count": 4,
   "metadata": {},
   "outputs": [],
   "source": [
    "#註：呼叫這些功能的寫法有兩種，以cifar10為例\n",
    "#一、直接打一整串：tf.keras.datasets.cifar10.load_data()\n",
    "#二、在一開始的地方使用from tensorflow.keras.datasets import cifar10，以後只要用cifar10.load_data()即可"
   ]
  },
  {
   "cell_type": "markdown",
   "metadata": {},
   "source": [
    "## 讀取與檢視資料"
   ]
  },
  {
   "cell_type": "code",
   "execution_count": 5,
   "metadata": {},
   "outputs": [],
   "source": [
    "#使用cifar10的資料集\n",
    "(X_train, Y_train), (X_test, Y_test) = cifar10.load_data()"
   ]
  },
  {
   "cell_type": "code",
   "execution_count": 6,
   "metadata": {},
   "outputs": [
    {
     "data": {
      "text/plain": [
       "(50000, 32, 32, 3)"
      ]
     },
     "execution_count": 6,
     "metadata": {},
     "output_type": "execute_result"
    }
   ],
   "source": [
    "X_train.shape"
   ]
  },
  {
   "cell_type": "code",
   "execution_count": 7,
   "metadata": {},
   "outputs": [
    {
     "data": {
      "text/plain": [
       "<matplotlib.image.AxesImage at 0x7f304da154a8>"
      ]
     },
     "execution_count": 7,
     "metadata": {},
     "output_type": "execute_result"
    },
    {
     "data": {
      "image/png": "[encoded data removed]",
      "text/plain": [
       "<Figure size 432x288 with 1 Axes>"
      ]
     },
     "metadata": {
      "needs_background": "light"
     },
     "output_type": "display_data"
    }
   ],
   "source": [
    "plt.imshow(X_train[56])"
   ]
  },
  {
   "cell_type": "code",
   "execution_count": 8,
   "metadata": {},
   "outputs": [],
   "source": [
    "# 0 : airplain (飛機)\n",
    "# 1 : automobile (汽車)\n",
    "# 2 : bird (鳥)\n",
    "# 3 : cat (貓)\n",
    "# 4 : deer (鹿)\n",
    "# 5 : dog (狗)\n",
    "# 6 : frog (青蛙)\n",
    "# 7 : horse (馬)\n",
    "# 8 : ship (船)\n",
    "# 9 : truck (卡車)"
   ]
  },
  {
   "cell_type": "code",
   "execution_count": null,
   "metadata": {},
   "outputs": [],
   "source": []
  },
  {
   "cell_type": "markdown",
   "metadata": {},
   "source": [
    "## 影像前處理"
   ]
  },
  {
   "cell_type": "code",
   "execution_count": 9,
   "metadata": {},
   "outputs": [],
   "source": [
    "#對影像作正規化\n",
    "x_train = X_train.astype('float32')/255\n",
    "x_test = X_test.astype('float32')/255"
   ]
  },
  {
   "cell_type": "code",
   "execution_count": 10,
   "metadata": {},
   "outputs": [],
   "source": [
    "#對類別資料作One-hot encoding\n",
    "y_train = tf.keras.utils.to_categorical(Y_train)\n",
    "y_test = tf.keras.utils.to_categorical(Y_test)"
   ]
  },
  {
   "cell_type": "code",
   "execution_count": null,
   "metadata": {},
   "outputs": [],
   "source": []
  },
  {
   "cell_type": "markdown",
   "metadata": {},
   "source": [
    "## 建立AI模型"
   ]
  },
  {
   "cell_type": "code",
   "execution_count": 18,
   "metadata": {},
   "outputs": [],
   "source": [
    "#撰寫模型\n",
    "input_layer=tf.keras.layers.Input(shape=(32,32,3))\n",
    "\n",
    "x=tf.keras.layers.Conv2D(filters=32, kernel_size=(3,3),padding='same', activation='relu')(input_layer)\n",
    "x=tf.keras.layers.Conv2D(filters=32, kernel_size=(3,3),padding='same', activation='relu')(x)\n",
    "x=tf.keras.layers.MaxPool2D()(x)\n",
    "\n",
    "\n",
    "#殘差網路撰寫範例------------------\n",
    "x_shortcut = x\n",
    "\n",
    "x=tf.keras.layers.Conv2D(filters=32, kernel_size=(3,3),padding='same')(x)\n",
    "x=tf.keras.layers.BatchNormalization()(x)\n",
    "x=tf.keras.layers.Activation('relu')(x)\n",
    "\n",
    "x=tf.keras.layers.Conv2D(filters=32, kernel_size=(3,3),padding='same')(x)\n",
    "x=tf.keras.layers.BatchNormalization()(x)\n",
    "\n",
    "x=tf.keras.layers.Add()([x, x_shortcut])\n",
    "x=tf.keras.layers.Activation('relu')(x)\n",
    "\n",
    "#----------------\n",
    "x_shortcut = x\n",
    "\n",
    "x=tf.keras.layers.Conv2D(filters=32, kernel_size=(3,3),padding='same')(x)\n",
    "x=tf.keras.layers.BatchNormalization()(x)\n",
    "x=tf.keras.layers.Activation('relu')(x)\n",
    "\n",
    "x=tf.keras.layers.Conv2D(filters=32, kernel_size=(3,3),padding='same')(x)\n",
    "x=tf.keras.layers.BatchNormalization()(x)\n",
    "\n",
    "x=tf.keras.layers.Add()([x, x_shortcut])\n",
    "x=tf.keras.layers.Activation('relu')(x)\n",
    "#-----------------------------------------\n",
    "\n",
    "x=tf.keras.layers.AveragePooling2D()(x)\n",
    "\n",
    "x=tf.keras.layers.Flatten()(x)\n",
    "x=tf.keras.layers.Dense(32, activation='relu')(x)\n",
    "#x=tf.keras.layers.Dropout(0.3)(x)\n",
    "\n",
    "output_layer=tf.keras.layers.Dense(10, activation='softmax')(x)"
   ]
  },
  {
   "cell_type": "code",
   "execution_count": null,
   "metadata": {},
   "outputs": [],
   "source": []
  },
  {
   "cell_type": "code",
   "execution_count": 19,
   "metadata": {},
   "outputs": [
    {
     "name": "stdout",
     "output_type": "stream",
     "text": [
      "Model: \"model_1\"\n",
      "__________________________________________________________________________________________________\n",
      "Layer (type)                    Output Shape         Param #     Connected to                     \n",
      "==================================================================================================\n",
      "input_2 (InputLayer)            [(None, 32, 32, 3)]  0                                            \n",
      "__________________________________________________________________________________________________\n",
      "conv2d_5 (Conv2D)               (None, 32, 32, 32)   896         input_2[0][0]                    \n",
      "__________________________________________________________________________________________________\n",
      "conv2d_6 (Conv2D)               (None, 32, 32, 32)   9248        conv2d_5[0][0]                   \n",
      "__________________________________________________________________________________________________\n",
      "max_pooling2d_1 (MaxPooling2D)  (None, 16, 16, 32)   0           conv2d_6[0][0]                   \n",
      "__________________________________________________________________________________________________\n",
      "conv2d_7 (Conv2D)               (None, 16, 16, 32)   9248        max_pooling2d_1[0][0]            \n",
      "__________________________________________________________________________________________________\n",
      "batch_normalization_3 (BatchNor (None, 16, 16, 32)   128         conv2d_7[0][0]                   \n",
      "__________________________________________________________________________________________________\n",
      "activation_3 (Activation)       (None, 16, 16, 32)   0           batch_normalization_3[0][0]      \n",
      "__________________________________________________________________________________________________\n",
      "conv2d_8 (Conv2D)               (None, 16, 16, 32)   9248        activation_3[0][0]               \n",
      "__________________________________________________________________________________________________\n",
      "batch_normalization_4 (BatchNor (None, 16, 16, 32)   128         conv2d_8[0][0]                   \n",
      "__________________________________________________________________________________________________\n",
      "add_1 (Add)                     (None, 16, 16, 32)   0           batch_normalization_4[0][0]      \n",
      "                                                                 max_pooling2d_1[0][0]            \n",
      "__________________________________________________________________________________________________\n",
      "activation_4 (Activation)       (None, 16, 16, 32)   0           add_1[0][0]                      \n",
      "__________________________________________________________________________________________________\n",
      "conv2d_9 (Conv2D)               (None, 16, 16, 32)   9248        activation_4[0][0]               \n",
      "__________________________________________________________________________________________________\n",
      "batch_normalization_5 (BatchNor (None, 16, 16, 32)   128         conv2d_9[0][0]                   \n",
      "__________________________________________________________________________________________________\n",
      "activation_5 (Activation)       (None, 16, 16, 32)   0           batch_normalization_5[0][0]      \n",
      "__________________________________________________________________________________________________\n",
      "conv2d_10 (Conv2D)              (None, 16, 16, 32)   9248        activation_5[0][0]               \n",
      "__________________________________________________________________________________________________\n",
      "batch_normalization_6 (BatchNor (None, 16, 16, 32)   128         conv2d_10[0][0]                  \n",
      "__________________________________________________________________________________________________\n",
      "add_2 (Add)                     (None, 16, 16, 32)   0           batch_normalization_6[0][0]      \n",
      "                                                                 activation_4[0][0]               \n",
      "__________________________________________________________________________________________________\n",
      "activation_6 (Activation)       (None, 16, 16, 32)   0           add_2[0][0]                      \n",
      "__________________________________________________________________________________________________\n",
      "average_pooling2d_1 (AveragePoo (None, 8, 8, 32)     0           activation_6[0][0]               \n",
      "__________________________________________________________________________________________________\n",
      "flatten_1 (Flatten)             (None, 2048)         0           average_pooling2d_1[0][0]        \n",
      "__________________________________________________________________________________________________\n",
      "dense_2 (Dense)                 (None, 32)           65568       flatten_1[0][0]                  \n",
      "__________________________________________________________________________________________________\n",
      "dense_3 (Dense)                 (None, 10)           330         dense_2[0][0]                    \n",
      "==================================================================================================\n",
      "Total params: 113,546\n",
      "Trainable params: 113,290\n",
      "Non-trainable params: 256\n",
      "__________________________________________________________________________________________________\n"
     ]
    }
   ],
   "source": [
    "model=tf.keras.models.Model(inputs=input_layer, outputs=output_layer)\n",
    "model.summary()"
   ]
  },
  {
   "cell_type": "code",
   "execution_count": null,
   "metadata": {},
   "outputs": [],
   "source": []
  },
  {
   "cell_type": "code",
   "execution_count": 20,
   "metadata": {},
   "outputs": [],
   "source": [
    "#data augmentation相關設定\n",
    "datagen = tf.keras.preprocessing.image.ImageDataGenerator(\n",
    "    rotation_range=10,\n",
    "    width_shift_range=0.1,\n",
    "    height_shift_range=0.1,\n",
    "    horizontal_flip=True)  "
   ]
  },
  {
   "cell_type": "code",
   "execution_count": null,
   "metadata": {},
   "outputs": [],
   "source": []
  },
  {
   "cell_type": "markdown",
   "metadata": {},
   "source": [
    "## 開始訓練"
   ]
  },
  {
   "cell_type": "code",
   "execution_count": 21,
   "metadata": {},
   "outputs": [],
   "source": [
    "#告訴AI學習的方式\n",
    "model.compile(optimizer=tf.keras.optimizers.Adam(learning_rate=0.0001, decay=1e-6),\n",
    "              loss=tf.keras.losses.CategoricalCrossentropy(),\n",
    "              metrics=[tf.keras.metrics.CategoricalAccuracy()])\n"
   ]
  },
  {
   "cell_type": "code",
   "execution_count": 22,
   "metadata": {},
   "outputs": [],
   "source": [
    "#將訓練的模型置放於model_path下的model_name\n",
    "model_name = 'cirfar10'\n",
    "\n",
    "save_dir = os.path.join(os.getcwd(), 'saved_models')\n",
    "if not os.path.isdir(save_dir):\n",
    "    os.makedirs(save_dir)\n",
    "    \n",
    "model_path = os.path.join(save_dir, model_name)"
   ]
  },
  {
   "cell_type": "code",
   "execution_count": 23,
   "metadata": {},
   "outputs": [],
   "source": [
    "#設定模型存放方式(只存Validation表現最好的那一次)\n",
    "checkpoint = tf.keras.callbacks.ModelCheckpoint(model_path, monitor = 'val_loss', save_best_only = True, verbose = 1)\n",
    "\n",
    "#設定多久沒進步就停下來\n",
    "earlystop = tf.keras.callbacks.EarlyStopping(monitor = 'val_loss', patience = 20, verbose = 1)"
   ]
  },
  {
   "cell_type": "code",
   "execution_count": 24,
   "metadata": {},
   "outputs": [
    {
     "name": "stdout",
     "output_type": "stream",
     "text": [
      "Epoch 1/70\n",
      "1563/1562 [==============================] - ETA: 0s - loss: 1.6637 - categorical_accuracy: 0.4014\n",
      "Epoch 00001: val_loss improved from inf to 1.92342, saving model to /root/chest x-ray/image_classification/saved_models/cirfar10\n",
      "INFO:tensorflow:Assets written to: /root/chest x-ray/image_classification/saved_models/cirfar10/assets\n",
      "1563/1562 [==============================] - 39s 25ms/step - loss: 1.6637 - categorical_accuracy: 0.4014 - val_loss: 1.9234 - val_categorical_accuracy: 0.3649\n",
      "Epoch 2/70\n",
      "1561/1562 [============================>.] - ETA: 0s - loss: 1.3393 - categorical_accuracy: 0.5145\n",
      "Epoch 00002: val_loss improved from 1.92342 to 1.37676, saving model to /root/chest x-ray/image_classification/saved_models/cirfar10\n",
      "INFO:tensorflow:Assets written to: /root/chest x-ray/image_classification/saved_models/cirfar10/assets\n",
      "1563/1562 [==============================] - 38s 24ms/step - loss: 1.3393 - categorical_accuracy: 0.5145 - val_loss: 1.3768 - val_categorical_accuracy: 0.4998\n",
      "Epoch 3/70\n",
      "1563/1562 [==============================] - ETA: 0s - loss: 1.2272 - categorical_accuracy: 0.5574\n",
      "Epoch 00003: val_loss did not improve from 1.37676\n",
      "1563/1562 [==============================] - 35s 23ms/step - loss: 1.2272 - categorical_accuracy: 0.5574 - val_loss: 1.7862 - val_categorical_accuracy: 0.4656\n",
      "Epoch 4/70\n",
      "1561/1562 [============================>.] - ETA: 0s - loss: 1.1322 - categorical_accuracy: 0.5941\n",
      "Epoch 00004: val_loss did not improve from 1.37676\n",
      "1563/1562 [==============================] - 36s 23ms/step - loss: 1.1321 - categorical_accuracy: 0.5943 - val_loss: 1.4380 - val_categorical_accuracy: 0.5300\n",
      "Epoch 5/70\n",
      "1561/1562 [============================>.] - ETA: 0s - loss: 1.0590 - categorical_accuracy: 0.6234\n",
      "Epoch 00005: val_loss did not improve from 1.37676\n",
      "1563/1562 [==============================] - 36s 23ms/step - loss: 1.0592 - categorical_accuracy: 0.6234 - val_loss: 1.5629 - val_categorical_accuracy: 0.5070\n",
      "Epoch 6/70\n",
      "1563/1562 [==============================] - ETA: 0s - loss: 0.9986 - categorical_accuracy: 0.6453\n",
      "Epoch 00006: val_loss improved from 1.37676 to 1.25725, saving model to /root/chest x-ray/image_classification/saved_models/cirfar10\n",
      "INFO:tensorflow:Assets written to: /root/chest x-ray/image_classification/saved_models/cirfar10/assets\n",
      "1563/1562 [==============================] - 39s 25ms/step - loss: 0.9986 - categorical_accuracy: 0.6453 - val_loss: 1.2573 - val_categorical_accuracy: 0.5767\n",
      "Epoch 7/70\n",
      "1563/1562 [==============================] - ETA: 0s - loss: 0.9504 - categorical_accuracy: 0.6635\n",
      "Epoch 00007: val_loss improved from 1.25725 to 1.10670, saving model to /root/chest x-ray/image_classification/saved_models/cirfar10\n",
      "INFO:tensorflow:Assets written to: /root/chest x-ray/image_classification/saved_models/cirfar10/assets\n",
      "1563/1562 [==============================] - 39s 25ms/step - loss: 0.9504 - categorical_accuracy: 0.6635 - val_loss: 1.1067 - val_categorical_accuracy: 0.6347\n",
      "Epoch 8/70\n",
      "1562/1562 [============================>.] - ETA: 0s - loss: 0.9151 - categorical_accuracy: 0.6807\n",
      "Epoch 00008: val_loss improved from 1.10670 to 1.10341, saving model to /root/chest x-ray/image_classification/saved_models/cirfar10\n",
      "INFO:tensorflow:Assets written to: /root/chest x-ray/image_classification/saved_models/cirfar10/assets\n",
      "1563/1562 [==============================] - 39s 25ms/step - loss: 0.9151 - categorical_accuracy: 0.6806 - val_loss: 1.1034 - val_categorical_accuracy: 0.6348\n",
      "Epoch 9/70\n",
      "1562/1562 [============================>.] - ETA: 0s - loss: 0.8787 - categorical_accuracy: 0.6914\n",
      "Epoch 00009: val_loss did not improve from 1.10341\n",
      "1563/1562 [==============================] - 36s 23ms/step - loss: 0.8787 - categorical_accuracy: 0.6914 - val_loss: 1.1556 - val_categorical_accuracy: 0.6138\n",
      "Epoch 10/70\n",
      "1561/1562 [============================>.] - ETA: 0s - loss: 0.8549 - categorical_accuracy: 0.6998\n",
      "Epoch 00010: val_loss did not improve from 1.10341\n",
      "1563/1562 [==============================] - 36s 23ms/step - loss: 0.8549 - categorical_accuracy: 0.6998 - val_loss: 1.4896 - val_categorical_accuracy: 0.5646\n",
      "Epoch 11/70\n",
      "1563/1562 [==============================] - ETA: 0s - loss: 0.8314 - categorical_accuracy: 0.7075\n",
      "Epoch 00011: val_loss improved from 1.10341 to 0.89107, saving model to /root/chest x-ray/image_classification/saved_models/cirfar10\n",
      "INFO:tensorflow:Assets written to: /root/chest x-ray/image_classification/saved_models/cirfar10/assets\n",
      "1563/1562 [==============================] - 38s 25ms/step - loss: 0.8314 - categorical_accuracy: 0.7075 - val_loss: 0.8911 - val_categorical_accuracy: 0.6855\n",
      "Epoch 12/70\n",
      "1561/1562 [============================>.] - ETA: 0s - loss: 0.8102 - categorical_accuracy: 0.7148\n",
      "Epoch 00012: val_loss did not improve from 0.89107\n",
      "1563/1562 [==============================] - 36s 23ms/step - loss: 0.8101 - categorical_accuracy: 0.7148 - val_loss: 0.9630 - val_categorical_accuracy: 0.6664\n",
      "Epoch 13/70\n",
      "1561/1562 [============================>.] - ETA: 0s - loss: 0.7897 - categorical_accuracy: 0.7198\n",
      "Epoch 00013: val_loss did not improve from 0.89107\n",
      "1563/1562 [==============================] - 36s 23ms/step - loss: 0.7897 - categorical_accuracy: 0.7199 - val_loss: 1.0478 - val_categorical_accuracy: 0.6582\n",
      "Epoch 14/70\n",
      "1562/1562 [============================>.] - ETA: 0s - loss: 0.7751 - categorical_accuracy: 0.7278\n",
      "Epoch 00014: val_loss did not improve from 0.89107\n",
      "1563/1562 [==============================] - 36s 23ms/step - loss: 0.7750 - categorical_accuracy: 0.7278 - val_loss: 1.1118 - val_categorical_accuracy: 0.6548\n",
      "Epoch 15/70\n",
      "1561/1562 [============================>.] - ETA: 0s - loss: 0.7546 - categorical_accuracy: 0.7348\n",
      "Epoch 00015: val_loss improved from 0.89107 to 0.86262, saving model to /root/chest x-ray/image_classification/saved_models/cirfar10\n",
      "INFO:tensorflow:Assets written to: /root/chest x-ray/image_classification/saved_models/cirfar10/assets\n",
      "1563/1562 [==============================] - 39s 25ms/step - loss: 0.7547 - categorical_accuracy: 0.7348 - val_loss: 0.8626 - val_categorical_accuracy: 0.7093\n",
      "Epoch 16/70\n",
      "1563/1562 [==============================] - ETA: 0s - loss: 0.7395 - categorical_accuracy: 0.7411\n",
      "Epoch 00016: val_loss did not improve from 0.86262\n",
      "1563/1562 [==============================] - 36s 23ms/step - loss: 0.7395 - categorical_accuracy: 0.7411 - val_loss: 0.8901 - val_categorical_accuracy: 0.6998\n",
      "Epoch 17/70\n",
      "1560/1562 [============================>.] - ETA: 0s - loss: 0.7262 - categorical_accuracy: 0.7458\n",
      "Epoch 00017: val_loss improved from 0.86262 to 0.74726, saving model to /root/chest x-ray/image_classification/saved_models/cirfar10\n",
      "INFO:tensorflow:Assets written to: /root/chest x-ray/image_classification/saved_models/cirfar10/assets\n",
      "1563/1562 [==============================] - 39s 25ms/step - loss: 0.7260 - categorical_accuracy: 0.7458 - val_loss: 0.7473 - val_categorical_accuracy: 0.7417\n",
      "Epoch 18/70\n",
      "1562/1562 [============================>.] - ETA: 0s - loss: 0.7176 - categorical_accuracy: 0.7501\n",
      "Epoch 00018: val_loss did not improve from 0.74726\n",
      "1563/1562 [==============================] - 36s 23ms/step - loss: 0.7177 - categorical_accuracy: 0.7500 - val_loss: 1.2548 - val_categorical_accuracy: 0.6175\n",
      "Epoch 19/70\n",
      "1563/1562 [==============================] - ETA: 0s - loss: 0.7040 - categorical_accuracy: 0.7555\n",
      "Epoch 00019: val_loss did not improve from 0.74726\n",
      "1563/1562 [==============================] - 36s 23ms/step - loss: 0.7040 - categorical_accuracy: 0.7555 - val_loss: 0.7747 - val_categorical_accuracy: 0.7330\n",
      "Epoch 20/70\n",
      "1563/1562 [==============================] - ETA: 0s - loss: 0.6929 - categorical_accuracy: 0.7574\n",
      "Epoch 00020: val_loss improved from 0.74726 to 0.74383, saving model to /root/chest x-ray/image_classification/saved_models/cirfar10\n",
      "INFO:tensorflow:Assets written to: /root/chest x-ray/image_classification/saved_models/cirfar10/assets\n",
      "1563/1562 [==============================] - 38s 25ms/step - loss: 0.6929 - categorical_accuracy: 0.7574 - val_loss: 0.7438 - val_categorical_accuracy: 0.7361\n",
      "Epoch 21/70\n",
      "1561/1562 [============================>.] - ETA: 0s - loss: 0.6763 - categorical_accuracy: 0.7625\n",
      "Epoch 00021: val_loss did not improve from 0.74383\n",
      "1563/1562 [==============================] - 36s 23ms/step - loss: 0.6765 - categorical_accuracy: 0.7624 - val_loss: 1.1017 - val_categorical_accuracy: 0.6658\n",
      "Epoch 22/70\n",
      "1562/1562 [============================>.] - ETA: 0s - loss: 0.6713 - categorical_accuracy: 0.7647\n",
      "Epoch 00022: val_loss did not improve from 0.74383\n",
      "1563/1562 [==============================] - 37s 23ms/step - loss: 0.6713 - categorical_accuracy: 0.7647 - val_loss: 1.0981 - val_categorical_accuracy: 0.6554\n",
      "Epoch 23/70\n",
      "1561/1562 [============================>.] - ETA: 0s - loss: 0.6629 - categorical_accuracy: 0.7657\n",
      "Epoch 00023: val_loss did not improve from 0.74383\n",
      "1563/1562 [==============================] - 36s 23ms/step - loss: 0.6629 - categorical_accuracy: 0.7656 - val_loss: 0.8244 - val_categorical_accuracy: 0.7243\n",
      "Epoch 24/70\n",
      "1563/1562 [==============================] - ETA: 0s - loss: 0.6532 - categorical_accuracy: 0.7721\n",
      "Epoch 00024: val_loss did not improve from 0.74383\n",
      "1563/1562 [==============================] - 37s 24ms/step - loss: 0.6532 - categorical_accuracy: 0.7721 - val_loss: 0.7734 - val_categorical_accuracy: 0.7413\n",
      "Epoch 25/70\n",
      "1562/1562 [============================>.] - ETA: 0s - loss: 0.6414 - categorical_accuracy: 0.7751\n",
      "Epoch 00025: val_loss did not improve from 0.74383\n",
      "1563/1562 [==============================] - 36s 23ms/step - loss: 0.6414 - categorical_accuracy: 0.7751 - val_loss: 0.8599 - val_categorical_accuracy: 0.7189\n",
      "Epoch 26/70\n",
      "1560/1562 [============================>.] - ETA: 0s - loss: 0.6384 - categorical_accuracy: 0.7762\n",
      "Epoch 00026: val_loss did not improve from 0.74383\n",
      "1563/1562 [==============================] - 36s 23ms/step - loss: 0.6385 - categorical_accuracy: 0.7762 - val_loss: 0.9292 - val_categorical_accuracy: 0.7079\n",
      "Epoch 27/70\n",
      "1562/1562 [============================>.] - ETA: 0s - loss: 0.6293 - categorical_accuracy: 0.7783\n",
      "Epoch 00027: val_loss improved from 0.74383 to 0.73759, saving model to /root/chest x-ray/image_classification/saved_models/cirfar10\n",
      "INFO:tensorflow:Assets written to: /root/chest x-ray/image_classification/saved_models/cirfar10/assets\n",
      "1563/1562 [==============================] - 38s 25ms/step - loss: 0.6293 - categorical_accuracy: 0.7782 - val_loss: 0.7376 - val_categorical_accuracy: 0.7500\n",
      "Epoch 28/70\n",
      "1562/1562 [============================>.] - ETA: 0s - loss: 0.6232 - categorical_accuracy: 0.7821\n",
      "Epoch 00028: val_loss did not improve from 0.73759\n",
      "1563/1562 [==============================] - 36s 23ms/step - loss: 0.6232 - categorical_accuracy: 0.7821 - val_loss: 0.8049 - val_categorical_accuracy: 0.7315\n",
      "Epoch 29/70\n",
      "1561/1562 [============================>.] - ETA: 0s - loss: 0.6184 - categorical_accuracy: 0.7843\n",
      "Epoch 00029: val_loss improved from 0.73759 to 0.69009, saving model to /root/chest x-ray/image_classification/saved_models/cirfar10\n",
      "INFO:tensorflow:Assets written to: /root/chest x-ray/image_classification/saved_models/cirfar10/assets\n",
      "1563/1562 [==============================] - 39s 25ms/step - loss: 0.6185 - categorical_accuracy: 0.7843 - val_loss: 0.6901 - val_categorical_accuracy: 0.7646\n",
      "Epoch 30/70\n",
      "1562/1562 [============================>.] - ETA: 0s - loss: 0.6084 - categorical_accuracy: 0.7877\n",
      "Epoch 00030: val_loss did not improve from 0.69009\n",
      "1563/1562 [==============================] - 36s 23ms/step - loss: 0.6085 - categorical_accuracy: 0.7876 - val_loss: 0.7573 - val_categorical_accuracy: 0.7534\n",
      "Epoch 31/70\n",
      "1562/1562 [============================>.] - ETA: 0s - loss: 0.6051 - categorical_accuracy: 0.7894\n",
      "Epoch 00031: val_loss did not improve from 0.69009\n",
      "1563/1562 [==============================] - 36s 23ms/step - loss: 0.6050 - categorical_accuracy: 0.7894 - val_loss: 0.7159 - val_categorical_accuracy: 0.7649\n",
      "Epoch 32/70\n",
      "1562/1562 [============================>.] - ETA: 0s - loss: 0.5981 - categorical_accuracy: 0.7923\n",
      "Epoch 00032: val_loss did not improve from 0.69009\n",
      "1563/1562 [==============================] - 36s 23ms/step - loss: 0.5981 - categorical_accuracy: 0.7923 - val_loss: 0.7889 - val_categorical_accuracy: 0.7413\n",
      "Epoch 33/70\n",
      "1562/1562 [============================>.] - ETA: 0s - loss: 0.5909 - categorical_accuracy: 0.7932\n",
      "Epoch 00033: val_loss did not improve from 0.69009\n",
      "1563/1562 [==============================] - 36s 23ms/step - loss: 0.5909 - categorical_accuracy: 0.7932 - val_loss: 0.7358 - val_categorical_accuracy: 0.7575\n",
      "Epoch 34/70\n",
      "1563/1562 [==============================] - ETA: 0s - loss: 0.5874 - categorical_accuracy: 0.7944\n",
      "Epoch 00034: val_loss improved from 0.69009 to 0.67090, saving model to /root/chest x-ray/image_classification/saved_models/cirfar10\n",
      "INFO:tensorflow:Assets written to: /root/chest x-ray/image_classification/saved_models/cirfar10/assets\n",
      "1563/1562 [==============================] - 39s 25ms/step - loss: 0.5874 - categorical_accuracy: 0.7944 - val_loss: 0.6709 - val_categorical_accuracy: 0.7780\n",
      "Epoch 35/70\n",
      "1561/1562 [============================>.] - ETA: 0s - loss: 0.5795 - categorical_accuracy: 0.7978\n",
      "Epoch 00035: val_loss did not improve from 0.67090\n",
      "1563/1562 [==============================] - 36s 23ms/step - loss: 0.5794 - categorical_accuracy: 0.7978 - val_loss: 0.7034 - val_categorical_accuracy: 0.7638\n",
      "Epoch 36/70\n",
      "1561/1562 [============================>.] - ETA: 0s - loss: 0.5717 - categorical_accuracy: 0.8000\n",
      "Epoch 00036: val_loss did not improve from 0.67090\n",
      "1563/1562 [==============================] - 36s 23ms/step - loss: 0.5717 - categorical_accuracy: 0.7999 - val_loss: 0.8361 - val_categorical_accuracy: 0.7415\n",
      "Epoch 37/70\n",
      "1563/1562 [==============================] - ETA: 0s - loss: 0.5716 - categorical_accuracy: 0.8002\n",
      "Epoch 00037: val_loss improved from 0.67090 to 0.62384, saving model to /root/chest x-ray/image_classification/saved_models/cirfar10\n",
      "INFO:tensorflow:Assets written to: /root/chest x-ray/image_classification/saved_models/cirfar10/assets\n",
      "1563/1562 [==============================] - 38s 24ms/step - loss: 0.5716 - categorical_accuracy: 0.8002 - val_loss: 0.6238 - val_categorical_accuracy: 0.7902\n",
      "Epoch 38/70\n",
      "1562/1562 [============================>.] - ETA: 0s - loss: 0.5635 - categorical_accuracy: 0.8027\n",
      "Epoch 00038: val_loss did not improve from 0.62384\n",
      "1563/1562 [==============================] - 36s 23ms/step - loss: 0.5635 - categorical_accuracy: 0.8027 - val_loss: 0.6709 - val_categorical_accuracy: 0.7777\n",
      "Epoch 39/70\n",
      "1562/1562 [============================>.] - ETA: 0s - loss: 0.5650 - categorical_accuracy: 0.8030\n",
      "Epoch 00039: val_loss did not improve from 0.62384\n",
      "1563/1562 [==============================] - 36s 23ms/step - loss: 0.5650 - categorical_accuracy: 0.8031 - val_loss: 0.6375 - val_categorical_accuracy: 0.7854\n",
      "Epoch 40/70\n",
      "1562/1562 [============================>.] - ETA: 0s - loss: 0.5565 - categorical_accuracy: 0.8053\n",
      "Epoch 00040: val_loss did not improve from 0.62384\n",
      "1563/1562 [==============================] - 36s 23ms/step - loss: 0.5565 - categorical_accuracy: 0.8053 - val_loss: 0.7084 - val_categorical_accuracy: 0.7735\n",
      "Epoch 41/70\n",
      "1562/1562 [============================>.] - ETA: 0s - loss: 0.5517 - categorical_accuracy: 0.8080\n",
      "Epoch 00041: val_loss did not improve from 0.62384\n",
      "1563/1562 [==============================] - 36s 23ms/step - loss: 0.5516 - categorical_accuracy: 0.8081 - val_loss: 0.8244 - val_categorical_accuracy: 0.7451\n",
      "Epoch 42/70\n",
      "1561/1562 [============================>.] - ETA: 0s - loss: 0.5496 - categorical_accuracy: 0.8090\n",
      "Epoch 00042: val_loss did not improve from 0.62384\n",
      "1563/1562 [==============================] - 36s 23ms/step - loss: 0.5498 - categorical_accuracy: 0.8089 - val_loss: 0.6959 - val_categorical_accuracy: 0.7723\n",
      "Epoch 43/70\n",
      "1562/1562 [============================>.] - ETA: 0s - loss: 0.5432 - categorical_accuracy: 0.8100\n",
      "Epoch 00043: val_loss improved from 0.62384 to 0.60535, saving model to /root/chest x-ray/image_classification/saved_models/cirfar10\n",
      "INFO:tensorflow:Assets written to: /root/chest x-ray/image_classification/saved_models/cirfar10/assets\n",
      "1563/1562 [==============================] - 39s 25ms/step - loss: 0.5432 - categorical_accuracy: 0.8100 - val_loss: 0.6054 - val_categorical_accuracy: 0.7966\n",
      "Epoch 44/70\n",
      "1561/1562 [============================>.] - ETA: 0s - loss: 0.5421 - categorical_accuracy: 0.8103\n",
      "Epoch 00044: val_loss did not improve from 0.60535\n",
      "1563/1562 [==============================] - 36s 23ms/step - loss: 0.5421 - categorical_accuracy: 0.8103 - val_loss: 0.6140 - val_categorical_accuracy: 0.7905\n",
      "Epoch 45/70\n",
      "1560/1562 [============================>.] - ETA: 0s - loss: 0.5374 - categorical_accuracy: 0.8131\n",
      "Epoch 00045: val_loss did not improve from 0.60535\n",
      "1563/1562 [==============================] - 36s 23ms/step - loss: 0.5370 - categorical_accuracy: 0.8132 - val_loss: 0.6950 - val_categorical_accuracy: 0.7737\n",
      "Epoch 46/70\n",
      "1563/1562 [==============================] - ETA: 0s - loss: 0.5343 - categorical_accuracy: 0.8135 ETA: 0s - loss: 0.5340 - categorical_accuracy: 0.81\n",
      "Epoch 00046: val_loss did not improve from 0.60535\n",
      "1563/1562 [==============================] - 37s 24ms/step - loss: 0.5343 - categorical_accuracy: 0.8135 - val_loss: 0.7468 - val_categorical_accuracy: 0.7609\n",
      "Epoch 47/70\n",
      "1563/1562 [==============================] - ETA: 0s - loss: 0.5267 - categorical_accuracy: 0.8161\n",
      "Epoch 00047: val_loss did not improve from 0.60535\n",
      "1563/1562 [==============================] - 37s 23ms/step - loss: 0.5267 - categorical_accuracy: 0.8161 - val_loss: 0.7059 - val_categorical_accuracy: 0.7768\n",
      "Epoch 48/70\n",
      "1563/1562 [==============================] - ETA: 0s - loss: 0.5267 - categorical_accuracy: 0.8143\n",
      "Epoch 00048: val_loss did not improve from 0.60535\n",
      "1563/1562 [==============================] - 36s 23ms/step - loss: 0.5267 - categorical_accuracy: 0.8143 - val_loss: 0.6446 - val_categorical_accuracy: 0.7880\n",
      "Epoch 49/70\n",
      "1560/1562 [============================>.] - ETA: 0s - loss: 0.5222 - categorical_accuracy: 0.8181\n",
      "Epoch 00049: val_loss did not improve from 0.60535\n",
      "1563/1562 [==============================] - 36s 23ms/step - loss: 0.5223 - categorical_accuracy: 0.8181 - val_loss: 0.6838 - val_categorical_accuracy: 0.7768\n",
      "Epoch 50/70\n",
      "1561/1562 [============================>.] - ETA: 0s - loss: 0.5172 - categorical_accuracy: 0.8206\n",
      "Epoch 00050: val_loss did not improve from 0.60535\n",
      "1563/1562 [==============================] - 36s 23ms/step - loss: 0.5172 - categorical_accuracy: 0.8206 - val_loss: 0.6398 - val_categorical_accuracy: 0.7892\n",
      "Epoch 51/70\n",
      "1561/1562 [============================>.] - ETA: 0s - loss: 0.5131 - categorical_accuracy: 0.8210\n",
      "Epoch 00051: val_loss did not improve from 0.60535\n",
      "1563/1562 [==============================] - 36s 23ms/step - loss: 0.5129 - categorical_accuracy: 0.8211 - val_loss: 0.6160 - val_categorical_accuracy: 0.7946\n",
      "Epoch 52/70\n",
      "1562/1562 [============================>.] - ETA: 0s - loss: 0.5081 - categorical_accuracy: 0.8238\n",
      "Epoch 00052: val_loss did not improve from 0.60535\n",
      "1563/1562 [==============================] - 36s 23ms/step - loss: 0.5081 - categorical_accuracy: 0.8238 - val_loss: 0.6126 - val_categorical_accuracy: 0.8016\n",
      "Epoch 53/70\n",
      "1563/1562 [==============================] - ETA: 0s - loss: 0.5071 - categorical_accuracy: 0.8228\n",
      "Epoch 00053: val_loss did not improve from 0.60535\n",
      "1563/1562 [==============================] - 36s 23ms/step - loss: 0.5071 - categorical_accuracy: 0.8228 - val_loss: 0.7107 - val_categorical_accuracy: 0.7803\n",
      "Epoch 54/70\n",
      "1561/1562 [============================>.] - ETA: 0s - loss: 0.5046 - categorical_accuracy: 0.8243\n",
      "Epoch 00054: val_loss improved from 0.60535 to 0.57104, saving model to /root/chest x-ray/image_classification/saved_models/cirfar10\n",
      "INFO:tensorflow:Assets written to: /root/chest x-ray/image_classification/saved_models/cirfar10/assets\n",
      "1563/1562 [==============================] - 38s 25ms/step - loss: 0.5047 - categorical_accuracy: 0.8242 - val_loss: 0.5710 - val_categorical_accuracy: 0.8117\n",
      "Epoch 55/70\n",
      "1562/1562 [============================>.] - ETA: 0s - loss: 0.5012 - categorical_accuracy: 0.8236\n",
      "Epoch 00055: val_loss did not improve from 0.57104\n",
      "1563/1562 [==============================] - 36s 23ms/step - loss: 0.5011 - categorical_accuracy: 0.8236 - val_loss: 0.6289 - val_categorical_accuracy: 0.7952\n",
      "Epoch 56/70\n",
      "1563/1562 [==============================] - ETA: 0s - loss: 0.4973 - categorical_accuracy: 0.8266\n",
      "Epoch 00056: val_loss did not improve from 0.57104\n",
      "1563/1562 [==============================] - 36s 23ms/step - loss: 0.4973 - categorical_accuracy: 0.8266 - val_loss: 0.5981 - val_categorical_accuracy: 0.8059\n",
      "Epoch 57/70\n",
      "1563/1562 [==============================] - ETA: 0s - loss: 0.4929 - categorical_accuracy: 0.8285\n",
      "Epoch 00057: val_loss did not improve from 0.57104\n",
      "1563/1562 [==============================] - 36s 23ms/step - loss: 0.4929 - categorical_accuracy: 0.8285 - val_loss: 0.6333 - val_categorical_accuracy: 0.7965\n",
      "Epoch 58/70\n",
      "1563/1562 [==============================] - ETA: 0s - loss: 0.4911 - categorical_accuracy: 0.8287\n",
      "Epoch 00058: val_loss did not improve from 0.57104\n",
      "1563/1562 [==============================] - 37s 24ms/step - loss: 0.4911 - categorical_accuracy: 0.8287 - val_loss: 0.6515 - val_categorical_accuracy: 0.7887\n",
      "Epoch 59/70\n",
      "1562/1562 [============================>.] - ETA: 0s - loss: 0.4883 - categorical_accuracy: 0.8305\n",
      "Epoch 00059: val_loss did not improve from 0.57104\n",
      "1563/1562 [==============================] - 36s 23ms/step - loss: 0.4884 - categorical_accuracy: 0.8305 - val_loss: 0.6328 - val_categorical_accuracy: 0.7986\n",
      "Epoch 60/70\n",
      "1562/1562 [============================>.] - ETA: 0s - loss: 0.4833 - categorical_accuracy: 0.8315\n",
      "Epoch 00060: val_loss did not improve from 0.57104\n",
      "1563/1562 [==============================] - 36s 23ms/step - loss: 0.4833 - categorical_accuracy: 0.8315 - val_loss: 0.6251 - val_categorical_accuracy: 0.7956\n",
      "Epoch 61/70\n",
      "1562/1562 [============================>.] - ETA: 0s - loss: 0.4820 - categorical_accuracy: 0.8304\n",
      "Epoch 00061: val_loss improved from 0.57104 to 0.53140, saving model to /root/chest x-ray/image_classification/saved_models/cirfar10\n",
      "INFO:tensorflow:Assets written to: /root/chest x-ray/image_classification/saved_models/cirfar10/assets\n",
      "1563/1562 [==============================] - 39s 25ms/step - loss: 0.4820 - categorical_accuracy: 0.8304 - val_loss: 0.5314 - val_categorical_accuracy: 0.8220\n",
      "Epoch 62/70\n",
      "1563/1562 [==============================] - ETA: 0s - loss: 0.4829 - categorical_accuracy: 0.8303\n",
      "Epoch 00062: val_loss did not improve from 0.53140\n",
      "1563/1562 [==============================] - 36s 23ms/step - loss: 0.4829 - categorical_accuracy: 0.8303 - val_loss: 0.5574 - val_categorical_accuracy: 0.8153\n",
      "Epoch 63/70\n",
      "1563/1562 [==============================] - ETA: 0s - loss: 0.4790 - categorical_accuracy: 0.8333\n",
      "Epoch 00063: val_loss did not improve from 0.53140\n",
      "1563/1562 [==============================] - 36s 23ms/step - loss: 0.4790 - categorical_accuracy: 0.8333 - val_loss: 0.6813 - val_categorical_accuracy: 0.7843\n",
      "Epoch 64/70\n",
      "1562/1562 [============================>.] - ETA: 0s - loss: 0.4736 - categorical_accuracy: 0.8330 ETA: 1s - loss:\n",
      "Epoch 00064: val_loss did not improve from 0.53140\n",
      "1563/1562 [==============================] - 36s 23ms/step - loss: 0.4736 - categorical_accuracy: 0.8330 - val_loss: 0.5326 - val_categorical_accuracy: 0.8245\n",
      "Epoch 65/70\n",
      "1560/1562 [============================>.] - ETA: 0s - loss: 0.4705 - categorical_accuracy: 0.8339\n",
      "Epoch 00065: val_loss did not improve from 0.53140\n",
      "1563/1562 [==============================] - 36s 23ms/step - loss: 0.4704 - categorical_accuracy: 0.8340 - val_loss: 0.6198 - val_categorical_accuracy: 0.7997\n",
      "Epoch 66/70\n",
      "1561/1562 [============================>.] - ETA: 0s - loss: 0.4725 - categorical_accuracy: 0.8349\n",
      "Epoch 00066: val_loss did not improve from 0.53140\n",
      "1563/1562 [==============================] - 36s 23ms/step - loss: 0.4724 - categorical_accuracy: 0.8349 - val_loss: 0.6983 - val_categorical_accuracy: 0.7756\n",
      "Epoch 67/70\n",
      "1563/1562 [==============================] - ETA: 0s - loss: 0.4716 - categorical_accuracy: 0.8357\n",
      "Epoch 00067: val_loss did not improve from 0.53140\n",
      "1563/1562 [==============================] - 36s 23ms/step - loss: 0.4716 - categorical_accuracy: 0.8357 - val_loss: 0.6276 - val_categorical_accuracy: 0.7991\n",
      "Epoch 68/70\n",
      "1563/1562 [==============================] - ETA: 0s - loss: 0.4680 - categorical_accuracy: 0.8372\n",
      "Epoch 00068: val_loss did not improve from 0.53140\n",
      "1563/1562 [==============================] - 36s 23ms/step - loss: 0.4680 - categorical_accuracy: 0.8372 - val_loss: 0.6156 - val_categorical_accuracy: 0.8036\n",
      "Epoch 69/70\n",
      "1561/1562 [============================>.] - ETA: 0s - loss: 0.4638 - categorical_accuracy: 0.8379\n",
      "Epoch 00069: val_loss did not improve from 0.53140\n",
      "1563/1562 [==============================] - 36s 23ms/step - loss: 0.4638 - categorical_accuracy: 0.8379 - val_loss: 0.6360 - val_categorical_accuracy: 0.8009\n",
      "Epoch 70/70\n",
      "1562/1562 [============================>.] - ETA: 0s - loss: 0.4636 - categorical_accuracy: 0.8375\n",
      "Epoch 00070: val_loss did not improve from 0.53140\n",
      "1563/1562 [==============================] - 36s 23ms/step - loss: 0.4635 - categorical_accuracy: 0.8375 - val_loss: 0.5926 - val_categorical_accuracy: 0.8085\n"
     ]
    }
   ],
   "source": [
    "#開始訓練，順便把訓練過程存到model_history，方便後續畫圖\n",
    "model_history=model.fit(datagen.flow(x_train, y_train, batch_size=32), epochs=70, \n",
    "                        steps_per_epoch=len(x_train)/32, validation_data=(x_test,y_test), callbacks=[earlystop, checkpoint])"
   ]
  },
  {
   "cell_type": "code",
   "execution_count": null,
   "metadata": {},
   "outputs": [],
   "source": []
  },
  {
   "cell_type": "markdown",
   "metadata": {},
   "source": [
    "## 畫圖"
   ]
  },
  {
   "cell_type": "code",
   "execution_count": 25,
   "metadata": {},
   "outputs": [
    {
     "data": {
      "text/plain": [
       "dict_keys(['loss', 'categorical_accuracy', 'val_loss', 'val_categorical_accuracy'])"
      ]
     },
     "execution_count": 25,
     "metadata": {},
     "output_type": "execute_result"
    }
   ],
   "source": [
    "model_history.history.keys()"
   ]
  },
  {
   "cell_type": "code",
   "execution_count": 26,
   "metadata": {},
   "outputs": [],
   "source": [
    "training_loss = model_history.history['loss']\n",
    "val_loss = model_history.history['val_loss']\n",
    "\n",
    "training_acc = model_history.history['categorical_accuracy']\n",
    "val_acc = model_history.history['val_categorical_accuracy']"
   ]
  },
  {
   "cell_type": "code",
   "execution_count": 27,
   "metadata": {},
   "outputs": [
    {
     "data": {
      "image/png": "[encoded data removed]",
      "text/plain": [
       "<Figure size 1296x504 with 2 Axes>"
      ]
     },
     "metadata": {
      "needs_background": "light"
     },
     "output_type": "display_data"
    }
   ],
   "source": [
    "#畫圖\n",
    "plt.figure(figsize=(18, 7))\n",
    "plt.subplot(121)\n",
    "plt.plot(training_loss, label=\"training_loss\")\n",
    "plt.plot(val_loss, label=\"validation_loss\")\n",
    "plt.xlabel(\"Epochs\")\n",
    "plt.ylabel(\"Loss\")\n",
    "plt.title(\"Learning Curve\")\n",
    "plt.legend(loc='best')\n",
    "\n",
    "plt.subplot(122)\n",
    "plt.plot(training_acc, label=\"training_acc\")\n",
    "plt.plot(val_acc, label=\"validation_acc\")\n",
    "plt.legend(loc='upper left')\n",
    "plt.xlabel(\"Epochs\")\n",
    "plt.ylabel(\"Accuracy\")\n",
    "plt.title(\"Accuracy Curve\")\n",
    "plt.legend(loc='best')\n",
    "\n",
    "plt.show()"
   ]
  },
  {
   "cell_type": "code",
   "execution_count": null,
   "metadata": {},
   "outputs": [],
   "source": []
  },
  {
   "cell_type": "markdown",
   "metadata": {},
   "source": [
    "## 作預測"
   ]
  },
  {
   "cell_type": "code",
   "execution_count": 28,
   "metadata": {},
   "outputs": [],
   "source": [
    "#載入訓練好的模型\n",
    "model = tf.keras.models.load_model(model_path)"
   ]
  },
  {
   "cell_type": "code",
   "execution_count": 29,
   "metadata": {},
   "outputs": [],
   "source": [
    "#使用AI模型作預測\n",
    "pred=model.predict(x_test)"
   ]
  },
  {
   "cell_type": "code",
   "execution_count": 30,
   "metadata": {},
   "outputs": [],
   "source": [
    "#將預測的機率轉換成類別\n",
    "ans=np.argmax(pred, axis=-1)"
   ]
  },
  {
   "cell_type": "code",
   "execution_count": null,
   "metadata": {},
   "outputs": [],
   "source": []
  },
  {
   "cell_type": "code",
   "execution_count": 31,
   "metadata": {},
   "outputs": [
    {
     "name": "stdout",
     "output_type": "stream",
     "text": [
      "[[881  20  19   6   5   0   4   8  31  26]\n",
      " [ 11 951   2   0   0   1   1   0   6  28]\n",
      " [ 73   8 751  19  35  26  56  16   9   7]\n",
      " [ 38   9  68 563  45 156  67  19  22  13]\n",
      " [ 14   4  70  16 760  31  50  45   9   1]\n",
      " [ 14   2  54  77  23 776  10  34   2   8]\n",
      " [ 12   5  39  18   9   5 893   5   9   5]\n",
      " [ 18   4  23  11  23  25   4 885   3   4]\n",
      " [ 64  22   4   2   1   0   2   0 886  19]\n",
      " [ 24  79   3   2   1   1   2   5   9 874]]\n"
     ]
    }
   ],
   "source": [
    "#畫出混淆矩陣\n",
    "from sklearn.metrics import confusion_matrix\n",
    "\n",
    "cf_matrix = confusion_matrix(Y_test, ans)\n",
    "print(cf_matrix)"
   ]
  },
  {
   "cell_type": "code",
   "execution_count": 32,
   "metadata": {},
   "outputs": [
    {
     "data": {
      "text/plain": [
       "<AxesSubplot:>"
      ]
     },
     "execution_count": 32,
     "metadata": {},
     "output_type": "execute_result"
    },
    {
     "data": {
      "image/png": "[encoded data removed]",
      "text/plain": [
       "<Figure size 936x936 with 2 Axes>"
      ]
     },
     "metadata": {
      "needs_background": "light"
     },
     "output_type": "display_data"
    }
   ],
   "source": [
    "#對混淆矩陣畫圖\n",
    "import seaborn as sns\n",
    "fig, ax = plt.subplots(figsize=(13,13))\n",
    "sns.heatmap(cf_matrix, fmt='g', annot=True, annot_kws={\"size\":12})"
   ]
  },
  {
   "cell_type": "code",
   "execution_count": null,
   "metadata": {},
   "outputs": [],
   "source": []
  },
  {
   "cell_type": "code",
   "execution_count": 33,
   "metadata": {},
   "outputs": [
    {
     "name": "stdout",
     "output_type": "stream",
     "text": [
      "              precision    recall  f1-score   support\n",
      "\n",
      "           0       0.77      0.88      0.82      1000\n",
      "           1       0.86      0.95      0.90      1000\n",
      "           2       0.73      0.75      0.74      1000\n",
      "           3       0.79      0.56      0.66      1000\n",
      "           4       0.84      0.76      0.80      1000\n",
      "           5       0.76      0.78      0.77      1000\n",
      "           6       0.82      0.89      0.85      1000\n",
      "           7       0.87      0.89      0.88      1000\n",
      "           8       0.90      0.89      0.89      1000\n",
      "           9       0.89      0.87      0.88      1000\n",
      "\n",
      "    accuracy                           0.82     10000\n",
      "   macro avg       0.82      0.82      0.82     10000\n",
      "weighted avg       0.82      0.82      0.82     10000\n",
      "\n"
     ]
    }
   ],
   "source": [
    "#計算統計指標\n",
    "from sklearn.metrics import classification_report\n",
    "report = classification_report(Y_test, ans)\n",
    "print(report)"
   ]
  },
  {
   "cell_type": "code",
   "execution_count": null,
   "metadata": {},
   "outputs": [],
   "source": []
  },
  {
   "cell_type": "code",
   "execution_count": null,
   "metadata": {},
   "outputs": [],
   "source": []
  }
 ],
 "metadata": {
  "kernelspec": {
   "display_name": "Python 3 (ipykernel)",
   "language": "python",
   "name": "python3"
  },
  "language_info": {
   "codemirror_mode": {
    "name": "ipython",
    "version": 3
   },
   "file_extension": ".py",
   "mimetype": "text/x-python",
   "name": "python",
   "nbconvert_exporter": "python",
   "pygments_lexer": "ipython3",
   "version": "3.8.10"
  }
 },
 "nbformat": 4,
 "nbformat_minor": 4
}
